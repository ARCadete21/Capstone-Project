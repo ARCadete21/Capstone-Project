{
 "cells": [
  {
   "cell_type": "code",
   "execution_count": 1,
   "id": "initial_id",
   "metadata": {
    "collapsed": true,
    "ExecuteTime": {
     "end_time": "2024-01-02T17:54:30.009055800Z",
     "start_time": "2024-01-02T17:54:27.766907600Z"
    }
   },
   "outputs": [],
   "source": [
    "        #!pip uninstall langchain\n",
    "from langchain.agents.agent_types import AgentType\n",
    "from langchain.chat_models import ChatOpenAI\n",
    "import pandas as pd\n",
    "from langchain.llms import OpenAI\n",
    "import os\n",
    "import pandas as pd"
   ]
  },
  {
   "cell_type": "code",
   "execution_count": 2,
   "outputs": [],
   "source": [
    "# Import data from FantasyTracker23 folder\n",
    "path = 'F1_Fantasy\\\\FantasyTracker23\\\\TreatedData2023\\\\'\n",
    "df_drivers = pd.read_csv(path + 'F1_2023_Fantasy_Drivers_Standings.csv')\n",
    "df_constructors = pd.read_csv(path + 'F1_2023_Fantasy_Constructors_Standings.csv')\n",
    "df_races = pd.read_csv(path + 'F1_2023_Fantasy_Races.csv')\n"
   ],
   "metadata": {
    "collapsed": false,
    "ExecuteTime": {
     "end_time": "2024-01-02T17:54:30.020116700Z",
     "start_time": "2024-01-02T17:54:30.013055300Z"
    }
   },
   "id": "17d77934bd2e3841"
  },
  {
   "cell_type": "code",
   "execution_count": 12,
   "outputs": [],
   "source": [
    "df_constructors.drop(columns=['BRA', 'BRA1'], inplace=True)"
   ],
   "metadata": {
    "collapsed": false,
    "ExecuteTime": {
     "end_time": "2024-01-02T18:10:08.987421600Z",
     "start_time": "2024-01-02T18:10:08.975424200Z"
    }
   },
   "id": "cfbd03317f927f55"
  },
  {
   "cell_type": "code",
   "execution_count": 14,
   "outputs": [
    {
     "name": "stderr",
     "output_type": "stream",
     "text": [
      "100%|██████████| 3/3 [00:00<00:00, 2998.07it/s]\n"
     ]
    },
    {
     "data": {
      "text/plain": "3"
     },
     "execution_count": 14,
     "metadata": {},
     "output_type": "execute_result"
    }
   ],
   "source": [
    "# Feed JSON data to the agent\n",
    "from langchain.document_loaders import DirectoryLoader, TextLoader\n",
    "\n",
    "#loader = DirectoryLoader('F1_Data', glob='**/*.json', show_progress=True, loader_cls=TextLoader)\n",
    "loader = DirectoryLoader(path, glob='**/*.csv', show_progress=True, loader_cls=TextLoader)\n",
    "\n",
    "docs = loader.load()\n",
    "len(docs)\n",
    "\n"
   ],
   "metadata": {
    "collapsed": false,
    "ExecuteTime": {
     "end_time": "2024-01-02T23:20:34.725716700Z",
     "start_time": "2024-01-02T23:20:34.362110700Z"
    }
   },
   "id": "c79b6847b00b2b43"
  },
  {
   "cell_type": "code",
   "execution_count": 15,
   "outputs": [
    {
     "name": "stderr",
     "output_type": "stream",
     "text": [
      "100%|██████████| 3/3 [00:00<00:00, 3004.52it/s]\n"
     ]
    }
   ],
   "source": [
    "from langchain.indexes import VectorstoreIndexCreator\n",
    "index = VectorstoreIndexCreator().from_loaders([loader])"
   ],
   "metadata": {
    "collapsed": false,
    "ExecuteTime": {
     "end_time": "2024-01-02T23:20:51.384156900Z",
     "start_time": "2024-01-02T23:20:48.510586300Z"
    }
   },
   "id": "c7020ebcaa794593"
  },
  {
   "cell_type": "code",
   "execution_count": 21,
   "outputs": [
    {
     "data": {
      "text/plain": "   Code  RaceNum                   RaceName               Country  \\\n0   BAH        1         Bahrain Grand Prix               Bahrain   \n1   SAU        2   Saudi Arabian Grand Prix          Saudi Arabia   \n2   AUS        3      Australian Grand Prix             Australia   \n3   AZE        4      Azerbaijan Grand Prix            Azerbaijan   \n4   USA        5           Miami Grand Prix                   USA   \n5   ITA        6  Emilia Romagna Grand Prix                 Italy   \n6   MON        7          Monaco Grand Prix                Monaco   \n7   SPA        8         Spanish Grand Prix                 Spain   \n8   CAN        9        Canadian Grand Prix                Canada   \n9   AUT       10        Austrian Grand Prix               Austria   \n10  GBR       11         British Grand Prix        United Kingdom   \n11  HUN       12       Hungarian Grand Prix               Hungary   \n12  BEL       13         Belgian Grand Prix               Belgium   \n13  NET       14           Dutch Grand Prix           Netherlands   \n14  ITA       15         Italian Grand Prix                 Italy   \n15  SIN       16       Singapore Grand Prix             Singapore   \n16  JAP       17        Japanese Grand Prix                 Japan   \n17  QAT       18           Qatar Grand Prix                 Qatar   \n18  USA       19   United States Grand Prix                   USA   \n19  MEX       20         Mexican Grand Prix                Mexico   \n20  BRA       21       Brazilian Grand Prix                Brazil   \n21  USA       22       Las Vegas Grand Prix                   USA   \n22  ABU       23       Abu Dhabi Grand Prix  United Arab Emirates   \n\n                               Circuit  IsSprint  \n0        Bahrain International Circuit     False  \n1                Jeddah Street Circuit     False  \n2                  Albert Park Circuit     False  \n3                    Baku City Circuit      True  \n4        Miami International Autodrome     False  \n5        Autodromo Enzo e Dino Ferrari     False  \n6                    Circuit de Monaco     False  \n7       Circuit de Barcelona-Catalunya     False  \n8            Circuit Gilles Villeneuve     False  \n9                        Red Bull Ring      True  \n10                 Silverstone Circuit     False  \n11                         Hungaroring     False  \n12        Circuit de Spa-Francorchamps      True  \n13                   Circuit Zandvoort     False  \n14        Autodromo Nazionale di Monza     False  \n15           Marina Bay Street Circuit     False  \n16  Suzuka International Racing Course     False  \n17        Losail International Circuit      True  \n18             Circuit of the Americas      True  \n19        Autódromo Hermanos Rodríguez     False  \n20          Autódromo José Carlos Pace      True  \n21             Las Vegas Strip Circuit     False  \n22                  Yas Marina Circuit     False  ",
      "text/html": "<div>\n<style scoped>\n    .dataframe tbody tr th:only-of-type {\n        vertical-align: middle;\n    }\n\n    .dataframe tbody tr th {\n        vertical-align: top;\n    }\n\n    .dataframe thead th {\n        text-align: right;\n    }\n</style>\n<table border=\"1\" class=\"dataframe\">\n  <thead>\n    <tr style=\"text-align: right;\">\n      <th></th>\n      <th>Code</th>\n      <th>RaceNum</th>\n      <th>RaceName</th>\n      <th>Country</th>\n      <th>Circuit</th>\n      <th>IsSprint</th>\n    </tr>\n  </thead>\n  <tbody>\n    <tr>\n      <th>0</th>\n      <td>BAH</td>\n      <td>1</td>\n      <td>Bahrain Grand Prix</td>\n      <td>Bahrain</td>\n      <td>Bahrain International Circuit</td>\n      <td>False</td>\n    </tr>\n    <tr>\n      <th>1</th>\n      <td>SAU</td>\n      <td>2</td>\n      <td>Saudi Arabian Grand Prix</td>\n      <td>Saudi Arabia</td>\n      <td>Jeddah Street Circuit</td>\n      <td>False</td>\n    </tr>\n    <tr>\n      <th>2</th>\n      <td>AUS</td>\n      <td>3</td>\n      <td>Australian Grand Prix</td>\n      <td>Australia</td>\n      <td>Albert Park Circuit</td>\n      <td>False</td>\n    </tr>\n    <tr>\n      <th>3</th>\n      <td>AZE</td>\n      <td>4</td>\n      <td>Azerbaijan Grand Prix</td>\n      <td>Azerbaijan</td>\n      <td>Baku City Circuit</td>\n      <td>True</td>\n    </tr>\n    <tr>\n      <th>4</th>\n      <td>USA</td>\n      <td>5</td>\n      <td>Miami Grand Prix</td>\n      <td>USA</td>\n      <td>Miami International Autodrome</td>\n      <td>False</td>\n    </tr>\n    <tr>\n      <th>5</th>\n      <td>ITA</td>\n      <td>6</td>\n      <td>Emilia Romagna Grand Prix</td>\n      <td>Italy</td>\n      <td>Autodromo Enzo e Dino Ferrari</td>\n      <td>False</td>\n    </tr>\n    <tr>\n      <th>6</th>\n      <td>MON</td>\n      <td>7</td>\n      <td>Monaco Grand Prix</td>\n      <td>Monaco</td>\n      <td>Circuit de Monaco</td>\n      <td>False</td>\n    </tr>\n    <tr>\n      <th>7</th>\n      <td>SPA</td>\n      <td>8</td>\n      <td>Spanish Grand Prix</td>\n      <td>Spain</td>\n      <td>Circuit de Barcelona-Catalunya</td>\n      <td>False</td>\n    </tr>\n    <tr>\n      <th>8</th>\n      <td>CAN</td>\n      <td>9</td>\n      <td>Canadian Grand Prix</td>\n      <td>Canada</td>\n      <td>Circuit Gilles Villeneuve</td>\n      <td>False</td>\n    </tr>\n    <tr>\n      <th>9</th>\n      <td>AUT</td>\n      <td>10</td>\n      <td>Austrian Grand Prix</td>\n      <td>Austria</td>\n      <td>Red Bull Ring</td>\n      <td>True</td>\n    </tr>\n    <tr>\n      <th>10</th>\n      <td>GBR</td>\n      <td>11</td>\n      <td>British Grand Prix</td>\n      <td>United Kingdom</td>\n      <td>Silverstone Circuit</td>\n      <td>False</td>\n    </tr>\n    <tr>\n      <th>11</th>\n      <td>HUN</td>\n      <td>12</td>\n      <td>Hungarian Grand Prix</td>\n      <td>Hungary</td>\n      <td>Hungaroring</td>\n      <td>False</td>\n    </tr>\n    <tr>\n      <th>12</th>\n      <td>BEL</td>\n      <td>13</td>\n      <td>Belgian Grand Prix</td>\n      <td>Belgium</td>\n      <td>Circuit de Spa-Francorchamps</td>\n      <td>True</td>\n    </tr>\n    <tr>\n      <th>13</th>\n      <td>NET</td>\n      <td>14</td>\n      <td>Dutch Grand Prix</td>\n      <td>Netherlands</td>\n      <td>Circuit Zandvoort</td>\n      <td>False</td>\n    </tr>\n    <tr>\n      <th>14</th>\n      <td>ITA</td>\n      <td>15</td>\n      <td>Italian Grand Prix</td>\n      <td>Italy</td>\n      <td>Autodromo Nazionale di Monza</td>\n      <td>False</td>\n    </tr>\n    <tr>\n      <th>15</th>\n      <td>SIN</td>\n      <td>16</td>\n      <td>Singapore Grand Prix</td>\n      <td>Singapore</td>\n      <td>Marina Bay Street Circuit</td>\n      <td>False</td>\n    </tr>\n    <tr>\n      <th>16</th>\n      <td>JAP</td>\n      <td>17</td>\n      <td>Japanese Grand Prix</td>\n      <td>Japan</td>\n      <td>Suzuka International Racing Course</td>\n      <td>False</td>\n    </tr>\n    <tr>\n      <th>17</th>\n      <td>QAT</td>\n      <td>18</td>\n      <td>Qatar Grand Prix</td>\n      <td>Qatar</td>\n      <td>Losail International Circuit</td>\n      <td>True</td>\n    </tr>\n    <tr>\n      <th>18</th>\n      <td>USA</td>\n      <td>19</td>\n      <td>United States Grand Prix</td>\n      <td>USA</td>\n      <td>Circuit of the Americas</td>\n      <td>True</td>\n    </tr>\n    <tr>\n      <th>19</th>\n      <td>MEX</td>\n      <td>20</td>\n      <td>Mexican Grand Prix</td>\n      <td>Mexico</td>\n      <td>Autódromo Hermanos Rodríguez</td>\n      <td>False</td>\n    </tr>\n    <tr>\n      <th>20</th>\n      <td>BRA</td>\n      <td>21</td>\n      <td>Brazilian Grand Prix</td>\n      <td>Brazil</td>\n      <td>Autódromo José Carlos Pace</td>\n      <td>True</td>\n    </tr>\n    <tr>\n      <th>21</th>\n      <td>USA</td>\n      <td>22</td>\n      <td>Las Vegas Grand Prix</td>\n      <td>USA</td>\n      <td>Las Vegas Strip Circuit</td>\n      <td>False</td>\n    </tr>\n    <tr>\n      <th>22</th>\n      <td>ABU</td>\n      <td>23</td>\n      <td>Abu Dhabi Grand Prix</td>\n      <td>United Arab Emirates</td>\n      <td>Yas Marina Circuit</td>\n      <td>False</td>\n    </tr>\n  </tbody>\n</table>\n</div>"
     },
     "execution_count": 21,
     "metadata": {},
     "output_type": "execute_result"
    }
   ],
   "source": [
    "df_races"
   ],
   "metadata": {
    "collapsed": false,
    "ExecuteTime": {
     "end_time": "2024-01-02T23:27:30.527567300Z",
     "start_time": "2024-01-02T23:27:30.524059200Z"
    }
   },
   "id": "5dde0b5c72e6dfbc"
  },
  {
   "cell_type": "code",
   "execution_count": 22,
   "outputs": [
    {
     "data": {
      "text/plain": "         DriverX  Race1drv  Race2drv  Race3drv  Race4drv  Race5drv  Race6drv  \\\n0     L.Hamilton        19        16        29        19        24         0   \n1      G.Russell        16        18        -7        25        28         0   \n2      C.Leclerc       -11        27       -15        29        16         0   \n3        C.Sainz        19        12         8        21        20         0   \n4   M.Verstappen        35        61        36        37        64         0   \n5        S.Perez        28        36        52        61        28         0   \n6       L.Norris        -1         7        19         0         1         0   \n7      O.Piastri       -16         2        16         8         5         0   \n8       F.Alonso        39        23        23        27        25         0   \n9       L.Stroll        17       -14        21        18        12         0   \n10       P.Gasly        20         6         1        17        10         0   \n11        E.Ocon       -17         7         2         7         8         0   \n12     Y.Tsunoda         8         9         7       -13        16         0   \n13   D.Ricciardo         8         7         3       -15         0         0   \n14       A.Albon        13       -17       -15         2        -1         0   \n15    L.Sargeant        11         2         5       -20         1         0   \n16      V.Bottas        13        -2        12        -1         2         0   \n17        G.Zhou        15         6        15       -10         1         0   \n18   K.Magnussen         8         9         2        16         6         0   \n19  N.Hulkenberg        -1         1        11         2         4         0   \n\n    Race7drv  Race8drv  Race9drv  Race10drv  Race11drv  Race12drv  Race13drv  \\\n0         28        39        23         31         25         20         32   \n1         16        31       -12         34         18         27         28   \n2         16        14        19         32          6         12         26   \n3          6        19        22         31          4         12         -8   \n4         35        46        35         56         46         46         68   \n5         10        27        28         51         26         39          7   \n6          6        -2         2         29         38         29         15   \n7          4         3         3         20         20         18         -7   \n8         27        14        27         28         12          7          2   \n9        -17        16        14         25          2          9         12   \n10        10        14         8          7         -3        -19         17   \n11        32         9        11          9        -18        -19         23   \n12        -4        11         8          4          3          5          7   \n13         0         6        -1          9          3          2          7   \n14         0         5        22         11          8          8         19   \n15         0         1       -19         19          6          2          3   \n16        10         2         6          5         -5          0          7   \n17        11        16         4         10          6         -4         18   \n18         1         9         0         13        -19          5          9   \n19         7         3        -1         -4          0          0         13   \n\n    Race14drv  Race15drv  Race16drv  Race17drv  Race18drv  Race19drv  \\\n0          29         17         39         20          6         -4   \n1           6         17         -2         14         37         25   \n2          -7         24         22         22         22        -10   \n3          31         38         45         18        -14         32   \n4          46         38         25         47         62         53   \n5          30         30         16        -11         -3         32   \n6          25          9         30         31         41         46   \n7          18         15         24         35         56        -20   \n8          62          5         -1         16         25         -9   \n9          10          7          0        -14         17         10   \n10         39          3         21          7         11         22   \n11         26        -18        -13         10          2        -10   \n12         16        -20        -17          2         11         30   \n13         19          5          8          5        -16          1   \n14         17         12         12        -15         23         14   \n15        -18          3          6        -21        -34         16   \n16         14          8        -18        -17         15         10   \n17         -9          3         11          8         19          2   \n18         14          1          8          4         23         12   \n19         11         -2          0         10        -18         17   \n\n    Race20drv  Race21drv  Race22drv  Race23drv  Total Race1drvdnf Race2drvdnf  \\\n0          41         13         26         14    506          No          No   \n1          18          1         14         32    384          No          No   \n2          24         -3         41         29    335         Yes          No   \n3          19         21         34          4    394          No          No   \n4          42         45         44         47   1014          No          No   \n5         -10         37         35         30    579          No          No   \n6          48         57        -14         22    438          No          No   \n7          14          3         39         19    279         Yes          No   \n8         -16         39         12         16    403          No          No   \n9           8         28         39         11    231          No         Yes   \n10         10         24          1          4    230          No          No   \n11         10         17         40          2    120         Yes          No   \n12         20         22         14         21    160          No          No   \n13         12         10          6         11     90          No          No   \n14         13        -11          0          6    126          No         Yes   \n15          6         12         -3          5    -17          No          No   \n16          2        -19         -5          4     43          No          No   \n17          2        -11         12         10    135          No          No   \n18        -16        -21          5          0     89          No          No   \n19          8         -1          2         -3     59          No          No   \n\n   Race3drvdnf Race4drvdnf Race5drvdnf Race6drvdnf Race7drvdnf Race8drvdnf  \\\n0           No          No          No          No          No          No   \n1          Yes          No          No          No          No          No   \n2          Yes          No          No          No          No          No   \n3           No          No          No          No          No          No   \n4           No          No          No          No          No          No   \n5           No          No          No          No          No          No   \n6           No          No          No          No          No          No   \n7           No          No          No          No          No          No   \n8           No          No          No          No          No          No   \n9           No          No          No          No         Yes          No   \n10          No          No          No          No          No          No   \n11          No          No          No          No          No          No   \n12          No          No          No          No          No          No   \n13          No          No          No          No          No          No   \n14         Yes          No          No          No          No          No   \n15          No          No          No          No          No          No   \n16          No          No          No          No          No          No   \n17          No         Yes          No          No          No          No   \n18          No          No          No          No          No          No   \n19          No          No          No          No          No          No   \n\n   Race9drvdnf Race10drvdnf Race11drvdnf Race12drvdnf Race13drvdnf  \\\n0           No           No           No           No           No   \n1          Yes           No           No           No           No   \n2           No           No           No           No           No   \n3           No           No           No           No          Yes   \n4           No           No           No           No           No   \n5           No           No           No           No           No   \n6           No           No           No           No           No   \n7           No           No           No           No          Yes   \n8           No           No           No           No           No   \n9           No           No           No           No           No   \n10          No           No           No          Yes           No   \n11          No           No          Yes          Yes           No   \n12          No           No           No           No           No   \n13          No           No           No           No           No   \n14          No           No           No           No           No   \n15         Yes           No           No           No           No   \n16          No           No           No           No           No   \n17          No           No           No           No           No   \n18          No           No          Yes           No           No   \n19          No          Yes           No           No           No   \n\n   Race14drvdnf Race15drvdnf Race16drvdnf Race17drvdnf Race18drvdnf  \\\n0            No           No           No           No          Yes   \n1            No           No           No           No           No   \n2           Yes           No           No           No           No   \n3            No           No           No           No          Yes   \n4            No           No           No           No           No   \n5            No           No           No          Yes           No   \n6            No           No           No           No           No   \n7            No           No           No           No           No   \n8            No           No           No           No           No   \n9            No           No           No          Yes           No   \n10           No           No           No           No           No   \n11           No          Yes          Yes           No           No   \n12           No          Yes          Yes           No           No   \n13           No           No           No           No           No   \n14           No           No           No          Yes           No   \n15          Yes           No           No          Yes          Yes   \n16           No           No          Yes          Yes           No   \n17          Yes           No           No           No           No   \n18           No           No           No           No           No   \n19           No           No           No           No           No   \n\n   Race19drvdnf Race20drvdnf Race21drvdnf Race22drvdnf Race23drvdnf  \n0           Yes           No           No           No           No  \n1            No           No          Yes           No           No  \n2           Yes           No          Yes           No           No  \n3            No           No           No           No           No  \n4            No           No           No           No           No  \n5            No          Yes           No           No           No  \n6            No           No           No          Yes           No  \n7           Yes           No           No           No           No  \n8           Yes          Yes           No           No           No  \n9            No           No           No           No           No  \n10           No           No           No           No           No  \n11          Yes           No           No           No           No  \n12           No           No           No           No           No  \n13           No           No           No           No           No  \n14           No           No          Yes           No           No  \n15           No           No           No           No           No  \n16           No           No          Yes           No           No  \n17           No           No          Yes           No           No  \n18           No          Yes          Yes           No           No  \n19           No           No           No           No           No  ",
      "text/html": "<div>\n<style scoped>\n    .dataframe tbody tr th:only-of-type {\n        vertical-align: middle;\n    }\n\n    .dataframe tbody tr th {\n        vertical-align: top;\n    }\n\n    .dataframe thead th {\n        text-align: right;\n    }\n</style>\n<table border=\"1\" class=\"dataframe\">\n  <thead>\n    <tr style=\"text-align: right;\">\n      <th></th>\n      <th>DriverX</th>\n      <th>Race1drv</th>\n      <th>Race2drv</th>\n      <th>Race3drv</th>\n      <th>Race4drv</th>\n      <th>Race5drv</th>\n      <th>Race6drv</th>\n      <th>Race7drv</th>\n      <th>Race8drv</th>\n      <th>Race9drv</th>\n      <th>Race10drv</th>\n      <th>Race11drv</th>\n      <th>Race12drv</th>\n      <th>Race13drv</th>\n      <th>Race14drv</th>\n      <th>Race15drv</th>\n      <th>Race16drv</th>\n      <th>Race17drv</th>\n      <th>Race18drv</th>\n      <th>Race19drv</th>\n      <th>Race20drv</th>\n      <th>Race21drv</th>\n      <th>Race22drv</th>\n      <th>Race23drv</th>\n      <th>Total</th>\n      <th>Race1drvdnf</th>\n      <th>Race2drvdnf</th>\n      <th>Race3drvdnf</th>\n      <th>Race4drvdnf</th>\n      <th>Race5drvdnf</th>\n      <th>Race6drvdnf</th>\n      <th>Race7drvdnf</th>\n      <th>Race8drvdnf</th>\n      <th>Race9drvdnf</th>\n      <th>Race10drvdnf</th>\n      <th>Race11drvdnf</th>\n      <th>Race12drvdnf</th>\n      <th>Race13drvdnf</th>\n      <th>Race14drvdnf</th>\n      <th>Race15drvdnf</th>\n      <th>Race16drvdnf</th>\n      <th>Race17drvdnf</th>\n      <th>Race18drvdnf</th>\n      <th>Race19drvdnf</th>\n      <th>Race20drvdnf</th>\n      <th>Race21drvdnf</th>\n      <th>Race22drvdnf</th>\n      <th>Race23drvdnf</th>\n    </tr>\n  </thead>\n  <tbody>\n    <tr>\n      <th>0</th>\n      <td>L.Hamilton</td>\n      <td>19</td>\n      <td>16</td>\n      <td>29</td>\n      <td>19</td>\n      <td>24</td>\n      <td>0</td>\n      <td>28</td>\n      <td>39</td>\n      <td>23</td>\n      <td>31</td>\n      <td>25</td>\n      <td>20</td>\n      <td>32</td>\n      <td>29</td>\n      <td>17</td>\n      <td>39</td>\n      <td>20</td>\n      <td>6</td>\n      <td>-4</td>\n      <td>41</td>\n      <td>13</td>\n      <td>26</td>\n      <td>14</td>\n      <td>506</td>\n      <td>No</td>\n      <td>No</td>\n      <td>No</td>\n      <td>No</td>\n      <td>No</td>\n      <td>No</td>\n      <td>No</td>\n      <td>No</td>\n      <td>No</td>\n      <td>No</td>\n      <td>No</td>\n      <td>No</td>\n      <td>No</td>\n      <td>No</td>\n      <td>No</td>\n      <td>No</td>\n      <td>No</td>\n      <td>Yes</td>\n      <td>Yes</td>\n      <td>No</td>\n      <td>No</td>\n      <td>No</td>\n      <td>No</td>\n    </tr>\n    <tr>\n      <th>1</th>\n      <td>G.Russell</td>\n      <td>16</td>\n      <td>18</td>\n      <td>-7</td>\n      <td>25</td>\n      <td>28</td>\n      <td>0</td>\n      <td>16</td>\n      <td>31</td>\n      <td>-12</td>\n      <td>34</td>\n      <td>18</td>\n      <td>27</td>\n      <td>28</td>\n      <td>6</td>\n      <td>17</td>\n      <td>-2</td>\n      <td>14</td>\n      <td>37</td>\n      <td>25</td>\n      <td>18</td>\n      <td>1</td>\n      <td>14</td>\n      <td>32</td>\n      <td>384</td>\n      <td>No</td>\n      <td>No</td>\n      <td>Yes</td>\n      <td>No</td>\n      <td>No</td>\n      <td>No</td>\n      <td>No</td>\n      <td>No</td>\n      <td>Yes</td>\n      <td>No</td>\n      <td>No</td>\n      <td>No</td>\n      <td>No</td>\n      <td>No</td>\n      <td>No</td>\n      <td>No</td>\n      <td>No</td>\n      <td>No</td>\n      <td>No</td>\n      <td>No</td>\n      <td>Yes</td>\n      <td>No</td>\n      <td>No</td>\n    </tr>\n    <tr>\n      <th>2</th>\n      <td>C.Leclerc</td>\n      <td>-11</td>\n      <td>27</td>\n      <td>-15</td>\n      <td>29</td>\n      <td>16</td>\n      <td>0</td>\n      <td>16</td>\n      <td>14</td>\n      <td>19</td>\n      <td>32</td>\n      <td>6</td>\n      <td>12</td>\n      <td>26</td>\n      <td>-7</td>\n      <td>24</td>\n      <td>22</td>\n      <td>22</td>\n      <td>22</td>\n      <td>-10</td>\n      <td>24</td>\n      <td>-3</td>\n      <td>41</td>\n      <td>29</td>\n      <td>335</td>\n      <td>Yes</td>\n      <td>No</td>\n      <td>Yes</td>\n      <td>No</td>\n      <td>No</td>\n      <td>No</td>\n      <td>No</td>\n      <td>No</td>\n      <td>No</td>\n      <td>No</td>\n      <td>No</td>\n      <td>No</td>\n      <td>No</td>\n      <td>Yes</td>\n      <td>No</td>\n      <td>No</td>\n      <td>No</td>\n      <td>No</td>\n      <td>Yes</td>\n      <td>No</td>\n      <td>Yes</td>\n      <td>No</td>\n      <td>No</td>\n    </tr>\n    <tr>\n      <th>3</th>\n      <td>C.Sainz</td>\n      <td>19</td>\n      <td>12</td>\n      <td>8</td>\n      <td>21</td>\n      <td>20</td>\n      <td>0</td>\n      <td>6</td>\n      <td>19</td>\n      <td>22</td>\n      <td>31</td>\n      <td>4</td>\n      <td>12</td>\n      <td>-8</td>\n      <td>31</td>\n      <td>38</td>\n      <td>45</td>\n      <td>18</td>\n      <td>-14</td>\n      <td>32</td>\n      <td>19</td>\n      <td>21</td>\n      <td>34</td>\n      <td>4</td>\n      <td>394</td>\n      <td>No</td>\n      <td>No</td>\n      <td>No</td>\n      <td>No</td>\n      <td>No</td>\n      <td>No</td>\n      <td>No</td>\n      <td>No</td>\n      <td>No</td>\n      <td>No</td>\n      <td>No</td>\n      <td>No</td>\n      <td>Yes</td>\n      <td>No</td>\n      <td>No</td>\n      <td>No</td>\n      <td>No</td>\n      <td>Yes</td>\n      <td>No</td>\n      <td>No</td>\n      <td>No</td>\n      <td>No</td>\n      <td>No</td>\n    </tr>\n    <tr>\n      <th>4</th>\n      <td>M.Verstappen</td>\n      <td>35</td>\n      <td>61</td>\n      <td>36</td>\n      <td>37</td>\n      <td>64</td>\n      <td>0</td>\n      <td>35</td>\n      <td>46</td>\n      <td>35</td>\n      <td>56</td>\n      <td>46</td>\n      <td>46</td>\n      <td>68</td>\n      <td>46</td>\n      <td>38</td>\n      <td>25</td>\n      <td>47</td>\n      <td>62</td>\n      <td>53</td>\n      <td>42</td>\n      <td>45</td>\n      <td>44</td>\n      <td>47</td>\n      <td>1014</td>\n      <td>No</td>\n      <td>No</td>\n      <td>No</td>\n      <td>No</td>\n      <td>No</td>\n      <td>No</td>\n      <td>No</td>\n      <td>No</td>\n      <td>No</td>\n      <td>No</td>\n      <td>No</td>\n      <td>No</td>\n      <td>No</td>\n      <td>No</td>\n      <td>No</td>\n      <td>No</td>\n      <td>No</td>\n      <td>No</td>\n      <td>No</td>\n      <td>No</td>\n      <td>No</td>\n      <td>No</td>\n      <td>No</td>\n    </tr>\n    <tr>\n      <th>5</th>\n      <td>S.Perez</td>\n      <td>28</td>\n      <td>36</td>\n      <td>52</td>\n      <td>61</td>\n      <td>28</td>\n      <td>0</td>\n      <td>10</td>\n      <td>27</td>\n      <td>28</td>\n      <td>51</td>\n      <td>26</td>\n      <td>39</td>\n      <td>7</td>\n      <td>30</td>\n      <td>30</td>\n      <td>16</td>\n      <td>-11</td>\n      <td>-3</td>\n      <td>32</td>\n      <td>-10</td>\n      <td>37</td>\n      <td>35</td>\n      <td>30</td>\n      <td>579</td>\n      <td>No</td>\n      <td>No</td>\n      <td>No</td>\n      <td>No</td>\n      <td>No</td>\n      <td>No</td>\n      <td>No</td>\n      <td>No</td>\n      <td>No</td>\n      <td>No</td>\n      <td>No</td>\n      <td>No</td>\n      <td>No</td>\n      <td>No</td>\n      <td>No</td>\n      <td>No</td>\n      <td>Yes</td>\n      <td>No</td>\n      <td>No</td>\n      <td>Yes</td>\n      <td>No</td>\n      <td>No</td>\n      <td>No</td>\n    </tr>\n    <tr>\n      <th>6</th>\n      <td>L.Norris</td>\n      <td>-1</td>\n      <td>7</td>\n      <td>19</td>\n      <td>0</td>\n      <td>1</td>\n      <td>0</td>\n      <td>6</td>\n      <td>-2</td>\n      <td>2</td>\n      <td>29</td>\n      <td>38</td>\n      <td>29</td>\n      <td>15</td>\n      <td>25</td>\n      <td>9</td>\n      <td>30</td>\n      <td>31</td>\n      <td>41</td>\n      <td>46</td>\n      <td>48</td>\n      <td>57</td>\n      <td>-14</td>\n      <td>22</td>\n      <td>438</td>\n      <td>No</td>\n      <td>No</td>\n      <td>No</td>\n      <td>No</td>\n      <td>No</td>\n      <td>No</td>\n      <td>No</td>\n      <td>No</td>\n      <td>No</td>\n      <td>No</td>\n      <td>No</td>\n      <td>No</td>\n      <td>No</td>\n      <td>No</td>\n      <td>No</td>\n      <td>No</td>\n      <td>No</td>\n      <td>No</td>\n      <td>No</td>\n      <td>No</td>\n      <td>No</td>\n      <td>Yes</td>\n      <td>No</td>\n    </tr>\n    <tr>\n      <th>7</th>\n      <td>O.Piastri</td>\n      <td>-16</td>\n      <td>2</td>\n      <td>16</td>\n      <td>8</td>\n      <td>5</td>\n      <td>0</td>\n      <td>4</td>\n      <td>3</td>\n      <td>3</td>\n      <td>20</td>\n      <td>20</td>\n      <td>18</td>\n      <td>-7</td>\n      <td>18</td>\n      <td>15</td>\n      <td>24</td>\n      <td>35</td>\n      <td>56</td>\n      <td>-20</td>\n      <td>14</td>\n      <td>3</td>\n      <td>39</td>\n      <td>19</td>\n      <td>279</td>\n      <td>Yes</td>\n      <td>No</td>\n      <td>No</td>\n      <td>No</td>\n      <td>No</td>\n      <td>No</td>\n      <td>No</td>\n      <td>No</td>\n      <td>No</td>\n      <td>No</td>\n      <td>No</td>\n      <td>No</td>\n      <td>Yes</td>\n      <td>No</td>\n      <td>No</td>\n      <td>No</td>\n      <td>No</td>\n      <td>No</td>\n      <td>Yes</td>\n      <td>No</td>\n      <td>No</td>\n      <td>No</td>\n      <td>No</td>\n    </tr>\n    <tr>\n      <th>8</th>\n      <td>F.Alonso</td>\n      <td>39</td>\n      <td>23</td>\n      <td>23</td>\n      <td>27</td>\n      <td>25</td>\n      <td>0</td>\n      <td>27</td>\n      <td>14</td>\n      <td>27</td>\n      <td>28</td>\n      <td>12</td>\n      <td>7</td>\n      <td>2</td>\n      <td>62</td>\n      <td>5</td>\n      <td>-1</td>\n      <td>16</td>\n      <td>25</td>\n      <td>-9</td>\n      <td>-16</td>\n      <td>39</td>\n      <td>12</td>\n      <td>16</td>\n      <td>403</td>\n      <td>No</td>\n      <td>No</td>\n      <td>No</td>\n      <td>No</td>\n      <td>No</td>\n      <td>No</td>\n      <td>No</td>\n      <td>No</td>\n      <td>No</td>\n      <td>No</td>\n      <td>No</td>\n      <td>No</td>\n      <td>No</td>\n      <td>No</td>\n      <td>No</td>\n      <td>No</td>\n      <td>No</td>\n      <td>No</td>\n      <td>Yes</td>\n      <td>Yes</td>\n      <td>No</td>\n      <td>No</td>\n      <td>No</td>\n    </tr>\n    <tr>\n      <th>9</th>\n      <td>L.Stroll</td>\n      <td>17</td>\n      <td>-14</td>\n      <td>21</td>\n      <td>18</td>\n      <td>12</td>\n      <td>0</td>\n      <td>-17</td>\n      <td>16</td>\n      <td>14</td>\n      <td>25</td>\n      <td>2</td>\n      <td>9</td>\n      <td>12</td>\n      <td>10</td>\n      <td>7</td>\n      <td>0</td>\n      <td>-14</td>\n      <td>17</td>\n      <td>10</td>\n      <td>8</td>\n      <td>28</td>\n      <td>39</td>\n      <td>11</td>\n      <td>231</td>\n      <td>No</td>\n      <td>Yes</td>\n      <td>No</td>\n      <td>No</td>\n      <td>No</td>\n      <td>No</td>\n      <td>Yes</td>\n      <td>No</td>\n      <td>No</td>\n      <td>No</td>\n      <td>No</td>\n      <td>No</td>\n      <td>No</td>\n      <td>No</td>\n      <td>No</td>\n      <td>No</td>\n      <td>Yes</td>\n      <td>No</td>\n      <td>No</td>\n      <td>No</td>\n      <td>No</td>\n      <td>No</td>\n      <td>No</td>\n    </tr>\n    <tr>\n      <th>10</th>\n      <td>P.Gasly</td>\n      <td>20</td>\n      <td>6</td>\n      <td>1</td>\n      <td>17</td>\n      <td>10</td>\n      <td>0</td>\n      <td>10</td>\n      <td>14</td>\n      <td>8</td>\n      <td>7</td>\n      <td>-3</td>\n      <td>-19</td>\n      <td>17</td>\n      <td>39</td>\n      <td>3</td>\n      <td>21</td>\n      <td>7</td>\n      <td>11</td>\n      <td>22</td>\n      <td>10</td>\n      <td>24</td>\n      <td>1</td>\n      <td>4</td>\n      <td>230</td>\n      <td>No</td>\n      <td>No</td>\n      <td>No</td>\n      <td>No</td>\n      <td>No</td>\n      <td>No</td>\n      <td>No</td>\n      <td>No</td>\n      <td>No</td>\n      <td>No</td>\n      <td>No</td>\n      <td>Yes</td>\n      <td>No</td>\n      <td>No</td>\n      <td>No</td>\n      <td>No</td>\n      <td>No</td>\n      <td>No</td>\n      <td>No</td>\n      <td>No</td>\n      <td>No</td>\n      <td>No</td>\n      <td>No</td>\n    </tr>\n    <tr>\n      <th>11</th>\n      <td>E.Ocon</td>\n      <td>-17</td>\n      <td>7</td>\n      <td>2</td>\n      <td>7</td>\n      <td>8</td>\n      <td>0</td>\n      <td>32</td>\n      <td>9</td>\n      <td>11</td>\n      <td>9</td>\n      <td>-18</td>\n      <td>-19</td>\n      <td>23</td>\n      <td>26</td>\n      <td>-18</td>\n      <td>-13</td>\n      <td>10</td>\n      <td>2</td>\n      <td>-10</td>\n      <td>10</td>\n      <td>17</td>\n      <td>40</td>\n      <td>2</td>\n      <td>120</td>\n      <td>Yes</td>\n      <td>No</td>\n      <td>No</td>\n      <td>No</td>\n      <td>No</td>\n      <td>No</td>\n      <td>No</td>\n      <td>No</td>\n      <td>No</td>\n      <td>No</td>\n      <td>Yes</td>\n      <td>Yes</td>\n      <td>No</td>\n      <td>No</td>\n      <td>Yes</td>\n      <td>Yes</td>\n      <td>No</td>\n      <td>No</td>\n      <td>Yes</td>\n      <td>No</td>\n      <td>No</td>\n      <td>No</td>\n      <td>No</td>\n    </tr>\n    <tr>\n      <th>12</th>\n      <td>Y.Tsunoda</td>\n      <td>8</td>\n      <td>9</td>\n      <td>7</td>\n      <td>-13</td>\n      <td>16</td>\n      <td>0</td>\n      <td>-4</td>\n      <td>11</td>\n      <td>8</td>\n      <td>4</td>\n      <td>3</td>\n      <td>5</td>\n      <td>7</td>\n      <td>16</td>\n      <td>-20</td>\n      <td>-17</td>\n      <td>2</td>\n      <td>11</td>\n      <td>30</td>\n      <td>20</td>\n      <td>22</td>\n      <td>14</td>\n      <td>21</td>\n      <td>160</td>\n      <td>No</td>\n      <td>No</td>\n      <td>No</td>\n      <td>No</td>\n      <td>No</td>\n      <td>No</td>\n      <td>No</td>\n      <td>No</td>\n      <td>No</td>\n      <td>No</td>\n      <td>No</td>\n      <td>No</td>\n      <td>No</td>\n      <td>No</td>\n      <td>Yes</td>\n      <td>Yes</td>\n      <td>No</td>\n      <td>No</td>\n      <td>No</td>\n      <td>No</td>\n      <td>No</td>\n      <td>No</td>\n      <td>No</td>\n    </tr>\n    <tr>\n      <th>13</th>\n      <td>D.Ricciardo</td>\n      <td>8</td>\n      <td>7</td>\n      <td>3</td>\n      <td>-15</td>\n      <td>0</td>\n      <td>0</td>\n      <td>0</td>\n      <td>6</td>\n      <td>-1</td>\n      <td>9</td>\n      <td>3</td>\n      <td>2</td>\n      <td>7</td>\n      <td>19</td>\n      <td>5</td>\n      <td>8</td>\n      <td>5</td>\n      <td>-16</td>\n      <td>1</td>\n      <td>12</td>\n      <td>10</td>\n      <td>6</td>\n      <td>11</td>\n      <td>90</td>\n      <td>No</td>\n      <td>No</td>\n      <td>No</td>\n      <td>No</td>\n      <td>No</td>\n      <td>No</td>\n      <td>No</td>\n      <td>No</td>\n      <td>No</td>\n      <td>No</td>\n      <td>No</td>\n      <td>No</td>\n      <td>No</td>\n      <td>No</td>\n      <td>No</td>\n      <td>No</td>\n      <td>No</td>\n      <td>No</td>\n      <td>No</td>\n      <td>No</td>\n      <td>No</td>\n      <td>No</td>\n      <td>No</td>\n    </tr>\n    <tr>\n      <th>14</th>\n      <td>A.Albon</td>\n      <td>13</td>\n      <td>-17</td>\n      <td>-15</td>\n      <td>2</td>\n      <td>-1</td>\n      <td>0</td>\n      <td>0</td>\n      <td>5</td>\n      <td>22</td>\n      <td>11</td>\n      <td>8</td>\n      <td>8</td>\n      <td>19</td>\n      <td>17</td>\n      <td>12</td>\n      <td>12</td>\n      <td>-15</td>\n      <td>23</td>\n      <td>14</td>\n      <td>13</td>\n      <td>-11</td>\n      <td>0</td>\n      <td>6</td>\n      <td>126</td>\n      <td>No</td>\n      <td>Yes</td>\n      <td>Yes</td>\n      <td>No</td>\n      <td>No</td>\n      <td>No</td>\n      <td>No</td>\n      <td>No</td>\n      <td>No</td>\n      <td>No</td>\n      <td>No</td>\n      <td>No</td>\n      <td>No</td>\n      <td>No</td>\n      <td>No</td>\n      <td>No</td>\n      <td>Yes</td>\n      <td>No</td>\n      <td>No</td>\n      <td>No</td>\n      <td>Yes</td>\n      <td>No</td>\n      <td>No</td>\n    </tr>\n    <tr>\n      <th>15</th>\n      <td>L.Sargeant</td>\n      <td>11</td>\n      <td>2</td>\n      <td>5</td>\n      <td>-20</td>\n      <td>1</td>\n      <td>0</td>\n      <td>0</td>\n      <td>1</td>\n      <td>-19</td>\n      <td>19</td>\n      <td>6</td>\n      <td>2</td>\n      <td>3</td>\n      <td>-18</td>\n      <td>3</td>\n      <td>6</td>\n      <td>-21</td>\n      <td>-34</td>\n      <td>16</td>\n      <td>6</td>\n      <td>12</td>\n      <td>-3</td>\n      <td>5</td>\n      <td>-17</td>\n      <td>No</td>\n      <td>No</td>\n      <td>No</td>\n      <td>No</td>\n      <td>No</td>\n      <td>No</td>\n      <td>No</td>\n      <td>No</td>\n      <td>Yes</td>\n      <td>No</td>\n      <td>No</td>\n      <td>No</td>\n      <td>No</td>\n      <td>Yes</td>\n      <td>No</td>\n      <td>No</td>\n      <td>Yes</td>\n      <td>Yes</td>\n      <td>No</td>\n      <td>No</td>\n      <td>No</td>\n      <td>No</td>\n      <td>No</td>\n    </tr>\n    <tr>\n      <th>16</th>\n      <td>V.Bottas</td>\n      <td>13</td>\n      <td>-2</td>\n      <td>12</td>\n      <td>-1</td>\n      <td>2</td>\n      <td>0</td>\n      <td>10</td>\n      <td>2</td>\n      <td>6</td>\n      <td>5</td>\n      <td>-5</td>\n      <td>0</td>\n      <td>7</td>\n      <td>14</td>\n      <td>8</td>\n      <td>-18</td>\n      <td>-17</td>\n      <td>15</td>\n      <td>10</td>\n      <td>2</td>\n      <td>-19</td>\n      <td>-5</td>\n      <td>4</td>\n      <td>43</td>\n      <td>No</td>\n      <td>No</td>\n      <td>No</td>\n      <td>No</td>\n      <td>No</td>\n      <td>No</td>\n      <td>No</td>\n      <td>No</td>\n      <td>No</td>\n      <td>No</td>\n      <td>No</td>\n      <td>No</td>\n      <td>No</td>\n      <td>No</td>\n      <td>No</td>\n      <td>Yes</td>\n      <td>Yes</td>\n      <td>No</td>\n      <td>No</td>\n      <td>No</td>\n      <td>Yes</td>\n      <td>No</td>\n      <td>No</td>\n    </tr>\n    <tr>\n      <th>17</th>\n      <td>G.Zhou</td>\n      <td>15</td>\n      <td>6</td>\n      <td>15</td>\n      <td>-10</td>\n      <td>1</td>\n      <td>0</td>\n      <td>11</td>\n      <td>16</td>\n      <td>4</td>\n      <td>10</td>\n      <td>6</td>\n      <td>-4</td>\n      <td>18</td>\n      <td>-9</td>\n      <td>3</td>\n      <td>11</td>\n      <td>8</td>\n      <td>19</td>\n      <td>2</td>\n      <td>2</td>\n      <td>-11</td>\n      <td>12</td>\n      <td>10</td>\n      <td>135</td>\n      <td>No</td>\n      <td>No</td>\n      <td>No</td>\n      <td>Yes</td>\n      <td>No</td>\n      <td>No</td>\n      <td>No</td>\n      <td>No</td>\n      <td>No</td>\n      <td>No</td>\n      <td>No</td>\n      <td>No</td>\n      <td>No</td>\n      <td>Yes</td>\n      <td>No</td>\n      <td>No</td>\n      <td>No</td>\n      <td>No</td>\n      <td>No</td>\n      <td>No</td>\n      <td>Yes</td>\n      <td>No</td>\n      <td>No</td>\n    </tr>\n    <tr>\n      <th>18</th>\n      <td>K.Magnussen</td>\n      <td>8</td>\n      <td>9</td>\n      <td>2</td>\n      <td>16</td>\n      <td>6</td>\n      <td>0</td>\n      <td>1</td>\n      <td>9</td>\n      <td>0</td>\n      <td>13</td>\n      <td>-19</td>\n      <td>5</td>\n      <td>9</td>\n      <td>14</td>\n      <td>1</td>\n      <td>8</td>\n      <td>4</td>\n      <td>23</td>\n      <td>12</td>\n      <td>-16</td>\n      <td>-21</td>\n      <td>5</td>\n      <td>0</td>\n      <td>89</td>\n      <td>No</td>\n      <td>No</td>\n      <td>No</td>\n      <td>No</td>\n      <td>No</td>\n      <td>No</td>\n      <td>No</td>\n      <td>No</td>\n      <td>No</td>\n      <td>No</td>\n      <td>Yes</td>\n      <td>No</td>\n      <td>No</td>\n      <td>No</td>\n      <td>No</td>\n      <td>No</td>\n      <td>No</td>\n      <td>No</td>\n      <td>No</td>\n      <td>Yes</td>\n      <td>Yes</td>\n      <td>No</td>\n      <td>No</td>\n    </tr>\n    <tr>\n      <th>19</th>\n      <td>N.Hulkenberg</td>\n      <td>-1</td>\n      <td>1</td>\n      <td>11</td>\n      <td>2</td>\n      <td>4</td>\n      <td>0</td>\n      <td>7</td>\n      <td>3</td>\n      <td>-1</td>\n      <td>-4</td>\n      <td>0</td>\n      <td>0</td>\n      <td>13</td>\n      <td>11</td>\n      <td>-2</td>\n      <td>0</td>\n      <td>10</td>\n      <td>-18</td>\n      <td>17</td>\n      <td>8</td>\n      <td>-1</td>\n      <td>2</td>\n      <td>-3</td>\n      <td>59</td>\n      <td>No</td>\n      <td>No</td>\n      <td>No</td>\n      <td>No</td>\n      <td>No</td>\n      <td>No</td>\n      <td>No</td>\n      <td>No</td>\n      <td>No</td>\n      <td>Yes</td>\n      <td>No</td>\n      <td>No</td>\n      <td>No</td>\n      <td>No</td>\n      <td>No</td>\n      <td>No</td>\n      <td>No</td>\n      <td>No</td>\n      <td>No</td>\n      <td>No</td>\n      <td>No</td>\n      <td>No</td>\n      <td>No</td>\n    </tr>\n  </tbody>\n</table>\n</div>"
     },
     "execution_count": 22,
     "metadata": {},
     "output_type": "execute_result"
    }
   ],
   "source": [
    "df_drivers"
   ],
   "metadata": {
    "collapsed": false,
    "ExecuteTime": {
     "end_time": "2024-01-02T23:28:12.290587600Z",
     "start_time": "2024-01-02T23:28:12.286073Z"
    }
   },
   "id": "edb117068a75aa96"
  },
  {
   "cell_type": "code",
   "execution_count": 24,
   "outputs": [
    {
     "data": {
      "text/plain": "'\\nIn the fantasy, the driver with the most DNFs is C.Leclerc with 7 DNFs.'"
     },
     "execution_count": 24,
     "metadata": {},
     "output_type": "execute_result"
    }
   ],
   "source": [
    "from langchain.chains.question_answering import load_qa_chain\n",
    "prompt = \"In the fantasy, which driver had the most DNFs?\"\n",
    "index.query(prompt)\n",
    "\n"
   ],
   "metadata": {
    "collapsed": false,
    "ExecuteTime": {
     "end_time": "2024-01-02T23:29:41.724082500Z",
     "start_time": "2024-01-02T23:29:40.302228700Z"
    }
   },
   "id": "d21dcc440370b2dd"
  },
  {
   "cell_type": "code",
   "execution_count": 3,
   "outputs": [
    {
     "name": "stdout",
     "output_type": "stream",
     "text": [
      "sk-LCAqduOz4rTSH8NhaGGhT3Bl\n"
     ]
    }
   ],
   "source": [
    "from util import local_settings\n",
    "#pip install --upgrade packaging\n",
    "\n",
    "client = OpenAI(api_key=local_settings.OPENAI_API_KEY)\n",
    "\n",
    "\n",
    "from langchain_experimental.agents.agent_toolkits import create_pandas_dataframe_agent\n",
    "agent = create_pandas_dataframe_agent(client, [df_drivers, df_constructors, df_races], verbose=True)\n"
   ],
   "metadata": {
    "collapsed": false,
    "ExecuteTime": {
     "end_time": "2024-01-02T17:54:30.990651600Z",
     "start_time": "2024-01-02T17:54:30.022116800Z"
    }
   },
   "id": "add49104b9bd7a36"
  },
  {
   "cell_type": "code",
   "execution_count": 9,
   "outputs": [
    {
     "name": "stdout",
     "output_type": "stream",
     "text": [
      "\n",
      "\n",
      "\u001B[1m> Entering new AgentExecutor chain...\u001B[0m\n",
      "\u001B[32;1m\u001B[1;3mThought: We need to get the data from df1 and df2 and calculate the average of Verstappen's points scored.\n",
      "Action: python_repl_ast\n",
      "Action Input: (df1['DriverX'] == 'M.Verstappen') & (df1['TotalPoints'] != 1014)\u001B[0m\n",
      "Observation: \u001B[36;1m\u001B[1;3mKeyError: 'TotalPoints'\u001B[0m\n",
      "Thought:\u001B[32;1m\u001B[1;3m We need to get the data from df2 and ignore the TotalPoints column.\n",
      "Action: python_repl_ast\n",
      "Action Input: df2[df2['Code'] == 'USA']['RaceNum']\u001B[0m\n",
      "Observation: \u001B[36;1m\u001B[1;3mKeyError: 'Code'\u001B[0m\n",
      "Thought:\u001B[32;1m\u001B[1;3m We need to get the data from df3 and use the RaceNum column to filter the data from df1 and df2.\n",
      "Action: python_repl_ast\n",
      "Action Input: df1[(df1['DriverX'] == 'M.Verstappen') & (df2['RaceNum'] == df3['RaceNum'])]\u001B[0m\n",
      "Observation: \u001B[36;1m\u001B[1;3mKeyError: 'RaceNum'\u001B[0m\n",
      "Thought:\u001B[32;1m\u001B[1;3m We need to use the same column name in df1 and df2 to filter the data.\n",
      "Action: python_repl_ast\n",
      "Action Input: df1[(df1['DriverX'] == 'M.Verstappen') & (df2['RaceNum'] == df1['RaceNum'])]\u001B[0m\n",
      "Observation: \u001B[36;1m\u001B[1;3mKeyError: 'RaceNum'\u001B[0m\n",
      "Thought:\u001B[32;1m\u001B[1;3m We need to use the same column name in df1 and df3 to filter the data.\n",
      "Action: python_repl_ast\n",
      "Action Input: df1[(df1['DriverX'] == 'M.Verstappen') & (df3['RaceNum'] == df1['RaceNum'])]\u001B[0m\n",
      "Observation: \u001B[36;1m\u001B[1;3mKeyError: 'RaceNum'\u001B[0m\n",
      "Thought:\u001B[32;1m\u001B[1;3m We need to use the same column name in df2 and df3 to filter the data.\n",
      "Action: python_repl_ast\n",
      "Action Input: df2[(df1['DriverX'] == 'M.Verstappen') & (df3['RaceNum'] == df2['RaceNum'])]\u001B[0m\n",
      "Observation: \u001B[36;1m\u001B[1;3mKeyError: 'RaceNum'\u001B[0m\n",
      "Thought:\u001B[32;1m\u001B[1;3m We need to use the same column name in df1, df2, and df3 to filter the data.\n",
      "Action: python_repl_ast\n",
      "Action Input: df1[(df1['DriverX'] == 'M.Verstappen') & (df3['RaceNum'] == df1['RaceNum'])]['Total']\u001B[0m\n",
      "Observation: \u001B[36;1m\u001B[1;3mKeyError: 'RaceNum'\u001B[0m\n",
      "Thought:\u001B[32;1m\u001B[1;3m We need to use the same column name in df1, df2, and df3 to filter the data and also include the 'Total' column in the final result.\n",
      "Action: python_repl_ast\n",
      "Action Input: df1[(df1['DriverX'] == 'M.Verstappen') & (df3['RaceNum'] == df1['RaceNum'])]['Total'].sum()/len(df1[(df1['DriverX'] == 'M.Verstappen') & (df3['RaceNum'] == df1['RaceNum'])])\u001B[0m\n",
      "Observation: \u001B[36;1m\u001B[1;3mKeyError: 'RaceNum'\u001B[0m\n",
      "Thought:\u001B[32;1m\u001B[1;3m We need to use the same column name in df1, df2, and df3 to filter the data and also include the 'Total' column in the final result. We also need to use the correct column name for RaceNum in df3.\n",
      "Action: python_repl_ast\n",
      "Action Input: df1[(df1['DriverX'] == 'M.Verstappen') & (df3['RaceNum'] == df1['RaceNum'])]['Total'].sum()/len(df1[(df1['DriverX'] == 'M.Verstappen') & (df3['RaceNum'] == df1['RaceNum'])])\u001B[0m\n",
      "Observation: \u001B[36;1m\u001B[1;3mKeyError: 'RaceNum'\u001B[0m\n",
      "Thought:\u001B[32;1m\u001B[1;3m We need to use the same column name in df1, df2, and df3 to filter the data and also include the 'Total' column in the final result. We also need to use the correct column name for RaceNum in df3.\n",
      "Action: python_repl_ast\n",
      "Action Input: df1[(df1['DriverX'] == 'M.Verstappen') & (df3['RaceNum'] == df1['RaceNum'])]['Total'].sum()/len(df1[(df1['DriverX'] == 'M.Verstappen') & (df3['RaceNum'] == df1['RaceNum'])])\u001B[0m\n",
      "Observation: \u001B[36;1m\u001B[1;3mKeyError: 'RaceNum'\u001B[0m\n",
      "Thought:\u001B[32;1m\u001B[1;3m We need to use the same column name in df1, df2, and df3 to filter the data and also include the 'Total' column in the final result. We also need to use the correct column name for RaceNum in df3.\n",
      "Action: python_repl_ast\n",
      "Action Input: df1[(df1['DriverX'] == 'M.Verstappen') & (df3['RaceNum'] == df1['RaceNum'])]['Total'].sum()/len(df1[(df1['DriverX'] == 'M.Verstappen') & (df3['RaceNum'] == df1['RaceNum'])])\u001B[0m\n",
      "Observation: \u001B[36;1m\u001B[1;3mKeyError: 'RaceNum'\u001B[0m\n",
      "Thought:\u001B[32;1m\u001B[1;3m We need to use the same column name in df1, df2, and df3 to filter the data and also include the 'Total' column in the final result. We also need to use the correct column name for RaceNum in df3.\n",
      "Action: python_repl_ast\n",
      "Action Input: df1[(df1['DriverX'] == 'M.Verstappen') & (df3['RaceNum'] == df1['RaceNum'])]['Total'].sum()/len(df1[(df1['DriverX'] == 'M.Verstappen') & (df3['RaceNum'] == df1['RaceNum'])])\u001B[0m\n",
      "Observation: \u001B[36;1m\u001B[1;3mKeyError: 'RaceNum'\u001B[0m\n",
      "Thought:\u001B[32;1m\u001B[1;3m We need to use the same column name in df1, df2, and df3 to filter the data and also include the 'Total' column in the final result. We also need to use the correct column name for RaceNum in df3.\n",
      "Action: python_repl_ast\n",
      "Action Input: df1[(df1['DriverX'] == 'M.Verstappen') & (df3['RaceNum'] == df1['RaceNum'])]['Total'].sum()/len(df1[(df1['DriverX'] == 'M.Verstappen') & (df2['RaceNum'] == df1['RaceNum'])])\u001B[0m\n",
      "Observation: \u001B[36;1m\u001B[1;3mKeyError: 'RaceNum'\u001B[0m\n",
      "Thought:"
     ]
    },
    {
     "name": "stderr",
     "output_type": "stream",
     "text": [
      "\n",
      "KeyboardInterrupt\n",
      "\n"
     ]
    }
   ],
   "source": [
    "agent.run(\"What was the average amount of points score by Verstappen in 2023? Give me the final result, and remember to ignore TotalPoints.\")\n"
   ],
   "metadata": {
    "collapsed": false,
    "ExecuteTime": {
     "end_time": "2024-01-02T18:01:02.150420Z",
     "start_time": "2024-01-02T18:00:41.121616600Z"
    }
   },
   "id": "1f50828c63e2f6fa"
  }
 ],
 "metadata": {
  "kernelspec": {
   "display_name": "Python 3",
   "language": "python",
   "name": "python3"
  },
  "language_info": {
   "codemirror_mode": {
    "name": "ipython",
    "version": 2
   },
   "file_extension": ".py",
   "mimetype": "text/x-python",
   "name": "python",
   "nbconvert_exporter": "python",
   "pygments_lexer": "ipython2",
   "version": "2.7.6"
  }
 },
 "nbformat": 4,
 "nbformat_minor": 5
}
