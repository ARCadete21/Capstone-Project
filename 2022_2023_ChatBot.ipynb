{
 "cells": [
  {
   "cell_type": "code",
   "execution_count": 2,
   "id": "initial_id",
   "metadata": {
    "collapsed": true,
    "ExecuteTime": {
     "end_time": "2024-01-07T14:03:25.224308700Z",
     "start_time": "2024-01-07T14:03:24.556919100Z"
    }
   },
   "outputs": [],
   "source": [
    "import os\n",
    "import pandas as pd\n",
    "from PyPDF2 import PdfReader\n",
    "from langchain.text_splitter import CharacterTextSplitter\n",
    "import re\n",
    "import numpy as np\n",
    "from langchain_community.document_loaders import PyPDFLoader\n",
    "from langchain.vectorstores import FAISS\n",
    "from langchain.embeddings import OpenAIEmbeddings\n",
    "\n",
    "\n",
    "def preprocess_pdf_files_for_LLM(path: str):\n",
    "    pdf_docs = []\n",
    "    for file in os.listdir(path):\n",
    "        if file.endswith(\".pdf\"):\n",
    "            pdf_docs.append(os.path.join(path, file))\n",
    "    text = \"\"\n",
    "    for pdf in pdf_docs:\n",
    "        pdf_reader = PdfReader(pdf)\n",
    "        for page in pdf_reader.pages:\n",
    "            text += page.extract_text()\n",
    "    text_splitter = CharacterTextSplitter(\n",
    "        separator=\"\\n\",\n",
    "        chunk_size=1000,\n",
    "        chunk_overlap=200,\n",
    "        length_function=len\n",
    "    )\n",
    "    chunks = text_splitter.split_text(text)\n",
    "\n",
    "    embeddings = OpenAIEmbeddings()\n",
    "    # embeddings = HuggingFaceInstructEmbeddings(model_name=\"hkunlp/instructor-xl\")\n",
    "    vectorstore = FAISS.from_texts(texts=chunks, embedding=embeddings)\n",
    "    return vectorstore"
   ]
  },
  {
   "cell_type": "code",
   "execution_count": 4,
   "outputs": [
    {
     "name": "stderr",
     "output_type": "stream",
     "text": [
      "100%|██████████| 14/14 [01:15<00:00,  5.37s/it]\n",
      "100%|██████████| 4/4 [00:00<00:00, 2000.86it/s]\n"
     ]
    }
   ],
   "source": [
    "import os\n",
    "from PyPDF2 import PdfReader\n",
    "from langchain.text_splitter import CharacterTextSplitter\n",
    "from langchain.vectorstores import FAISS\n",
    "from langchain.embeddings import OpenAIEmbeddings\n",
    "from util import local_settings\n",
    "from langchain_community.document_loaders import DirectoryLoader\n",
    "from langchain_community.document_loaders import CSVLoader\n",
    "from langchain.text_splitter import RecursiveCharacterTextSplitter\n",
    "from langchain.indexes import VectorstoreIndexCreator\n",
    "from langchain_community.document_loaders import PyPDFLoader\n",
    "# Function that can be used for file preprocessing\n",
    "def preprocess_pdf_files_for_LLM(path: str):\n",
    "    pdf_docs = []\n",
    "    for file in os.listdir(path):\n",
    "        if file.endswith(\".pdf\"):\n",
    "            pdf_docs.append(os.path.join(path, file))\n",
    "    text = \"\"\n",
    "    for pdf in pdf_docs:\n",
    "        pdf_reader = PdfReader(pdf)\n",
    "        for page in pdf_reader.pages:\n",
    "            text += page.extract_text()\n",
    "    text_splitter = CharacterTextSplitter(\n",
    "        separator=\"\\n\",\n",
    "        chunk_size=1000,\n",
    "        chunk_overlap=200,\n",
    "        length_function=len\n",
    "    )\n",
    "    chunks = text_splitter.split_text(text)\n",
    "\n",
    "    embeddings = OpenAIEmbeddings()\n",
    "    # embeddings = HuggingFaceInstructEmbeddings(model_name=\"hkunlp/instructor-xl\")\n",
    "    vectorstore = FAISS.from_texts(texts=chunks, embedding=embeddings)\n",
    "    return vectorstore\n",
    "\n",
    "\n",
    "\n",
    "loader_pdfs = DirectoryLoader('C:\\\\Users\\\\marce\\\\OneDrive\\\\Documentos\\\\GitHub\\\\Capstone-Project\\\\DataFiltered2022_2023', show_progress=True, glob='**/*.pdf', loader_cls=PyPDFLoader)\n",
    "loader_csv = DirectoryLoader('C:\\\\Users\\\\marce\\\\OneDrive\\\\Documentos\\\\GitHub\\\\Capstone-Project\\\\DataFiltered2022_2023', show_progress=True, glob='**/*.csv', loader_cls=CSVLoader)\n",
    "\n",
    "vector_store = VectorstoreIndexCreator(embedding = OpenAIEmbeddings(), text_splitter = RecursiveCharacterTextSplitter()).from_loaders([loader_pdfs, loader_csv])\n",
    "#vector_store.save_local(\"vector_store\")"
   ],
   "metadata": {
    "collapsed": false,
    "ExecuteTime": {
     "end_time": "2024-01-07T18:27:10.868715Z",
     "start_time": "2024-01-07T18:25:12.270362Z"
    }
   },
   "id": "50bbbf8946329651"
  },
  {
   "cell_type": "code",
   "execution_count": 7,
   "outputs": [
    {
     "ename": "AttributeError",
     "evalue": "'Chroma' object has no attribute 'save_local'",
     "output_type": "error",
     "traceback": [
      "\u001B[1;31m---------------------------------------------------------------------------\u001B[0m",
      "\u001B[1;31mAttributeError\u001B[0m                            Traceback (most recent call last)",
      "Cell \u001B[1;32mIn[7], line 1\u001B[0m\n\u001B[1;32m----> 1\u001B[0m vector_store\u001B[38;5;241m.\u001B[39mvectorstore\u001B[38;5;241m.\u001B[39msave_local(\u001B[38;5;124m\"\u001B[39m\u001B[38;5;124mvector_store\u001B[39m\u001B[38;5;124m\"\u001B[39m)\n",
      "\u001B[1;31mAttributeError\u001B[0m: 'Chroma' object has no attribute 'save_local'"
     ]
    }
   ],
   "source": [
    "vector_store.save_local(\"vector_store\")"
   ],
   "metadata": {
    "collapsed": false,
    "ExecuteTime": {
     "end_time": "2024-01-07T18:28:07.561508400Z",
     "start_time": "2024-01-07T18:28:07.542250300Z"
    }
   },
   "id": "e7ac1d9803f5d48b"
  },
  {
   "cell_type": "code",
   "execution_count": 36,
   "outputs": [
    {
     "name": "stderr",
     "output_type": "stream",
     "text": [
      "100%|██████████| 4/4 [00:41<00:00, 10.35s/it]\n",
      "100%|██████████| 5/5 [00:00<00:00, 238.11it/s]\n"
     ]
    }
   ],
   "source": [
    "# Get all pdf files from a directory\n",
    "from langchain_community.document_loaders import DirectoryLoader\n",
    "from langchain_community.document_loaders import TextLoader, CSVLoader\n",
    "from langchain.text_splitter import RecursiveCharacterTextSplitter\n",
    "from langchain.indexes import VectorstoreIndexCreator\n",
    "\n",
    "\n",
    "loader_pdfs = DirectoryLoader('C:\\\\Users\\\\marce\\\\OneDrive\\\\Documentos\\\\GitHub\\\\Capstone-Project\\\\DataFiltered2022_2023', show_progress=True, glob='**/*.pdf')\n",
    "loader_csv = DirectoryLoader('C:\\\\Users\\\\marce\\\\OneDrive\\\\Documentos\\\\GitHub\\\\Capstone-Project\\\\DataFiltered2022_2023', show_progress=True, glob='**/*.csv', loader_cls=CSVLoader)\n",
    "\n",
    "index = VectorstoreIndexCreator(embedding = OpenAIEmbeddings(), text_splitter = RecursiveCharacterTextSplitter()).from_loaders([loader_pdfs, loader_csv])\n",
    " \n",
    "#text_splitter = RecursiveCharacterTextSplitter(\n",
    "#    chunk_size=1000,\n",
    "#    chunk_overlap=200)\n",
    "\n",
    "#chunks = text_splitter.split_text(pdfs)\n",
    "\n",
    "#embeddings = OpenAIEmbeddings()\n",
    "# embeddings = HuggingFaceInstructEmbeddings(model_name=\"hkunlp/instructor-xl\")\n",
    "#vectorstore = FAISS.from_texts(texts=chunks, embedding=embeddings)"
   ],
   "metadata": {
    "collapsed": false,
    "ExecuteTime": {
     "end_time": "2024-01-07T14:59:16.142810200Z",
     "start_time": "2024-01-07T14:58:13.154262700Z"
    }
   },
   "id": "3a40eba897f647ed"
  },
  {
   "cell_type": "code",
   "execution_count": 2,
   "outputs": [],
   "source": [
    "def preprocess_csv_files_for_LLM(path: str):\n",
    "    csv_docs = []\n",
    "    for file in os.listdir(path):\n",
    "        if file.endswith(\".csv\"):\n",
    "            csv_docs.append(os.path.join(path, file))\n",
    "    text = \"\"\n",
    "    for csv in csv_docs:\n",
    "        df = pd.read_csv(csv)\n",
    "        for col in df.columns:\n",
    "            text += col + \"\\n\"\n",
    "            for row in df[col]:\n",
    "                text += str(row) + \"\\n\"\n",
    "    text_splitter = CharacterTextSplitter(\n",
    "        separator=\"\\n\",\n",
    "        chunk_size=1000,\n",
    "        chunk_overlap=200,\n",
    "        length_function=len\n",
    "    )\n",
    "    chunks = text_splitter.split_text(text)\n",
    "\n",
    "    embeddings = OpenAIEmbeddings()\n",
    "    # embeddings = HuggingFaceInstructEmbeddings(model_name=\"hkunlp/instructor-xl\")\n",
    "    vectorstore = FAISS.from_texts(texts=chunks, embedding=embeddings)\n",
    "    return vectorstore\n"
   ],
   "metadata": {
    "collapsed": false,
    "ExecuteTime": {
     "end_time": "2024-01-06T23:12:29.459940800Z",
     "start_time": "2024-01-06T23:12:29.454132200Z"
    }
   },
   "id": "80591f4fa5f4c575"
  },
  {
   "cell_type": "code",
   "execution_count": 5,
   "outputs": [
    {
     "name": "stderr",
     "output_type": "stream",
     "text": [
      "\n",
      "KeyboardInterrupt\n",
      "\n"
     ]
    }
   ],
   "source": [
    "from langchain_community.document_loaders import DirectoryLoader\n",
    "from langchain_community.document_loaders.csv_loader import CSVLoader\n",
    "from langchain.text_splitter import RecursiveCharacterTextSplitter\n",
    "loader = DirectoryLoader('C:\\\\Users\\\\marce\\\\OneDrive\\\\Documentos\\\\GitHub\\\\Capstone-Project\\\\DataFiltered2022_2023\\\\data filtered', glob=\"**/*.csv\", loader_cls=CSVLoader)\n",
    "csv_data = loader.load()\n",
    "\n",
    "#from langchain.embeddings.sentence_transformer import SentenceTransformerEmbeddings\n",
    "\n",
    "from langchain.vectorstores import Chroma\n",
    "recursive_text_splitter = RecursiveCharacterTextSplitter(\n",
    "    chunk_size=750,\n",
    "    chunk_overlap=200,\n",
    ")\n",
    "text_chunks = recursive_text_splitter.split_documents(csv_data)\n",
    "\n",
    "\n",
    "embeddings = OpenAIEmbeddings()\n",
    "#embedding_function = SentenceTransformerEmbeddings(model_name=\"all-MiniLM-L6-v2\")\n",
    "\n",
    "\n",
    "#embeddings = OpenAIEmbeddings()\n",
    "# embeddings = HuggingFaceInstructEmbeddings(model_name=\"hkunlp/instructor-xl\")\n",
    "db = FAISS.from_documents(text_chunks, embeddings)\n"
   ],
   "metadata": {
    "collapsed": false,
    "ExecuteTime": {
     "end_time": "2024-01-07T00:23:33.332531500Z",
     "start_time": "2024-01-07T00:23:23.627705800Z"
    }
   },
   "id": "6a5917f02fb343f1"
  },
  {
   "cell_type": "code",
   "execution_count": 42,
   "outputs": [
    {
     "data": {
      "text/plain": "{'question': 'Where did Verstappen finish in the 2023 Australian GP?',\n 'answer': \"Verstappen's position in the 2023 Australian GP is not mentioned in the provided information.\\n\",\n 'sources': 'C:\\\\Users\\\\marce\\\\OneDrive\\\\Documentos\\\\GitHub\\\\Capstone-Project\\\\DataFiltered2022_2023\\\\data filtered\\\\data2223.csv'}"
     },
     "execution_count": 42,
     "metadata": {},
     "output_type": "execute_result"
    }
   ],
   "source": [
    "from langchain_community.chat_models import ChatOpenAI\n",
    "\n",
    "query = 'Where did Verstappen finish in the 2023 Australian GP?'\n",
    "index.query_with_sources(query, llm = ChatOpenAI(model_name=\"gpt-3.5-turbo\", temperature=0))"
   ],
   "metadata": {
    "collapsed": false,
    "ExecuteTime": {
     "end_time": "2024-01-07T15:01:53.365788300Z",
     "start_time": "2024-01-07T15:01:50.047129500Z"
    }
   },
   "id": "6cea4bc706d1c12e"
  },
  {
   "cell_type": "code",
   "execution_count": 43,
   "outputs": [
    {
     "ename": "ValidationError",
     "evalue": "2 validation errors for LLMChain\nllm\n  instance of Runnable expected (type=type_error.arbitrary_type; expected_arbitrary_type=Runnable)\nllm\n  instance of Runnable expected (type=type_error.arbitrary_type; expected_arbitrary_type=Runnable)",
     "output_type": "error",
     "traceback": [
      "\u001B[1;31m---------------------------------------------------------------------------\u001B[0m",
      "\u001B[1;31mValidationError\u001B[0m                           Traceback (most recent call last)",
      "Cell \u001B[1;32mIn[43], line 4\u001B[0m\n\u001B[0;32m      1\u001B[0m \u001B[38;5;28;01mfrom\u001B[39;00m \u001B[38;5;21;01mlangchain\u001B[39;00m\u001B[38;5;21;01m.\u001B[39;00m\u001B[38;5;21;01magents\u001B[39;00m \u001B[38;5;28;01mimport\u001B[39;00m load_tools\n\u001B[0;32m      2\u001B[0m \u001B[38;5;28;01mfrom\u001B[39;00m \u001B[38;5;21;01mlangchain\u001B[39;00m\u001B[38;5;21;01m.\u001B[39;00m\u001B[38;5;21;01mtools\u001B[39;00m \u001B[38;5;28;01mimport\u001B[39;00m BaseTool, StructuredTool, tool\n\u001B[1;32m----> 4\u001B[0m tools \u001B[38;5;241m=\u001B[39m load_tools([\u001B[38;5;124m\"\u001B[39m\u001B[38;5;124mllm-math\u001B[39m\u001B[38;5;124m\"\u001B[39m,\u001B[38;5;124m\"\u001B[39m\u001B[38;5;124mwikipedia\u001B[39m\u001B[38;5;124m\"\u001B[39m, \u001B[38;5;124m\"\u001B[39m\u001B[38;5;124mergast_retrieve\u001B[39m\u001B[38;5;124m\"\u001B[39m], llm\u001B[38;5;241m=\u001B[39mindex)\n",
      "File \u001B[1;32m~\\anaconda3\\envs\\GPT_env2\\Lib\\site-packages\\langchain\\agents\\load_tools.py:595\u001B[0m, in \u001B[0;36mload_tools\u001B[1;34m(tool_names, llm, callbacks, **kwargs)\u001B[0m\n\u001B[0;32m    593\u001B[0m     \u001B[38;5;28;01mif\u001B[39;00m llm \u001B[38;5;129;01mis\u001B[39;00m \u001B[38;5;28;01mNone\u001B[39;00m:\n\u001B[0;32m    594\u001B[0m         \u001B[38;5;28;01mraise\u001B[39;00m \u001B[38;5;167;01mValueError\u001B[39;00m(\u001B[38;5;124mf\u001B[39m\u001B[38;5;124m\"\u001B[39m\u001B[38;5;124mTool \u001B[39m\u001B[38;5;132;01m{\u001B[39;00mname\u001B[38;5;132;01m}\u001B[39;00m\u001B[38;5;124m requires an LLM to be provided\u001B[39m\u001B[38;5;124m\"\u001B[39m)\n\u001B[1;32m--> 595\u001B[0m     tool \u001B[38;5;241m=\u001B[39m _LLM_TOOLS[name](llm)\n\u001B[0;32m    596\u001B[0m     tools\u001B[38;5;241m.\u001B[39mappend(tool)\n\u001B[0;32m    597\u001B[0m \u001B[38;5;28;01melif\u001B[39;00m name \u001B[38;5;129;01min\u001B[39;00m _EXTRA_LLM_TOOLS:\n",
      "File \u001B[1;32m~\\anaconda3\\envs\\GPT_env2\\Lib\\site-packages\\langchain\\agents\\load_tools.py:152\u001B[0m, in \u001B[0;36m_get_llm_math\u001B[1;34m(llm)\u001B[0m\n\u001B[0;32m    148\u001B[0m \u001B[38;5;28;01mdef\u001B[39;00m \u001B[38;5;21m_get_llm_math\u001B[39m(llm: BaseLanguageModel) \u001B[38;5;241m-\u001B[39m\u001B[38;5;241m>\u001B[39m BaseTool:\n\u001B[0;32m    149\u001B[0m     \u001B[38;5;28;01mreturn\u001B[39;00m Tool(\n\u001B[0;32m    150\u001B[0m         name\u001B[38;5;241m=\u001B[39m\u001B[38;5;124m\"\u001B[39m\u001B[38;5;124mCalculator\u001B[39m\u001B[38;5;124m\"\u001B[39m,\n\u001B[0;32m    151\u001B[0m         description\u001B[38;5;241m=\u001B[39m\u001B[38;5;124m\"\u001B[39m\u001B[38;5;124mUseful for when you need to answer questions about math.\u001B[39m\u001B[38;5;124m\"\u001B[39m,\n\u001B[1;32m--> 152\u001B[0m         func\u001B[38;5;241m=\u001B[39mLLMMathChain\u001B[38;5;241m.\u001B[39mfrom_llm(llm\u001B[38;5;241m=\u001B[39mllm)\u001B[38;5;241m.\u001B[39mrun,\n\u001B[0;32m    153\u001B[0m         coroutine\u001B[38;5;241m=\u001B[39mLLMMathChain\u001B[38;5;241m.\u001B[39mfrom_llm(llm\u001B[38;5;241m=\u001B[39mllm)\u001B[38;5;241m.\u001B[39marun,\n\u001B[0;32m    154\u001B[0m     )\n",
      "File \u001B[1;32m~\\anaconda3\\envs\\GPT_env2\\Lib\\site-packages\\langchain\\chains\\llm_math\\base.py:185\u001B[0m, in \u001B[0;36mLLMMathChain.from_llm\u001B[1;34m(cls, llm, prompt, **kwargs)\u001B[0m\n\u001B[0;32m    178\u001B[0m \u001B[38;5;129m@classmethod\u001B[39m\n\u001B[0;32m    179\u001B[0m \u001B[38;5;28;01mdef\u001B[39;00m \u001B[38;5;21mfrom_llm\u001B[39m(\n\u001B[0;32m    180\u001B[0m     \u001B[38;5;28mcls\u001B[39m,\n\u001B[1;32m   (...)\u001B[0m\n\u001B[0;32m    183\u001B[0m     \u001B[38;5;241m*\u001B[39m\u001B[38;5;241m*\u001B[39mkwargs: Any,\n\u001B[0;32m    184\u001B[0m ) \u001B[38;5;241m-\u001B[39m\u001B[38;5;241m>\u001B[39m LLMMathChain:\n\u001B[1;32m--> 185\u001B[0m     llm_chain \u001B[38;5;241m=\u001B[39m LLMChain(llm\u001B[38;5;241m=\u001B[39mllm, prompt\u001B[38;5;241m=\u001B[39mprompt)\n\u001B[0;32m    186\u001B[0m     \u001B[38;5;28;01mreturn\u001B[39;00m \u001B[38;5;28mcls\u001B[39m(llm_chain\u001B[38;5;241m=\u001B[39mllm_chain, \u001B[38;5;241m*\u001B[39m\u001B[38;5;241m*\u001B[39mkwargs)\n",
      "File \u001B[1;32m~\\anaconda3\\envs\\GPT_env2\\Lib\\site-packages\\langchain_core\\load\\serializable.py:107\u001B[0m, in \u001B[0;36mSerializable.__init__\u001B[1;34m(self, **kwargs)\u001B[0m\n\u001B[0;32m    106\u001B[0m \u001B[38;5;28;01mdef\u001B[39;00m \u001B[38;5;21m__init__\u001B[39m(\u001B[38;5;28mself\u001B[39m, \u001B[38;5;241m*\u001B[39m\u001B[38;5;241m*\u001B[39mkwargs: Any) \u001B[38;5;241m-\u001B[39m\u001B[38;5;241m>\u001B[39m \u001B[38;5;28;01mNone\u001B[39;00m:\n\u001B[1;32m--> 107\u001B[0m     \u001B[38;5;28msuper\u001B[39m()\u001B[38;5;241m.\u001B[39m\u001B[38;5;21m__init__\u001B[39m(\u001B[38;5;241m*\u001B[39m\u001B[38;5;241m*\u001B[39mkwargs)\n\u001B[0;32m    108\u001B[0m     \u001B[38;5;28mself\u001B[39m\u001B[38;5;241m.\u001B[39m_lc_kwargs \u001B[38;5;241m=\u001B[39m kwargs\n",
      "File \u001B[1;32m~\\anaconda3\\envs\\GPT_env2\\Lib\\site-packages\\pydantic\\v1\\main.py:341\u001B[0m, in \u001B[0;36mBaseModel.__init__\u001B[1;34m(__pydantic_self__, **data)\u001B[0m\n\u001B[0;32m    339\u001B[0m values, fields_set, validation_error \u001B[38;5;241m=\u001B[39m validate_model(__pydantic_self__\u001B[38;5;241m.\u001B[39m\u001B[38;5;18m__class__\u001B[39m, data)\n\u001B[0;32m    340\u001B[0m \u001B[38;5;28;01mif\u001B[39;00m validation_error:\n\u001B[1;32m--> 341\u001B[0m     \u001B[38;5;28;01mraise\u001B[39;00m validation_error\n\u001B[0;32m    342\u001B[0m \u001B[38;5;28;01mtry\u001B[39;00m:\n\u001B[0;32m    343\u001B[0m     object_setattr(__pydantic_self__, \u001B[38;5;124m'\u001B[39m\u001B[38;5;124m__dict__\u001B[39m\u001B[38;5;124m'\u001B[39m, values)\n",
      "\u001B[1;31mValidationError\u001B[0m: 2 validation errors for LLMChain\nllm\n  instance of Runnable expected (type=type_error.arbitrary_type; expected_arbitrary_type=Runnable)\nllm\n  instance of Runnable expected (type=type_error.arbitrary_type; expected_arbitrary_type=Runnable)"
     ]
    }
   ],
   "source": [
    "from langchain.agents import load_tools\n",
    "from langchain.tools import BaseTool, StructuredTool, tool\n",
    "\n",
    "tools = load_tools([\"llm-math\",\"wikipedia\", \"ergast_retrieve\"], llm=index)\n",
    "\n",
    "\n",
    "tools = load_tools([\"llm-math\",\"wikipedia\", \"ergast_retrieve\"], llm=llm, index = index)\n"
   ],
   "metadata": {
    "collapsed": false,
    "ExecuteTime": {
     "end_time": "2024-01-07T15:07:14.954517200Z",
     "start_time": "2024-01-07T15:07:13.984741800Z"
    }
   },
   "id": "9be16f93416aad4"
  },
  {
   "cell_type": "code",
   "execution_count": null,
   "outputs": [],
   "source": [],
   "metadata": {
    "collapsed": false
   },
   "id": "faac29c2f12e3b74"
  },
  {
   "cell_type": "code",
   "execution_count": 19,
   "outputs": [
    {
     "ename": "AttributeError",
     "evalue": "'VectorStoreIndexWrapper' object has no attribute 'as_retriever'",
     "output_type": "error",
     "traceback": [
      "\u001B[1;31m---------------------------------------------------------------------------\u001B[0m",
      "\u001B[1;31mAttributeError\u001B[0m                            Traceback (most recent call last)",
      "Cell \u001B[1;32mIn[19], line 8\u001B[0m\n\u001B[0;32m      4\u001B[0m \u001B[38;5;28;01mfrom\u001B[39;00m \u001B[38;5;21;01mlangchain_community\u001B[39;00m\u001B[38;5;21;01m.\u001B[39;00m\u001B[38;5;21;01mchat_models\u001B[39;00m \u001B[38;5;28;01mimport\u001B[39;00m ChatOpenAI\n\u001B[0;32m      6\u001B[0m llm \u001B[38;5;241m=\u001B[39m ChatOpenAI(model_name\u001B[38;5;241m=\u001B[39m\u001B[38;5;124m\"\u001B[39m\u001B[38;5;124mgpt-3.5-turbo\u001B[39m\u001B[38;5;124m\"\u001B[39m, temperature\u001B[38;5;241m=\u001B[39m\u001B[38;5;241m0.1\u001B[39m)\n\u001B[1;32m----> 8\u001B[0m qa \u001B[38;5;241m=\u001B[39m ConversationalRetrievalChain\u001B[38;5;241m.\u001B[39mfrom_llm(llm, retriever \u001B[38;5;241m=\u001B[39m index\u001B[38;5;241m.\u001B[39mas_retriever())\n",
      "\u001B[1;31mAttributeError\u001B[0m: 'VectorStoreIndexWrapper' object has no attribute 'as_retriever'"
     ]
    }
   ],
   "source": [
    "from langchain.llms import CTransformers\n",
    "from langchain.chains import ConversationalRetrievalChain\n",
    "#llm = CTransformers(model_type=\"gpt-3.5-turbo\", temperature=0.1)\n",
    "from langchain_community.chat_models import ChatOpenAI\n",
    "\n",
    "llm = ChatOpenAI(model_name=\"gpt-3.5-turbo\", temperature=0.1)\n",
    "\n",
    "qa = ConversationalRetrievalChain.from_llm(llm, retriever = index.as_retriever())"
   ],
   "metadata": {
    "collapsed": false,
    "ExecuteTime": {
     "end_time": "2024-01-07T13:55:02.064020900Z",
     "start_time": "2024-01-07T13:55:00.955027600Z"
    }
   },
   "id": "71cbb6713e868b9a"
  },
  {
   "cell_type": "code",
   "execution_count": 6,
   "outputs": [
    {
     "name": "stdout",
     "output_type": "stream",
     "text": [
      "Results: Based on the provided information, I don't have access to the specific data or files that contain the results of the Australian GP in 2023. Therefore, I cannot determine which driver won the race.\n",
      "Results: Is there anything else you would like to know?\n"
     ]
    }
   ],
   "source": [
    "while True:\n",
    "    # Give system some context\n",
    "    chat_history = []\n",
    "    query = input(\"Enter query: \")\n",
    "    if query == \"exit\":\n",
    "        break\n",
    "    if query == \"clear\":\n",
    "        chat_history = []\n",
    "        continue\n",
    "    if query == \"\":\n",
    "        continue\n",
    "    \n",
    "    \n",
    "    results = qa({\"chat_history\": chat_history, \"question\": query})\n",
    "    print('User:', query)\n",
    "    print(\"Results:\", results['answer'])"
   ],
   "metadata": {
    "collapsed": false,
    "ExecuteTime": {
     "end_time": "2024-01-07T01:17:37.571912600Z",
     "start_time": "2024-01-07T01:15:06.830003400Z"
    }
   },
   "id": "429a48fef56fd691"
  },
  {
   "cell_type": "code",
   "execution_count": 11,
   "outputs": [
    {
     "data": {
      "text/plain": "<langchain_community.vectorstores.chroma.Chroma at 0x16306aeb4d0>"
     },
     "execution_count": 11,
     "metadata": {},
     "output_type": "execute_result"
    }
   ],
   "source": [
    "\n",
    "from langchain_experimental.agents import create_csv_agent\n",
    "\n",
    "agent = create_csv_agent(OpenAI(temperature=0), ['titanic.csv', 'titanic_age_fillna.csv'], verbose=True)"
   ],
   "metadata": {
    "collapsed": false,
    "ExecuteTime": {
     "end_time": "2024-01-06T23:17:25.812185Z",
     "start_time": "2024-01-06T23:17:25.807331100Z"
    }
   },
   "id": "ca9d2269718bcdc0"
  },
  {
   "cell_type": "code",
   "execution_count": 10,
   "outputs": [
    {
     "name": "stdout",
     "output_type": "stream",
     "text": [
      ": 33700\n",
      "driverStandingsId: 71578\n",
      "raceId: 1087\n",
      "driverId: 846\n",
      "points: 76.0\n",
      "position: 7\n",
      "positionText: 7\n",
      "wins: 0\n"
     ]
    }
   ],
   "source": [
    "query = \"How many rows does drivers_filtered have?\"\n",
    "\n",
    "docs = db.similarity_search(query)\n",
    "\n",
    "print(docs[0].page_content)"
   ],
   "metadata": {
    "collapsed": false,
    "ExecuteTime": {
     "end_time": "2024-01-06T23:17:16.454939400Z",
     "start_time": "2024-01-06T23:17:16.142376300Z"
    }
   },
   "id": "1caf6c9cb4b7fae9"
  },
  {
   "cell_type": "code",
   "execution_count": null,
   "outputs": [],
   "source": [
    "# ROR: pip's dependency resolver does not currently take into account all the packages that are installed. This behaviour is the source of the following dependency conflicts.\n",
    "y#kubernetes 28.1.0 requires urllib3<2.0,>=1.24.2, but you have urllib3 2.1.0 which is incompatible."
   ],
   "metadata": {
    "collapsed": false
   },
   "id": "c28f3d13fe9a6a02"
  },
  {
   "cell_type": "code",
   "execution_count": 3,
   "outputs": [
    {
     "name": "stdout",
     "output_type": "stream",
     "text": [
      "sk-LCAqduOz4rTSH8NhaGGhT3Bl\n"
     ]
    }
   ],
   "source": [
    "from util import local_settings"
   ],
   "metadata": {
    "collapsed": false,
    "ExecuteTime": {
     "end_time": "2024-01-07T14:03:37.555587100Z",
     "start_time": "2024-01-07T14:03:37.170616Z"
    }
   },
   "id": "afcbd08b78cf5787"
  },
  {
   "cell_type": "code",
   "execution_count": 4,
   "outputs": [],
   "source": [
    "\n",
    "OPENAI_API_KEY=local_settings.OPENAI_API_KEY"
   ],
   "metadata": {
    "collapsed": false,
    "ExecuteTime": {
     "end_time": "2024-01-07T14:03:37.562214500Z",
     "start_time": "2024-01-07T14:03:37.555587100Z"
    }
   },
   "id": "7fa7351a2ed073ff"
  },
  {
   "cell_type": "code",
   "execution_count": 4,
   "outputs": [],
   "source": [
    "pdf_data = preprocess_pdf_files_for_LLM(path=\"C:\\\\Users\\\\marce\\\\OneDrive\\\\Documentos\\\\GitHub\\\\Capstone-Project\\\\DataFiltered2022_2023\\\\data filtered\")"
   ],
   "metadata": {
    "collapsed": false,
    "ExecuteTime": {
     "end_time": "2024-01-07T01:14:52.941681Z",
     "start_time": "2024-01-07T01:14:45.917230700Z"
    }
   },
   "id": "5a98e2bae8df3c76"
  },
  {
   "cell_type": "code",
   "execution_count": 12,
   "outputs": [
    {
     "name": "stdout",
     "output_type": "stream",
     "text": [
      "\n",
      "I cannot provide a helpful answer as the data provided does not include any information about wins in 2023. The data only goes up to 2022 and does not specifically mention Max Verstappen or his wins. It also does not specify which races were won by Max Verstappen, so I cannot accurately determine the number of wins in 2023.\n"
     ]
    }
   ],
   "source": [
    "from langchain.chains.question_answering import load_qa_chain\n",
    "from langchain.llms import OpenAI\n",
    "\n",
    "chain = load_qa_chain(OpenAI(), chain_type=\"stuff\")\n",
    "prompt = f\"You have multiple pdfs file with data formatted as a csv inside. Knowing that, and never forgetting it, you shall look at the appropriate fields when needed and get your result as if you are reading a csv. How many wins did Max Verstappen finish first in 2023?\"\n",
    "\n",
    "docs =  pdf_data.similarity_search(prompt)\n",
    "result = chain.run(input_documents=docs, question=prompt)\n",
    "print(result)\n"
   ],
   "metadata": {
    "collapsed": false,
    "ExecuteTime": {
     "end_time": "2024-01-07T00:34:37.137554400Z",
     "start_time": "2024-01-07T00:34:35.148914500Z"
    }
   },
   "id": "81aa07f367709b39"
  },
  {
   "cell_type": "code",
   "execution_count": null,
   "outputs": [],
   "source": [
    "model=\"gpt-3.5-turbo\"\n",
    "\n",
    "def get_completion(prompt, temperature= 0, messages = [], model=model):\n",
    "\n",
    "    message = {\"role\": \"user\", \"content\": prompt}\n",
    "\n",
    "    messages.append(message)\n",
    "    docs =  pdf_data.similarity_search(prompt)\n",
    "    result = chain.run(input_documents=docs, question=prompt)\n",
    "    completion = chain.chat.completions.create(\n",
    "        model=model,\n",
    "        messages=messages,\n",
    "        temperature=temperature,\n",
    "    )\n",
    "\n",
    "    return completion.choices[0].message.content\n"
   ],
   "metadata": {
    "collapsed": false
   },
   "id": "df2e7adb1ec3656e"
  },
  {
   "cell_type": "code",
   "execution_count": 28,
   "outputs": [
    {
     "data": {
      "text/plain": "'Verstappen was champion 0 times.'"
     },
     "execution_count": 28,
     "metadata": {},
     "output_type": "execute_result"
    }
   ],
   "source": [
    "# import bs4\n",
    "from langchain import hub\n",
    "from langchain.text_splitter import RecursiveCharacterTextSplitter\n",
    "from langchain_community.chat_models import ChatOpenAI\n",
    "from langchain_community.document_loaders import WebBaseLoader\n",
    "from langchain_community.embeddings import OpenAIEmbeddings\n",
    "from langchain_community.vectorstores import Chroma\n",
    "from langchain_core.output_parsers import StrOutputParser\n",
    "from langchain_core.runnables import RunnablePassthrough\n",
    "\n",
    "# Retrieve and generate using the relevant snippets of the blog.\n",
    "retriever = pdf_data.as_retriever()\n",
    "prompt = hub.pull(\"rlm/rag-prompt\")\n",
    "llm = ChatOpenAI(model_name=\"gpt-3.5-turbo\", temperature=0)\n",
    "\n",
    "\n",
    "def format_docs(docs):\n",
    "    return \"\\n\\n\".join(doc.page_content for doc in docs)\n",
    "\n",
    "\n",
    "rag_chain = (\n",
    "        {\"context\": retriever | format_docs, \"question\": RunnablePassthrough()}\n",
    "        | prompt\n",
    "        | llm\n",
    "        | StrOutputParser()\n",
    ")\n",
    "\n",
    "rag_chain.invoke(\"How many times was Verstappen champion?\")"
   ],
   "metadata": {
    "collapsed": false,
    "ExecuteTime": {
     "end_time": "2024-01-06T22:57:06.751544600Z",
     "start_time": "2024-01-06T22:57:03.712776400Z"
    }
   },
   "id": "d4d5ac6a9613addb"
  },
  {
   "cell_type": "code",
   "execution_count": 42,
   "outputs": [
    {
     "data": {
      "text/plain": "   number_x  grid position positionText  positionOrder  points  laps  \\\n0        16     1        1            1              1    26.0    57   \n1        55     3        2            2              2    18.0    57   \n2        44     5        3            3              3    15.0    57   \n3        63     9        4            4              4    12.0    57   \n4        20     7        5            5              5    10.0    57   \n\n          time milliseconds fastestLap  rank fastestLapTime fastestLapSpeed  \\\n0  1:37:33.584      5853584         51     1       1:34.570         206.018   \n1       +5.598      5859182         52     3       1:35.740         203.501   \n2       +9.675      5863259         53     5       1:36.228         202.469   \n3      +11.211      5864795         56     6       1:36.302         202.313   \n4      +14.754      5868338         53     8       1:36.623         201.641   \n\n   year  round          nameDriver        date  timeRace  \\\n0  2022      1  Bahrain Grand Prix  2022-03-20  15:00:00   \n1  2022      1  Bahrain Grand Prix  2022-03-20  15:00:00   \n2  2022      1  Bahrain Grand Prix  2022-03-20  15:00:00   \n3  2022      1  Bahrain Grand Prix  2022-03-20  15:00:00   \n4  2022      1  Bahrain Grand Prix  2022-03-20  15:00:00   \n\n                                               url_x    fp1_date  fp1_time  \\\n0  http://en.wikipedia.org/wiki/2022_Bahrain_Gran...  2022-03-18  12:00:00   \n1  http://en.wikipedia.org/wiki/2022_Bahrain_Gran...  2022-03-18  12:00:00   \n2  http://en.wikipedia.org/wiki/2022_Bahrain_Gran...  2022-03-18  12:00:00   \n3  http://en.wikipedia.org/wiki/2022_Bahrain_Gran...  2022-03-18  12:00:00   \n4  http://en.wikipedia.org/wiki/2022_Bahrain_Gran...  2022-03-18  12:00:00   \n\n     fp2_date  fp2_time    fp3_date  fp3_time  quali_date quali_time  \\\n0  2022-03-18  15:00:00  2022-03-19  12:00:00  2022-03-19   15:00:00   \n1  2022-03-18  15:00:00  2022-03-19  12:00:00  2022-03-19   15:00:00   \n2  2022-03-18  15:00:00  2022-03-19  12:00:00  2022-03-19   15:00:00   \n3  2022-03-18  15:00:00  2022-03-19  12:00:00  2022-03-19   15:00:00   \n4  2022-03-18  15:00:00  2022-03-19  12:00:00  2022-03-19   15:00:00   \n\n  sprint_date sprint_time  numberQualifying  positionQualifying        q1  \\\n0          \\N          \\N              16.0                 1.0  1:31.471   \n1          \\N          \\N              55.0                 3.0  1:31.567   \n2          \\N          \\N              44.0                 5.0  1:32.285   \n3          \\N          \\N              63.0                 9.0  1:32.269   \n4          \\N          \\N              20.0                 7.0  1:31.955   \n\n         q2        q3  numberSprint  gridSprint positionSprint  \\\n0  1:30.932  1:30.558           NaN         NaN            NaN   \n1  1:30.787  1:30.687           NaN         NaN            NaN   \n2  1:31.048  1:31.238           NaN         NaN            NaN   \n3  1:31.252  1:32.216           NaN         NaN            NaN   \n4  1:31.461  1:31.808           NaN         NaN            NaN   \n\n  positionTextSprint  positionOrderSprint  pointsSprint  lapsSprint  \\\n0                NaN                  NaN           NaN         NaN   \n1                NaN                  NaN           NaN         NaN   \n2                NaN                  NaN           NaN         NaN   \n3                NaN                  NaN           NaN         NaN   \n4                NaN                  NaN           NaN         NaN   \n\n  timeSprint millisecondsSprint fastestLapSprint fastestLapTimeSprint  \\\n0        NaN                NaN              NaN                  NaN   \n1        NaN                NaN              NaN                  NaN   \n2        NaN                NaN              NaN                  NaN   \n3        NaN                NaN              NaN                  NaN   \n4        NaN                NaN              NaN                  NaN   \n\n         driverRef  number_y code forename    surname         dob  \\\n0          leclerc        16  LEC  Charles    Leclerc  1997-10-16   \n1            sainz        55  SAI   Carlos      Sainz  1994-09-01   \n2         hamilton        44  HAM    Lewis   Hamilton  1985-01-07   \n3          russell        63  RUS   George    Russell  1998-02-15   \n4  kevin_magnussen        20  MAG    Kevin  Magnussen  1992-10-05   \n\n  nationalityDriver                                              url_y  \\\n0        Monegasque       http://en.wikipedia.org/wiki/Charles_Leclerc   \n1           Spanish      http://en.wikipedia.org/wiki/Carlos_Sainz_Jr.   \n2           British        http://en.wikipedia.org/wiki/Lewis_Hamilton   \n3           British  http://en.wikipedia.org/wiki/George_Russell_(r...   \n4            Danish       http://en.wikipedia.org/wiki/Kevin_Magnussen   \n\n  constructorRef nameConstructor nationalityConstructor  \\\n0        ferrari         Ferrari                Italian   \n1        ferrari         Ferrari                Italian   \n2       mercedes        Mercedes                 German   \n3       mercedes        Mercedes                 German   \n4           haas    Haas F1 Team               American   \n\n                                             url_x.1    status circuitRef  \\\n0      http://en.wikipedia.org/wiki/Scuderia_Ferrari  Finished    bahrain   \n1      http://en.wikipedia.org/wiki/Scuderia_Ferrari  Finished    bahrain   \n2  http://en.wikipedia.org/wiki/Mercedes-Benz_in_...  Finished    bahrain   \n3  http://en.wikipedia.org/wiki/Mercedes-Benz_in_...  Finished    bahrain   \n4          http://en.wikipedia.org/wiki/Haas_F1_Team  Finished    bahrain   \n\n                            name location  country      lat      lng alt  \\\n0  Bahrain International Circuit   Sakhir  Bahrain  26.0325  50.5106   7   \n1  Bahrain International Circuit   Sakhir  Bahrain  26.0325  50.5106   7   \n2  Bahrain International Circuit   Sakhir  Bahrain  26.0325  50.5106   7   \n3  Bahrain International Circuit   Sakhir  Bahrain  26.0325  50.5106   7   \n4  Bahrain International Circuit   Sakhir  Bahrain  26.0325  50.5106   7   \n\n                                             url_y.1  pointsStandings  \\\n0  http://en.wikipedia.org/wiki/Bahrain_Internati...             26.0   \n1  http://en.wikipedia.org/wiki/Bahrain_Internati...             18.0   \n2  http://en.wikipedia.org/wiki/Bahrain_Internati...             15.0   \n3  http://en.wikipedia.org/wiki/Bahrain_Internati...             12.0   \n4  http://en.wikipedia.org/wiki/Bahrain_Internati...             10.0   \n\n   positionStandings  positionTextStandings  wins  pointsStandings.1  \\\n0                1.0                      1   1.0               44.0   \n1                2.0                      2   0.0               44.0   \n2                3.0                      3   0.0               27.0   \n3                4.0                      4   0.0               27.0   \n4                5.0                      5   0.0               10.0   \n\n   positionStandings.1  positionTextStandings.1  winsStandings  traction  \\\n0                  1.0                        1            1.0       4.0   \n1                  1.0                        1            1.0       4.0   \n2                  2.0                        2            0.0       4.0   \n3                  2.0                        2            0.0       4.0   \n4                  3.0                        3            0.0       4.0   \n\n   track_evolution  braking  asphalt_grip  lateral  asphalt_abrasion  \\\n0              4.0      4.0           3.0      3.0               5.0   \n1              4.0      4.0           3.0      3.0               5.0   \n2              4.0      4.0           3.0      3.0               5.0   \n3              4.0      4.0           3.0      3.0               5.0   \n4              4.0      4.0           3.0      3.0               5.0   \n\n   tyre_stress  downforce  c1_compound  c2_compound  c3_compound  c4_compound  \\\n0          3.0        3.0          1.0          1.0          1.0          0.0   \n1          3.0        3.0          1.0          1.0          1.0          0.0   \n2          3.0        3.0          1.0          1.0          1.0          0.0   \n3          3.0        3.0          1.0          1.0          1.0          0.0   \n4          3.0        3.0          1.0          1.0          1.0          0.0   \n\n   c5_compound  lapsTotal  race_dist  circuit_length  turns  elevation_change  \\\n0          0.0       57.0    308.238           5.412   15.0              16.8   \n1          0.0       57.0    308.238           5.412   15.0              16.8   \n2          0.0       57.0    308.238           5.412   15.0              16.8   \n3          0.0       57.0    308.238           5.412   15.0              16.8   \n4          0.0       57.0    308.238           5.412   15.0              16.8   \n\n   top_speed  tyre_camber_lim_front  tyre_camber_lim_rear  \\\n0      327.9                   -3.5                  -2.0   \n1      327.9                   -3.5                  -2.0   \n2      327.9                   -3.5                  -2.0   \n3      327.9                   -3.5                  -2.0   \n4      327.9                   -3.5                  -2.0   \n\n   min_starting_press_front  min_starting_press_rear  \n0                      21.0                     18.5  \n1                      21.0                     18.5  \n2                      21.0                     18.5  \n3                      21.0                     18.5  \n4                      21.0                     18.5  ",
      "text/html": "<div>\n<style scoped>\n    .dataframe tbody tr th:only-of-type {\n        vertical-align: middle;\n    }\n\n    .dataframe tbody tr th {\n        vertical-align: top;\n    }\n\n    .dataframe thead th {\n        text-align: right;\n    }\n</style>\n<table border=\"1\" class=\"dataframe\">\n  <thead>\n    <tr style=\"text-align: right;\">\n      <th></th>\n      <th>number_x</th>\n      <th>grid</th>\n      <th>position</th>\n      <th>positionText</th>\n      <th>positionOrder</th>\n      <th>points</th>\n      <th>laps</th>\n      <th>time</th>\n      <th>milliseconds</th>\n      <th>fastestLap</th>\n      <th>rank</th>\n      <th>fastestLapTime</th>\n      <th>fastestLapSpeed</th>\n      <th>year</th>\n      <th>round</th>\n      <th>nameDriver</th>\n      <th>date</th>\n      <th>timeRace</th>\n      <th>url_x</th>\n      <th>fp1_date</th>\n      <th>fp1_time</th>\n      <th>fp2_date</th>\n      <th>fp2_time</th>\n      <th>fp3_date</th>\n      <th>fp3_time</th>\n      <th>quali_date</th>\n      <th>quali_time</th>\n      <th>sprint_date</th>\n      <th>sprint_time</th>\n      <th>numberQualifying</th>\n      <th>positionQualifying</th>\n      <th>q1</th>\n      <th>q2</th>\n      <th>q3</th>\n      <th>numberSprint</th>\n      <th>gridSprint</th>\n      <th>positionSprint</th>\n      <th>positionTextSprint</th>\n      <th>positionOrderSprint</th>\n      <th>pointsSprint</th>\n      <th>lapsSprint</th>\n      <th>timeSprint</th>\n      <th>millisecondsSprint</th>\n      <th>fastestLapSprint</th>\n      <th>fastestLapTimeSprint</th>\n      <th>driverRef</th>\n      <th>number_y</th>\n      <th>code</th>\n      <th>forename</th>\n      <th>surname</th>\n      <th>dob</th>\n      <th>nationalityDriver</th>\n      <th>url_y</th>\n      <th>constructorRef</th>\n      <th>nameConstructor</th>\n      <th>nationalityConstructor</th>\n      <th>url_x.1</th>\n      <th>status</th>\n      <th>circuitRef</th>\n      <th>name</th>\n      <th>location</th>\n      <th>country</th>\n      <th>lat</th>\n      <th>lng</th>\n      <th>alt</th>\n      <th>url_y.1</th>\n      <th>pointsStandings</th>\n      <th>positionStandings</th>\n      <th>positionTextStandings</th>\n      <th>wins</th>\n      <th>pointsStandings.1</th>\n      <th>positionStandings.1</th>\n      <th>positionTextStandings.1</th>\n      <th>winsStandings</th>\n      <th>traction</th>\n      <th>track_evolution</th>\n      <th>braking</th>\n      <th>asphalt_grip</th>\n      <th>lateral</th>\n      <th>asphalt_abrasion</th>\n      <th>tyre_stress</th>\n      <th>downforce</th>\n      <th>c1_compound</th>\n      <th>c2_compound</th>\n      <th>c3_compound</th>\n      <th>c4_compound</th>\n      <th>c5_compound</th>\n      <th>lapsTotal</th>\n      <th>race_dist</th>\n      <th>circuit_length</th>\n      <th>turns</th>\n      <th>elevation_change</th>\n      <th>top_speed</th>\n      <th>tyre_camber_lim_front</th>\n      <th>tyre_camber_lim_rear</th>\n      <th>min_starting_press_front</th>\n      <th>min_starting_press_rear</th>\n    </tr>\n  </thead>\n  <tbody>\n    <tr>\n      <th>0</th>\n      <td>16</td>\n      <td>1</td>\n      <td>1</td>\n      <td>1</td>\n      <td>1</td>\n      <td>26.0</td>\n      <td>57</td>\n      <td>1:37:33.584</td>\n      <td>5853584</td>\n      <td>51</td>\n      <td>1</td>\n      <td>1:34.570</td>\n      <td>206.018</td>\n      <td>2022</td>\n      <td>1</td>\n      <td>Bahrain Grand Prix</td>\n      <td>2022-03-20</td>\n      <td>15:00:00</td>\n      <td>http://en.wikipedia.org/wiki/2022_Bahrain_Gran...</td>\n      <td>2022-03-18</td>\n      <td>12:00:00</td>\n      <td>2022-03-18</td>\n      <td>15:00:00</td>\n      <td>2022-03-19</td>\n      <td>12:00:00</td>\n      <td>2022-03-19</td>\n      <td>15:00:00</td>\n      <td>\\N</td>\n      <td>\\N</td>\n      <td>16.0</td>\n      <td>1.0</td>\n      <td>1:31.471</td>\n      <td>1:30.932</td>\n      <td>1:30.558</td>\n      <td>NaN</td>\n      <td>NaN</td>\n      <td>NaN</td>\n      <td>NaN</td>\n      <td>NaN</td>\n      <td>NaN</td>\n      <td>NaN</td>\n      <td>NaN</td>\n      <td>NaN</td>\n      <td>NaN</td>\n      <td>NaN</td>\n      <td>leclerc</td>\n      <td>16</td>\n      <td>LEC</td>\n      <td>Charles</td>\n      <td>Leclerc</td>\n      <td>1997-10-16</td>\n      <td>Monegasque</td>\n      <td>http://en.wikipedia.org/wiki/Charles_Leclerc</td>\n      <td>ferrari</td>\n      <td>Ferrari</td>\n      <td>Italian</td>\n      <td>http://en.wikipedia.org/wiki/Scuderia_Ferrari</td>\n      <td>Finished</td>\n      <td>bahrain</td>\n      <td>Bahrain International Circuit</td>\n      <td>Sakhir</td>\n      <td>Bahrain</td>\n      <td>26.0325</td>\n      <td>50.5106</td>\n      <td>7</td>\n      <td>http://en.wikipedia.org/wiki/Bahrain_Internati...</td>\n      <td>26.0</td>\n      <td>1.0</td>\n      <td>1</td>\n      <td>1.0</td>\n      <td>44.0</td>\n      <td>1.0</td>\n      <td>1</td>\n      <td>1.0</td>\n      <td>4.0</td>\n      <td>4.0</td>\n      <td>4.0</td>\n      <td>3.0</td>\n      <td>3.0</td>\n      <td>5.0</td>\n      <td>3.0</td>\n      <td>3.0</td>\n      <td>1.0</td>\n      <td>1.0</td>\n      <td>1.0</td>\n      <td>0.0</td>\n      <td>0.0</td>\n      <td>57.0</td>\n      <td>308.238</td>\n      <td>5.412</td>\n      <td>15.0</td>\n      <td>16.8</td>\n      <td>327.9</td>\n      <td>-3.5</td>\n      <td>-2.0</td>\n      <td>21.0</td>\n      <td>18.5</td>\n    </tr>\n    <tr>\n      <th>1</th>\n      <td>55</td>\n      <td>3</td>\n      <td>2</td>\n      <td>2</td>\n      <td>2</td>\n      <td>18.0</td>\n      <td>57</td>\n      <td>+5.598</td>\n      <td>5859182</td>\n      <td>52</td>\n      <td>3</td>\n      <td>1:35.740</td>\n      <td>203.501</td>\n      <td>2022</td>\n      <td>1</td>\n      <td>Bahrain Grand Prix</td>\n      <td>2022-03-20</td>\n      <td>15:00:00</td>\n      <td>http://en.wikipedia.org/wiki/2022_Bahrain_Gran...</td>\n      <td>2022-03-18</td>\n      <td>12:00:00</td>\n      <td>2022-03-18</td>\n      <td>15:00:00</td>\n      <td>2022-03-19</td>\n      <td>12:00:00</td>\n      <td>2022-03-19</td>\n      <td>15:00:00</td>\n      <td>\\N</td>\n      <td>\\N</td>\n      <td>55.0</td>\n      <td>3.0</td>\n      <td>1:31.567</td>\n      <td>1:30.787</td>\n      <td>1:30.687</td>\n      <td>NaN</td>\n      <td>NaN</td>\n      <td>NaN</td>\n      <td>NaN</td>\n      <td>NaN</td>\n      <td>NaN</td>\n      <td>NaN</td>\n      <td>NaN</td>\n      <td>NaN</td>\n      <td>NaN</td>\n      <td>NaN</td>\n      <td>sainz</td>\n      <td>55</td>\n      <td>SAI</td>\n      <td>Carlos</td>\n      <td>Sainz</td>\n      <td>1994-09-01</td>\n      <td>Spanish</td>\n      <td>http://en.wikipedia.org/wiki/Carlos_Sainz_Jr.</td>\n      <td>ferrari</td>\n      <td>Ferrari</td>\n      <td>Italian</td>\n      <td>http://en.wikipedia.org/wiki/Scuderia_Ferrari</td>\n      <td>Finished</td>\n      <td>bahrain</td>\n      <td>Bahrain International Circuit</td>\n      <td>Sakhir</td>\n      <td>Bahrain</td>\n      <td>26.0325</td>\n      <td>50.5106</td>\n      <td>7</td>\n      <td>http://en.wikipedia.org/wiki/Bahrain_Internati...</td>\n      <td>18.0</td>\n      <td>2.0</td>\n      <td>2</td>\n      <td>0.0</td>\n      <td>44.0</td>\n      <td>1.0</td>\n      <td>1</td>\n      <td>1.0</td>\n      <td>4.0</td>\n      <td>4.0</td>\n      <td>4.0</td>\n      <td>3.0</td>\n      <td>3.0</td>\n      <td>5.0</td>\n      <td>3.0</td>\n      <td>3.0</td>\n      <td>1.0</td>\n      <td>1.0</td>\n      <td>1.0</td>\n      <td>0.0</td>\n      <td>0.0</td>\n      <td>57.0</td>\n      <td>308.238</td>\n      <td>5.412</td>\n      <td>15.0</td>\n      <td>16.8</td>\n      <td>327.9</td>\n      <td>-3.5</td>\n      <td>-2.0</td>\n      <td>21.0</td>\n      <td>18.5</td>\n    </tr>\n    <tr>\n      <th>2</th>\n      <td>44</td>\n      <td>5</td>\n      <td>3</td>\n      <td>3</td>\n      <td>3</td>\n      <td>15.0</td>\n      <td>57</td>\n      <td>+9.675</td>\n      <td>5863259</td>\n      <td>53</td>\n      <td>5</td>\n      <td>1:36.228</td>\n      <td>202.469</td>\n      <td>2022</td>\n      <td>1</td>\n      <td>Bahrain Grand Prix</td>\n      <td>2022-03-20</td>\n      <td>15:00:00</td>\n      <td>http://en.wikipedia.org/wiki/2022_Bahrain_Gran...</td>\n      <td>2022-03-18</td>\n      <td>12:00:00</td>\n      <td>2022-03-18</td>\n      <td>15:00:00</td>\n      <td>2022-03-19</td>\n      <td>12:00:00</td>\n      <td>2022-03-19</td>\n      <td>15:00:00</td>\n      <td>\\N</td>\n      <td>\\N</td>\n      <td>44.0</td>\n      <td>5.0</td>\n      <td>1:32.285</td>\n      <td>1:31.048</td>\n      <td>1:31.238</td>\n      <td>NaN</td>\n      <td>NaN</td>\n      <td>NaN</td>\n      <td>NaN</td>\n      <td>NaN</td>\n      <td>NaN</td>\n      <td>NaN</td>\n      <td>NaN</td>\n      <td>NaN</td>\n      <td>NaN</td>\n      <td>NaN</td>\n      <td>hamilton</td>\n      <td>44</td>\n      <td>HAM</td>\n      <td>Lewis</td>\n      <td>Hamilton</td>\n      <td>1985-01-07</td>\n      <td>British</td>\n      <td>http://en.wikipedia.org/wiki/Lewis_Hamilton</td>\n      <td>mercedes</td>\n      <td>Mercedes</td>\n      <td>German</td>\n      <td>http://en.wikipedia.org/wiki/Mercedes-Benz_in_...</td>\n      <td>Finished</td>\n      <td>bahrain</td>\n      <td>Bahrain International Circuit</td>\n      <td>Sakhir</td>\n      <td>Bahrain</td>\n      <td>26.0325</td>\n      <td>50.5106</td>\n      <td>7</td>\n      <td>http://en.wikipedia.org/wiki/Bahrain_Internati...</td>\n      <td>15.0</td>\n      <td>3.0</td>\n      <td>3</td>\n      <td>0.0</td>\n      <td>27.0</td>\n      <td>2.0</td>\n      <td>2</td>\n      <td>0.0</td>\n      <td>4.0</td>\n      <td>4.0</td>\n      <td>4.0</td>\n      <td>3.0</td>\n      <td>3.0</td>\n      <td>5.0</td>\n      <td>3.0</td>\n      <td>3.0</td>\n      <td>1.0</td>\n      <td>1.0</td>\n      <td>1.0</td>\n      <td>0.0</td>\n      <td>0.0</td>\n      <td>57.0</td>\n      <td>308.238</td>\n      <td>5.412</td>\n      <td>15.0</td>\n      <td>16.8</td>\n      <td>327.9</td>\n      <td>-3.5</td>\n      <td>-2.0</td>\n      <td>21.0</td>\n      <td>18.5</td>\n    </tr>\n    <tr>\n      <th>3</th>\n      <td>63</td>\n      <td>9</td>\n      <td>4</td>\n      <td>4</td>\n      <td>4</td>\n      <td>12.0</td>\n      <td>57</td>\n      <td>+11.211</td>\n      <td>5864795</td>\n      <td>56</td>\n      <td>6</td>\n      <td>1:36.302</td>\n      <td>202.313</td>\n      <td>2022</td>\n      <td>1</td>\n      <td>Bahrain Grand Prix</td>\n      <td>2022-03-20</td>\n      <td>15:00:00</td>\n      <td>http://en.wikipedia.org/wiki/2022_Bahrain_Gran...</td>\n      <td>2022-03-18</td>\n      <td>12:00:00</td>\n      <td>2022-03-18</td>\n      <td>15:00:00</td>\n      <td>2022-03-19</td>\n      <td>12:00:00</td>\n      <td>2022-03-19</td>\n      <td>15:00:00</td>\n      <td>\\N</td>\n      <td>\\N</td>\n      <td>63.0</td>\n      <td>9.0</td>\n      <td>1:32.269</td>\n      <td>1:31.252</td>\n      <td>1:32.216</td>\n      <td>NaN</td>\n      <td>NaN</td>\n      <td>NaN</td>\n      <td>NaN</td>\n      <td>NaN</td>\n      <td>NaN</td>\n      <td>NaN</td>\n      <td>NaN</td>\n      <td>NaN</td>\n      <td>NaN</td>\n      <td>NaN</td>\n      <td>russell</td>\n      <td>63</td>\n      <td>RUS</td>\n      <td>George</td>\n      <td>Russell</td>\n      <td>1998-02-15</td>\n      <td>British</td>\n      <td>http://en.wikipedia.org/wiki/George_Russell_(r...</td>\n      <td>mercedes</td>\n      <td>Mercedes</td>\n      <td>German</td>\n      <td>http://en.wikipedia.org/wiki/Mercedes-Benz_in_...</td>\n      <td>Finished</td>\n      <td>bahrain</td>\n      <td>Bahrain International Circuit</td>\n      <td>Sakhir</td>\n      <td>Bahrain</td>\n      <td>26.0325</td>\n      <td>50.5106</td>\n      <td>7</td>\n      <td>http://en.wikipedia.org/wiki/Bahrain_Internati...</td>\n      <td>12.0</td>\n      <td>4.0</td>\n      <td>4</td>\n      <td>0.0</td>\n      <td>27.0</td>\n      <td>2.0</td>\n      <td>2</td>\n      <td>0.0</td>\n      <td>4.0</td>\n      <td>4.0</td>\n      <td>4.0</td>\n      <td>3.0</td>\n      <td>3.0</td>\n      <td>5.0</td>\n      <td>3.0</td>\n      <td>3.0</td>\n      <td>1.0</td>\n      <td>1.0</td>\n      <td>1.0</td>\n      <td>0.0</td>\n      <td>0.0</td>\n      <td>57.0</td>\n      <td>308.238</td>\n      <td>5.412</td>\n      <td>15.0</td>\n      <td>16.8</td>\n      <td>327.9</td>\n      <td>-3.5</td>\n      <td>-2.0</td>\n      <td>21.0</td>\n      <td>18.5</td>\n    </tr>\n    <tr>\n      <th>4</th>\n      <td>20</td>\n      <td>7</td>\n      <td>5</td>\n      <td>5</td>\n      <td>5</td>\n      <td>10.0</td>\n      <td>57</td>\n      <td>+14.754</td>\n      <td>5868338</td>\n      <td>53</td>\n      <td>8</td>\n      <td>1:36.623</td>\n      <td>201.641</td>\n      <td>2022</td>\n      <td>1</td>\n      <td>Bahrain Grand Prix</td>\n      <td>2022-03-20</td>\n      <td>15:00:00</td>\n      <td>http://en.wikipedia.org/wiki/2022_Bahrain_Gran...</td>\n      <td>2022-03-18</td>\n      <td>12:00:00</td>\n      <td>2022-03-18</td>\n      <td>15:00:00</td>\n      <td>2022-03-19</td>\n      <td>12:00:00</td>\n      <td>2022-03-19</td>\n      <td>15:00:00</td>\n      <td>\\N</td>\n      <td>\\N</td>\n      <td>20.0</td>\n      <td>7.0</td>\n      <td>1:31.955</td>\n      <td>1:31.461</td>\n      <td>1:31.808</td>\n      <td>NaN</td>\n      <td>NaN</td>\n      <td>NaN</td>\n      <td>NaN</td>\n      <td>NaN</td>\n      <td>NaN</td>\n      <td>NaN</td>\n      <td>NaN</td>\n      <td>NaN</td>\n      <td>NaN</td>\n      <td>NaN</td>\n      <td>kevin_magnussen</td>\n      <td>20</td>\n      <td>MAG</td>\n      <td>Kevin</td>\n      <td>Magnussen</td>\n      <td>1992-10-05</td>\n      <td>Danish</td>\n      <td>http://en.wikipedia.org/wiki/Kevin_Magnussen</td>\n      <td>haas</td>\n      <td>Haas F1 Team</td>\n      <td>American</td>\n      <td>http://en.wikipedia.org/wiki/Haas_F1_Team</td>\n      <td>Finished</td>\n      <td>bahrain</td>\n      <td>Bahrain International Circuit</td>\n      <td>Sakhir</td>\n      <td>Bahrain</td>\n      <td>26.0325</td>\n      <td>50.5106</td>\n      <td>7</td>\n      <td>http://en.wikipedia.org/wiki/Bahrain_Internati...</td>\n      <td>10.0</td>\n      <td>5.0</td>\n      <td>5</td>\n      <td>0.0</td>\n      <td>10.0</td>\n      <td>3.0</td>\n      <td>3</td>\n      <td>0.0</td>\n      <td>4.0</td>\n      <td>4.0</td>\n      <td>4.0</td>\n      <td>3.0</td>\n      <td>3.0</td>\n      <td>5.0</td>\n      <td>3.0</td>\n      <td>3.0</td>\n      <td>1.0</td>\n      <td>1.0</td>\n      <td>1.0</td>\n      <td>0.0</td>\n      <td>0.0</td>\n      <td>57.0</td>\n      <td>308.238</td>\n      <td>5.412</td>\n      <td>15.0</td>\n      <td>16.8</td>\n      <td>327.9</td>\n      <td>-3.5</td>\n      <td>-2.0</td>\n      <td>21.0</td>\n      <td>18.5</td>\n    </tr>\n  </tbody>\n</table>\n</div>"
     },
     "execution_count": 42,
     "metadata": {},
     "output_type": "execute_result"
    }
   ],
   "source": [
    "\n",
    "from langchain.agents.agent_types import AgentType\n",
    "from langchain.chat_models import ChatOpenAI\n",
    "from langchain_experimental.agents.agent_toolkits import create_pandas_dataframe_agent\n",
    "\n",
    "import pandas as pd\n",
    "from langchain.llms import OpenAI\n",
    "\n",
    "df = pd.read_csv(\"C:\\\\Users\\\\marce\\\\Downloads\\\\data2022_2023 (1).csv\")\n",
    "df.head()\n"
   ],
   "metadata": {
    "collapsed": false,
    "ExecuteTime": {
     "end_time": "2024-01-07T00:17:02.582525600Z",
     "start_time": "2024-01-07T00:17:02.515702900Z"
    }
   },
   "id": "ce9c9e0a6e37c0a8"
  },
  {
   "cell_type": "code",
   "execution_count": 43,
   "outputs": [],
   "source": [
    "agent = create_pandas_dataframe_agent(OpenAI(temperature=0), df, verbose=True)\n"
   ],
   "metadata": {
    "collapsed": false,
    "ExecuteTime": {
     "end_time": "2024-01-07T00:17:06.846398600Z",
     "start_time": "2024-01-07T00:17:06.316239400Z"
    }
   },
   "id": "9f30a4b3dd74af7c"
  },
  {
   "cell_type": "code",
   "execution_count": 46,
   "outputs": [
    {
     "name": "stdout",
     "output_type": "stream",
     "text": [
      "\n",
      "\n",
      "\u001B[1m> Entering new AgentExecutor chain...\u001B[0m\n",
      "\u001B[32;1m\u001B[1;3mThought: We need to filter the dataframe to only include rows where the surname is \"Verstappen\" and the year is 2023. Then, we can count the number of rows in the filtered dataframe.\n",
      "Action: python_repl_ast\n",
      "Action Input: df[(df[\"surname\"] == \"Verstappen\") & (df[\"year\"] == 2023)]\u001B[0m\n",
      "Observation: \u001B[36;1m\u001B[1;3m     number_x  grid position positionText  positionOrder  points  laps  \\\n",
      "440         1     1        1            1              1    25.0    57   \n",
      "461         1    15        2            2              2    19.0    50   \n",
      "480         1     1        1            1              1    25.0    58   \n",
      "501         1     2        2            2              2    18.0    51   \n",
      "520         1     9        1            1              1    26.0    57   \n",
      "540         1     1        1            1              1    25.0    78   \n",
      "560         1     1        1            1              1    26.0    66   \n",
      "580         1     1        1            1              1    25.0    70   \n",
      "600         1     1        1            1              1    26.0    71   \n",
      "620         1     1        1            1              1    26.0    52   \n",
      "640         1     2        1            1              1    26.0    70   \n",
      "660         1     6        1            1              1    25.0    44   \n",
      "\n",
      "            time milliseconds fastestLap  rank fastestLapTime fastestLapSpeed  \\\n",
      "440  1:33:56.736      5636736         44     6       1:36.236         202.452   \n",
      "461       +5.355      4880249         50     1       1:31.906         241.838   \n",
      "480  2:32:38.371      9158371         49     2       1:20.342         236.498   \n",
      "501       +2.137      5564573         51     2       1:44.232         207.333   \n",
      "520  1:27:38.241      5258241         56     1       1:29.708         217.184   \n",
      "540  1:48:51.980      6531980         23     7       1:16.604         156.822   \n",
      "560  1:27:57.940      5277940         61     1       1:16.330         219.641   \n",
      "580  1:33:58.348      5638348         68     3       1:15.594         207.683   \n",
      "600  1:25:33.607      5133607         71     1       1:07.012         231.970   \n",
      "620  1:25:16.938      5116938         42     1       1:30.275         234.922   \n",
      "640  1:38:08.634      5888634         53     1       1:20.504         195.910   \n",
      "660  1:22:30.450      4950450         32     2       1:48.922         231.490   \n",
      "\n",
      "     year  round                nameDriver        date  timeRace  \\\n",
      "440  2023      1        Bahrain Grand Prix  2023-03-05  15:00:00   \n",
      "461  2023      2  Saudi Arabian Grand Prix  2023-03-19  17:00:00   \n",
      "480  2023      3     Australian Grand Prix  2023-04-02  05:00:00   \n",
      "501  2023      4     Azerbaijan Grand Prix  2023-04-30  11:00:00   \n",
      "520  2023      5          Miami Grand Prix  2023-05-07  19:30:00   \n",
      "540  2023      6         Monaco Grand Prix  2023-05-28  13:00:00   \n",
      "560  2023      7        Spanish Grand Prix  2023-06-04  13:00:00   \n",
      "580  2023      8       Canadian Grand Prix  2023-06-18  18:00:00   \n",
      "600  2023      9       Austrian Grand Prix  2023-07-02  13:00:00   \n",
      "620  2023     10        British Grand Prix  2023-07-09  14:00:00   \n",
      "640  2023     11      Hungarian Grand Prix  2023-07-23  13:00:00   \n",
      "660  2023     12        Belgian Grand Prix  2023-07-30  13:00:00   \n",
      "\n",
      "                                                 url_x    fp1_date  fp1_time  \\\n",
      "440  https://en.wikipedia.org/wiki/2023_Bahrain_Gra...  2023-03-03  11:30:00   \n",
      "461  https://en.wikipedia.org/wiki/2023_Saudi_Arabi...  2023-03-17  13:30:00   \n",
      "480  https://en.wikipedia.org/wiki/2023_Australian_...  2023-03-31  01:30:00   \n",
      "501  https://en.wikipedia.org/wiki/2023_Azerbaijan_...  2023-04-28  09:30:00   \n",
      "520  https://en.wikipedia.org/wiki/2023_Miami_Grand...  2023-05-05  18:00:00   \n",
      "540  https://en.wikipedia.org/wiki/2023_Monaco_Gran...  2023-05-26  11:30:00   \n",
      "560  https://en.wikipedia.org/wiki/2023_Spanish_Gra...  2023-06-02  11:30:00   \n",
      "580  https://en.wikipedia.org/wiki/2023_Canadian_Gr...  2023-06-16  17:30:00   \n",
      "600  https://en.wikipedia.org/wiki/2023_Austrian_Gr...  2023-06-30  11:30:00   \n",
      "620  https://en.wikipedia.org/wiki/2023_British_Gra...  2023-07-07  11:30:00   \n",
      "640  https://en.wikipedia.org/wiki/2023_Hungarian_G...  2023-07-21  11:30:00   \n",
      "660  https://en.wikipedia.org/wiki/2023_Belgian_Gra...  2023-07-28  11:30:00   \n",
      "\n",
      "       fp2_date  fp2_time    fp3_date  fp3_time  quali_date quali_time  \\\n",
      "440  2023-03-03  15:00:00  2023-03-04  11:30:00  2023-03-04   15:00:00   \n",
      "461  2023-03-17  17:00:00  2023-03-18  13:30:00  2023-03-18   17:00:00   \n",
      "480  2023-03-31  05:00:00  2023-04-01  01:30:00  2023-04-01   05:00:00   \n",
      "501  2023-04-29  09:30:00          \\N        \\N  2023-04-28   13:00:00   \n",
      "520  2023-05-05  21:30:00  2023-05-06  16:30:00  2023-05-06   20:00:00   \n",
      "540  2023-05-26  15:00:00  2023-05-27  10:30:00  2023-05-27   14:00:00   \n",
      "560  2023-06-02  15:00:00  2023-06-03  10:30:00  2023-06-03   14:00:00   \n",
      "580  2023-06-16  21:00:00  2023-06-17  16:30:00  2023-06-17   20:00:00   \n",
      "600  2023-07-01  10:30:00          \\N        \\N  2023-06-30   15:00:00   \n",
      "620  2023-07-07  15:00:00  2023-07-08  10:30:00  2023-07-08   14:00:00   \n",
      "640  2023-07-21  15:00:00  2023-07-22  10:30:00  2023-07-22   14:00:00   \n",
      "660  2023-07-29  10:30:00          \\N        \\N  2023-07-28   15:00:00   \n",
      "\n",
      "    sprint_date sprint_time  numberQualifying  positionQualifying        q1  \\\n",
      "440          \\N          \\N               1.0                 1.0  1:31.295   \n",
      "461          \\N          \\N               1.0                15.0  1:28.761   \n",
      "480          \\N          \\N               1.0                 1.0  1:17.384   \n",
      "501  2023-04-29    13:30:00               1.0                 2.0  1:41.398   \n",
      "520          \\N          \\N               1.0                 9.0  1:27.363   \n",
      "540          \\N          \\N               1.0                 1.0  1:12.386   \n",
      "560          \\N          \\N               1.0                 1.0  1:13.615   \n",
      "580          \\N          \\N               1.0                 1.0  1:20.851   \n",
      "600  2023-07-01    14:30:00               1.0                 1.0  1:05.116   \n",
      "620          \\N          \\N               1.0                 1.0  1:29.428   \n",
      "640          \\N          \\N               1.0                 2.0  1:18.318   \n",
      "660  2023-07-29    14:30:00               1.0                 1.0  1:58.515   \n",
      "\n",
      "           q2        q3  numberSprint  gridSprint positionSprint  \\\n",
      "440  1:30.503  1:29.708           NaN         NaN            NaN   \n",
      "461  1:49.953       NaN           NaN         NaN            NaN   \n",
      "480  1:17.056  1:16.732           NaN         NaN            NaN   \n",
      "501  1:40.822  1:40.391           1.0         3.0              3   \n",
      "520  1:26.814        \\N           NaN         NaN            NaN   \n",
      "540  1:11.908  1:11.365           NaN         NaN            NaN   \n",
      "560  1:12.760  1:12.272           NaN         NaN            NaN   \n",
      "580  1:19.092  1:25.858           NaN         NaN            NaN   \n",
      "600  1:04.951  1:04.391           1.0         1.0              1   \n",
      "620  1:27.702  1:26.720           NaN         NaN            NaN   \n",
      "640  1:17.547  1:16.612           NaN         NaN            NaN   \n",
      "660  1:52.784  1:46.168           1.0         1.0              1   \n",
      "\n",
      "    positionTextSprint  positionOrderSprint  pointsSprint  lapsSprint  \\\n",
      "440                NaN                  NaN           NaN         NaN   \n",
      "461                NaN                  NaN           NaN         NaN   \n",
      "480                NaN                  NaN           NaN         NaN   \n",
      "501                  3                  3.0           6.0        17.0   \n",
      "520                NaN                  NaN           NaN         NaN   \n",
      "540                NaN                  NaN           NaN         NaN   \n",
      "560                NaN                  NaN           NaN         NaN   \n",
      "580                NaN                  NaN           NaN         NaN   \n",
      "600                  1                  1.0           8.0        24.0   \n",
      "620                NaN                  NaN           NaN         NaN   \n",
      "640                NaN                  NaN           NaN         NaN   \n",
      "660                  1                  1.0           8.0        11.0   \n",
      "\n",
      "    timeSprint millisecondsSprint fastestLapSprint fastestLapTimeSprint  \\\n",
      "440        NaN                NaN              NaN                  NaN   \n",
      "461        NaN                NaN              NaN                  NaN   \n",
      "480        NaN                NaN              NaN                  NaN   \n",
      "501     +5.065            2002732               10             1:43.723   \n",
      "520        NaN                NaN              NaN                  NaN   \n",
      "540        NaN                NaN              NaN                  NaN   \n",
      "560        NaN                NaN              NaN                  NaN   \n",
      "580        NaN                NaN              NaN                  NaN   \n",
      "600  30:26.730            1826730               19             1:14.292   \n",
      "620        NaN                NaN              NaN                  NaN   \n",
      "640        NaN                NaN              NaN                  NaN   \n",
      "660  24:58.433            1498433                6             1:58.943   \n",
      "\n",
      "          driverRef  number_y code forename     surname         dob  \\\n",
      "440  max_verstappen        33  VER      Max  Verstappen  1997-09-30   \n",
      "461  max_verstappen        33  VER      Max  Verstappen  1997-09-30   \n",
      "480  max_verstappen        33  VER      Max  Verstappen  1997-09-30   \n",
      "501  max_verstappen        33  VER      Max  Verstappen  1997-09-30   \n",
      "520  max_verstappen        33  VER      Max  Verstappen  1997-09-30   \n",
      "540  max_verstappen        33  VER      Max  Verstappen  1997-09-30   \n",
      "560  max_verstappen        33  VER      Max  Verstappen  1997-09-30   \n",
      "580  max_verstappen        33  VER      Max  Verstappen  1997-09-30   \n",
      "600  max_verstappen        33  VER      Max  Verstappen  1997-09-30   \n",
      "620  max_verstappen        33  VER      Max  Verstappen  1997-09-30   \n",
      "640  max_verstappen        33  VER      Max  Verstappen  1997-09-30   \n",
      "660  max_verstappen        33  VER      Max  Verstappen  1997-09-30   \n",
      "\n",
      "    nationalityDriver                                        url_y  \\\n",
      "440             Dutch  http://en.wikipedia.org/wiki/Max_Verstappen   \n",
      "461             Dutch  http://en.wikipedia.org/wiki/Max_Verstappen   \n",
      "480             Dutch  http://en.wikipedia.org/wiki/Max_Verstappen   \n",
      "501             Dutch  http://en.wikipedia.org/wiki/Max_Verstappen   \n",
      "520             Dutch  http://en.wikipedia.org/wiki/Max_Verstappen   \n",
      "540             Dutch  http://en.wikipedia.org/wiki/Max_Verstappen   \n",
      "560             Dutch  http://en.wikipedia.org/wiki/Max_Verstappen   \n",
      "580             Dutch  http://en.wikipedia.org/wiki/Max_Verstappen   \n",
      "600             Dutch  http://en.wikipedia.org/wiki/Max_Verstappen   \n",
      "620             Dutch  http://en.wikipedia.org/wiki/Max_Verstappen   \n",
      "640             Dutch  http://en.wikipedia.org/wiki/Max_Verstappen   \n",
      "660             Dutch  http://en.wikipedia.org/wiki/Max_Verstappen   \n",
      "\n",
      "    constructorRef nameConstructor nationalityConstructor  \\\n",
      "440       red_bull        Red Bull               Austrian   \n",
      "461       red_bull        Red Bull               Austrian   \n",
      "480       red_bull        Red Bull               Austrian   \n",
      "501       red_bull        Red Bull               Austrian   \n",
      "520       red_bull        Red Bull               Austrian   \n",
      "540       red_bull        Red Bull               Austrian   \n",
      "560       red_bull        Red Bull               Austrian   \n",
      "580       red_bull        Red Bull               Austrian   \n",
      "600       red_bull        Red Bull               Austrian   \n",
      "620       red_bull        Red Bull               Austrian   \n",
      "640       red_bull        Red Bull               Austrian   \n",
      "660       red_bull        Red Bull               Austrian   \n",
      "\n",
      "                                          url_x.1    status     circuitRef  \\\n",
      "440  http://en.wikipedia.org/wiki/Red_Bull_Racing  Finished        bahrain   \n",
      "461  http://en.wikipedia.org/wiki/Red_Bull_Racing  Finished         jeddah   \n",
      "480  http://en.wikipedia.org/wiki/Red_Bull_Racing  Finished    albert_park   \n",
      "501  http://en.wikipedia.org/wiki/Red_Bull_Racing  Finished           baku   \n",
      "520  http://en.wikipedia.org/wiki/Red_Bull_Racing  Finished          miami   \n",
      "540  http://en.wikipedia.org/wiki/Red_Bull_Racing  Finished         monaco   \n",
      "560  http://en.wikipedia.org/wiki/Red_Bull_Racing  Finished      catalunya   \n",
      "580  http://en.wikipedia.org/wiki/Red_Bull_Racing  Finished     villeneuve   \n",
      "600  http://en.wikipedia.org/wiki/Red_Bull_Racing  Finished  red_bull_ring   \n",
      "620  http://en.wikipedia.org/wiki/Red_Bull_Racing  Finished    silverstone   \n",
      "640  http://en.wikipedia.org/wiki/Red_Bull_Racing  Finished    hungaroring   \n",
      "660  http://en.wikipedia.org/wiki/Red_Bull_Racing  Finished            spa   \n",
      "\n",
      "                               name     location       country      lat  \\\n",
      "440   Bahrain International Circuit       Sakhir       Bahrain  26.0325   \n",
      "461         Jeddah Corniche Circuit       Jeddah  Saudi Arabia  21.6319   \n",
      "480  Albert Park Grand Prix Circuit    Melbourne     Australia -37.8497   \n",
      "501               Baku City Circuit         Baku    Azerbaijan  40.3725   \n",
      "520   Miami International Autodrome        Miami           USA  25.9581   \n",
      "540               Circuit de Monaco  Monte-Carlo        Monaco  43.7347   \n",
      "560  Circuit de Barcelona-Catalunya     Montmeló         Spain  41.5700   \n",
      "580       Circuit Gilles Villeneuve     Montreal        Canada  45.5000   \n",
      "600                   Red Bull Ring    Spielberg       Austria  47.2197   \n",
      "620             Silverstone Circuit  Silverstone            UK  52.0786   \n",
      "640                     Hungaroring     Budapest       Hungary  47.5789   \n",
      "660    Circuit de Spa-Francorchamps          Spa       Belgium  50.4372   \n",
      "\n",
      "           lng  alt                                            url_y.1  \\\n",
      "440   50.51060    7  http://en.wikipedia.org/wiki/Bahrain_Internati...   \n",
      "461   39.10440   15  http://en.wikipedia.org/wiki/Jeddah_Street_Cir...   \n",
      "480  144.96800   10  http://en.wikipedia.org/wiki/Melbourne_Grand_P...   \n",
      "501   49.85330   -7     http://en.wikipedia.org/wiki/Baku_City_Circuit   \n",
      "520  -80.23890   \\N  http://en.wikipedia.org/wiki/Miami_Internation...   \n",
      "540    7.42056    7     http://en.wikipedia.org/wiki/Circuit_de_Monaco   \n",
      "560    2.26111  109  http://en.wikipedia.org/wiki/Circuit_de_Barcel...   \n",
      "580  -73.52280   13  http://en.wikipedia.org/wiki/Circuit_Gilles_Vi...   \n",
      "600   14.76470  678         http://en.wikipedia.org/wiki/Red_Bull_Ring   \n",
      "620   -1.01694  153   http://en.wikipedia.org/wiki/Silverstone_Circuit   \n",
      "640   19.24860  264           http://en.wikipedia.org/wiki/Hungaroring   \n",
      "660    5.97139  401  http://en.wikipedia.org/wiki/Circuit_de_Spa-Fr...   \n",
      "\n",
      "     pointsStandings  positionStandings  positionTextStandings  wins  \\\n",
      "440             25.0                1.0                      1   1.0   \n",
      "461             44.0                1.0                      1   1.0   \n",
      "480             69.0                1.0                      1   2.0   \n",
      "501             93.0                1.0                      1   2.0   \n",
      "520            119.0                1.0                      1   3.0   \n",
      "540            144.0                1.0                      1   4.0   \n",
      "560            170.0                1.0                      1   5.0   \n",
      "580            195.0                1.0                      1   6.0   \n",
      "600            229.0                1.0                      1   7.0   \n",
      "620            255.0                1.0                      1   8.0   \n",
      "640            281.0                1.0                      1   9.0   \n",
      "660            314.0                1.0                      1  10.0   \n",
      "\n",
      "     pointsStandings.1  positionStandings.1  positionTextStandings.1  \\\n",
      "440               43.0                  1.0                        1   \n",
      "461               87.0                  1.0                        1   \n",
      "480              123.0                  1.0                        1   \n",
      "501              180.0                  1.0                        1   \n",
      "520              224.0                  1.0                        1   \n",
      "540              249.0                  1.0                        1   \n",
      "560              287.0                  1.0                        1   \n",
      "580              321.0                  1.0                        1   \n",
      "600              377.0                  1.0                        1   \n",
      "620              411.0                  1.0                        1   \n",
      "640              452.0                  1.0                        1   \n",
      "660              503.0                  1.0                        1   \n",
      "\n",
      "     winsStandings  traction  track_evolution  braking  asphalt_grip  lateral  \\\n",
      "440            1.0       4.0              4.0      4.0           3.0      3.0   \n",
      "461            2.0       2.0              4.0      2.0           3.0      3.0   \n",
      "480            3.0       2.0              4.0      2.0           3.0      3.0   \n",
      "501            4.0       NaN              NaN      NaN           NaN      NaN   \n",
      "520            5.0       NaN              NaN      NaN           NaN      NaN   \n",
      "540            6.0       5.0              5.0      2.0           1.0      1.0   \n",
      "560            7.0       3.0              3.0      3.0           3.0      5.0   \n",
      "580            8.0       5.0              5.0      5.0           1.0      1.0   \n",
      "600            9.0       2.0              3.0      3.0           3.0      3.0   \n",
      "620           10.0       3.0              2.0      2.0           3.0      5.0   \n",
      "640           11.0       4.0              4.0      3.0           3.0      3.0   \n",
      "660           12.0       4.0              3.0      4.0           3.0      5.0   \n",
      "\n",
      "     asphalt_abrasion  tyre_stress  downforce  c1_compound  c2_compound  \\\n",
      "440               5.0          3.0        3.0          1.0          1.0   \n",
      "461               2.0          3.0        2.0          0.0          1.0   \n",
      "480               2.0          3.0        3.0          0.0          1.0   \n",
      "501               NaN          NaN        NaN          0.0          0.0   \n",
      "520               NaN          NaN        NaN          0.0          1.0   \n",
      "540               1.0          1.0        5.0          0.0          0.0   \n",
      "560               4.0          5.0        4.0          1.0          1.0   \n",
      "580               2.0          3.0        1.0          0.0          0.0   \n",
      "600               4.0          3.0        3.0          0.0          0.0   \n",
      "620               3.0          5.0        4.0          1.0          1.0   \n",
      "640               2.0          3.0        5.0          0.0          0.0   \n",
      "660               4.0          5.0        2.0          0.0          1.0   \n",
      "\n",
      "     c3_compound  c4_compound  c5_compound  lapsTotal  race_dist  \\\n",
      "440          1.0          0.0          0.0       57.0    308.238   \n",
      "461          1.0          1.0          0.0       50.0    308.450   \n",
      "480          1.0          1.0          0.0       58.0    306.124   \n",
      "501          1.0          1.0          1.0       51.0    306.153   \n",
      "520          1.0          1.0          0.0       57.0    308.484   \n",
      "540          1.0          1.0          1.0       78.0    260.286   \n",
      "560          1.0          0.0          0.0       66.0    307.236   \n",
      "580          1.0          1.0          1.0       70.0    305.270   \n",
      "600          1.0          1.0          1.0       71.0    306.452   \n",
      "620          1.0          0.0          0.0       52.0    306.198   \n",
      "640          1.0          1.0          1.0       70.0    306.630   \n",
      "660          1.0          1.0          0.0       44.0    308.052   \n",
      "\n",
      "     circuit_length  turns  elevation_change  top_speed  \\\n",
      "440           5.412   15.0             16.80      327.9   \n",
      "461           6.174   27.0              2.48      334.6   \n",
      "480           5.278   14.0              2.44      326.2   \n",
      "501           6.003   20.0             26.96      351.8   \n",
      "520           5.412   19.0              3.53      349.3   \n",
      "540           3.337   19.0             41.95      289.0   \n",
      "560           4.657   14.0             29.63      307.2   \n",
      "580           4.361   14.0              5.25      342.7   \n",
      "600           4.318   10.0             63.40      324.7   \n",
      "620           5.891   18.0             11.31      332.6   \n",
      "640           4.381   14.0             34.62      310.3   \n",
      "660           7.004   19.0           1012.10      350.8   \n",
      "\n",
      "     tyre_camber_lim_front  tyre_camber_lim_rear  min_starting_press_front  \\\n",
      "440                  -3.50                 -2.00                      21.0   \n",
      "461                  -3.25                 -1.75                      22.5   \n",
      "480                  -3.25                 -1.75                      23.0   \n",
      "501                    NaN                   NaN                       NaN   \n",
      "520                    NaN                   NaN                       NaN   \n",
      "540                  -3.50                 -2.50                      21.0   \n",
      "560                  -3.25                 -1.75                      23.0   \n",
      "580                  -3.25                 -2.00                      22.0   \n",
      "600                  -3.25                 -1.75                      23.0   \n",
      "620                  -2.75                 -1.50                      26.5   \n",
      "640                  -3.50                 -2.00                      22.0   \n",
      "660                  -2.75                 -1.50                      25.0   \n",
      "\n",
      "     min_starting_press_rear  \n",
      "440                     18.5  \n",
      "461                     21.0  \n",
      "480                     21.0  \n",
      "501                      NaN  \n",
      "520                      NaN  \n",
      "540                     19.5  \n",
      "560                     20.0  \n",
      "580                     20.5  \n",
      "600                     20.0  \n",
      "620                     23.0  \n",
      "640                     19.0  \n",
      "660                     23.0  \u001B[0m\n",
      "Thought:"
     ]
    },
    {
     "ename": "BadRequestError",
     "evalue": "Error code: 400 - {'error': {'message': \"This model's maximum context length is 4097 tokens, however you requested 10414 tokens (10158 in your prompt; 256 for the completion). Please reduce your prompt; or completion length.\", 'type': 'invalid_request_error', 'param': None, 'code': None}}",
     "output_type": "error",
     "traceback": [
      "\u001B[1;31m---------------------------------------------------------------------------\u001B[0m",
      "\u001B[1;31mBadRequestError\u001B[0m                           Traceback (most recent call last)",
      "Cell \u001B[1;32mIn[46], line 1\u001B[0m\n\u001B[1;32m----> 1\u001B[0m agent\u001B[38;5;241m.\u001B[39mrun(\u001B[38;5;124m\"\u001B[39m\u001B[38;5;124mHow many wins did Verstappen (surname) get in 2023 only?\u001B[39m\u001B[38;5;124m\"\u001B[39m)\n",
      "File \u001B[1;32m~\\anaconda3\\envs\\GPT_env2\\Lib\\site-packages\\langchain\\chains\\base.py:507\u001B[0m, in \u001B[0;36mChain.run\u001B[1;34m(self, callbacks, tags, metadata, *args, **kwargs)\u001B[0m\n\u001B[0;32m    505\u001B[0m     \u001B[38;5;28;01mif\u001B[39;00m \u001B[38;5;28mlen\u001B[39m(args) \u001B[38;5;241m!=\u001B[39m \u001B[38;5;241m1\u001B[39m:\n\u001B[0;32m    506\u001B[0m         \u001B[38;5;28;01mraise\u001B[39;00m \u001B[38;5;167;01mValueError\u001B[39;00m(\u001B[38;5;124m\"\u001B[39m\u001B[38;5;124m`run` supports only one positional argument.\u001B[39m\u001B[38;5;124m\"\u001B[39m)\n\u001B[1;32m--> 507\u001B[0m     \u001B[38;5;28;01mreturn\u001B[39;00m \u001B[38;5;28mself\u001B[39m(args[\u001B[38;5;241m0\u001B[39m], callbacks\u001B[38;5;241m=\u001B[39mcallbacks, tags\u001B[38;5;241m=\u001B[39mtags, metadata\u001B[38;5;241m=\u001B[39mmetadata)[\n\u001B[0;32m    508\u001B[0m         _output_key\n\u001B[0;32m    509\u001B[0m     ]\n\u001B[0;32m    511\u001B[0m \u001B[38;5;28;01mif\u001B[39;00m kwargs \u001B[38;5;129;01mand\u001B[39;00m \u001B[38;5;129;01mnot\u001B[39;00m args:\n\u001B[0;32m    512\u001B[0m     \u001B[38;5;28;01mreturn\u001B[39;00m \u001B[38;5;28mself\u001B[39m(kwargs, callbacks\u001B[38;5;241m=\u001B[39mcallbacks, tags\u001B[38;5;241m=\u001B[39mtags, metadata\u001B[38;5;241m=\u001B[39mmetadata)[\n\u001B[0;32m    513\u001B[0m         _output_key\n\u001B[0;32m    514\u001B[0m     ]\n",
      "File \u001B[1;32m~\\anaconda3\\envs\\GPT_env2\\Lib\\site-packages\\langchain\\chains\\base.py:312\u001B[0m, in \u001B[0;36mChain.__call__\u001B[1;34m(self, inputs, return_only_outputs, callbacks, tags, metadata, run_name, include_run_info)\u001B[0m\n\u001B[0;32m    310\u001B[0m \u001B[38;5;28;01mexcept\u001B[39;00m \u001B[38;5;167;01mBaseException\u001B[39;00m \u001B[38;5;28;01mas\u001B[39;00m e:\n\u001B[0;32m    311\u001B[0m     run_manager\u001B[38;5;241m.\u001B[39mon_chain_error(e)\n\u001B[1;32m--> 312\u001B[0m     \u001B[38;5;28;01mraise\u001B[39;00m e\n\u001B[0;32m    313\u001B[0m run_manager\u001B[38;5;241m.\u001B[39mon_chain_end(outputs)\n\u001B[0;32m    314\u001B[0m final_outputs: Dict[\u001B[38;5;28mstr\u001B[39m, Any] \u001B[38;5;241m=\u001B[39m \u001B[38;5;28mself\u001B[39m\u001B[38;5;241m.\u001B[39mprep_outputs(\n\u001B[0;32m    315\u001B[0m     inputs, outputs, return_only_outputs\n\u001B[0;32m    316\u001B[0m )\n",
      "File \u001B[1;32m~\\anaconda3\\envs\\GPT_env2\\Lib\\site-packages\\langchain\\chains\\base.py:306\u001B[0m, in \u001B[0;36mChain.__call__\u001B[1;34m(self, inputs, return_only_outputs, callbacks, tags, metadata, run_name, include_run_info)\u001B[0m\n\u001B[0;32m    299\u001B[0m run_manager \u001B[38;5;241m=\u001B[39m callback_manager\u001B[38;5;241m.\u001B[39mon_chain_start(\n\u001B[0;32m    300\u001B[0m     dumpd(\u001B[38;5;28mself\u001B[39m),\n\u001B[0;32m    301\u001B[0m     inputs,\n\u001B[0;32m    302\u001B[0m     name\u001B[38;5;241m=\u001B[39mrun_name,\n\u001B[0;32m    303\u001B[0m )\n\u001B[0;32m    304\u001B[0m \u001B[38;5;28;01mtry\u001B[39;00m:\n\u001B[0;32m    305\u001B[0m     outputs \u001B[38;5;241m=\u001B[39m (\n\u001B[1;32m--> 306\u001B[0m         \u001B[38;5;28mself\u001B[39m\u001B[38;5;241m.\u001B[39m_call(inputs, run_manager\u001B[38;5;241m=\u001B[39mrun_manager)\n\u001B[0;32m    307\u001B[0m         \u001B[38;5;28;01mif\u001B[39;00m new_arg_supported\n\u001B[0;32m    308\u001B[0m         \u001B[38;5;28;01melse\u001B[39;00m \u001B[38;5;28mself\u001B[39m\u001B[38;5;241m.\u001B[39m_call(inputs)\n\u001B[0;32m    309\u001B[0m     )\n\u001B[0;32m    310\u001B[0m \u001B[38;5;28;01mexcept\u001B[39;00m \u001B[38;5;167;01mBaseException\u001B[39;00m \u001B[38;5;28;01mas\u001B[39;00m e:\n\u001B[0;32m    311\u001B[0m     run_manager\u001B[38;5;241m.\u001B[39mon_chain_error(e)\n",
      "File \u001B[1;32m~\\anaconda3\\envs\\GPT_env2\\Lib\\site-packages\\langchain\\agents\\agent.py:1312\u001B[0m, in \u001B[0;36mAgentExecutor._call\u001B[1;34m(self, inputs, run_manager)\u001B[0m\n\u001B[0;32m   1310\u001B[0m \u001B[38;5;66;03m# We now enter the agent loop (until it returns something).\u001B[39;00m\n\u001B[0;32m   1311\u001B[0m \u001B[38;5;28;01mwhile\u001B[39;00m \u001B[38;5;28mself\u001B[39m\u001B[38;5;241m.\u001B[39m_should_continue(iterations, time_elapsed):\n\u001B[1;32m-> 1312\u001B[0m     next_step_output \u001B[38;5;241m=\u001B[39m \u001B[38;5;28mself\u001B[39m\u001B[38;5;241m.\u001B[39m_take_next_step(\n\u001B[0;32m   1313\u001B[0m         name_to_tool_map,\n\u001B[0;32m   1314\u001B[0m         color_mapping,\n\u001B[0;32m   1315\u001B[0m         inputs,\n\u001B[0;32m   1316\u001B[0m         intermediate_steps,\n\u001B[0;32m   1317\u001B[0m         run_manager\u001B[38;5;241m=\u001B[39mrun_manager,\n\u001B[0;32m   1318\u001B[0m     )\n\u001B[0;32m   1319\u001B[0m     \u001B[38;5;28;01mif\u001B[39;00m \u001B[38;5;28misinstance\u001B[39m(next_step_output, AgentFinish):\n\u001B[0;32m   1320\u001B[0m         \u001B[38;5;28;01mreturn\u001B[39;00m \u001B[38;5;28mself\u001B[39m\u001B[38;5;241m.\u001B[39m_return(\n\u001B[0;32m   1321\u001B[0m             next_step_output, intermediate_steps, run_manager\u001B[38;5;241m=\u001B[39mrun_manager\n\u001B[0;32m   1322\u001B[0m         )\n",
      "File \u001B[1;32m~\\anaconda3\\envs\\GPT_env2\\Lib\\site-packages\\langchain\\agents\\agent.py:1038\u001B[0m, in \u001B[0;36mAgentExecutor._take_next_step\u001B[1;34m(self, name_to_tool_map, color_mapping, inputs, intermediate_steps, run_manager)\u001B[0m\n\u001B[0;32m   1029\u001B[0m \u001B[38;5;28;01mdef\u001B[39;00m \u001B[38;5;21m_take_next_step\u001B[39m(\n\u001B[0;32m   1030\u001B[0m     \u001B[38;5;28mself\u001B[39m,\n\u001B[0;32m   1031\u001B[0m     name_to_tool_map: Dict[\u001B[38;5;28mstr\u001B[39m, BaseTool],\n\u001B[1;32m   (...)\u001B[0m\n\u001B[0;32m   1035\u001B[0m     run_manager: Optional[CallbackManagerForChainRun] \u001B[38;5;241m=\u001B[39m \u001B[38;5;28;01mNone\u001B[39;00m,\n\u001B[0;32m   1036\u001B[0m ) \u001B[38;5;241m-\u001B[39m\u001B[38;5;241m>\u001B[39m Union[AgentFinish, List[Tuple[AgentAction, \u001B[38;5;28mstr\u001B[39m]]]:\n\u001B[0;32m   1037\u001B[0m     \u001B[38;5;28;01mreturn\u001B[39;00m \u001B[38;5;28mself\u001B[39m\u001B[38;5;241m.\u001B[39m_consume_next_step(\n\u001B[1;32m-> 1038\u001B[0m         [\n\u001B[0;32m   1039\u001B[0m             a\n\u001B[0;32m   1040\u001B[0m             \u001B[38;5;28;01mfor\u001B[39;00m a \u001B[38;5;129;01min\u001B[39;00m \u001B[38;5;28mself\u001B[39m\u001B[38;5;241m.\u001B[39m_iter_next_step(\n\u001B[0;32m   1041\u001B[0m                 name_to_tool_map,\n\u001B[0;32m   1042\u001B[0m                 color_mapping,\n\u001B[0;32m   1043\u001B[0m                 inputs,\n\u001B[0;32m   1044\u001B[0m                 intermediate_steps,\n\u001B[0;32m   1045\u001B[0m                 run_manager,\n\u001B[0;32m   1046\u001B[0m             )\n\u001B[0;32m   1047\u001B[0m         ]\n\u001B[0;32m   1048\u001B[0m     )\n",
      "File \u001B[1;32m~\\anaconda3\\envs\\GPT_env2\\Lib\\site-packages\\langchain\\agents\\agent.py:1038\u001B[0m, in \u001B[0;36m<listcomp>\u001B[1;34m(.0)\u001B[0m\n\u001B[0;32m   1029\u001B[0m \u001B[38;5;28;01mdef\u001B[39;00m \u001B[38;5;21m_take_next_step\u001B[39m(\n\u001B[0;32m   1030\u001B[0m     \u001B[38;5;28mself\u001B[39m,\n\u001B[0;32m   1031\u001B[0m     name_to_tool_map: Dict[\u001B[38;5;28mstr\u001B[39m, BaseTool],\n\u001B[1;32m   (...)\u001B[0m\n\u001B[0;32m   1035\u001B[0m     run_manager: Optional[CallbackManagerForChainRun] \u001B[38;5;241m=\u001B[39m \u001B[38;5;28;01mNone\u001B[39;00m,\n\u001B[0;32m   1036\u001B[0m ) \u001B[38;5;241m-\u001B[39m\u001B[38;5;241m>\u001B[39m Union[AgentFinish, List[Tuple[AgentAction, \u001B[38;5;28mstr\u001B[39m]]]:\n\u001B[0;32m   1037\u001B[0m     \u001B[38;5;28;01mreturn\u001B[39;00m \u001B[38;5;28mself\u001B[39m\u001B[38;5;241m.\u001B[39m_consume_next_step(\n\u001B[1;32m-> 1038\u001B[0m         [\n\u001B[0;32m   1039\u001B[0m             a\n\u001B[0;32m   1040\u001B[0m             \u001B[38;5;28;01mfor\u001B[39;00m a \u001B[38;5;129;01min\u001B[39;00m \u001B[38;5;28mself\u001B[39m\u001B[38;5;241m.\u001B[39m_iter_next_step(\n\u001B[0;32m   1041\u001B[0m                 name_to_tool_map,\n\u001B[0;32m   1042\u001B[0m                 color_mapping,\n\u001B[0;32m   1043\u001B[0m                 inputs,\n\u001B[0;32m   1044\u001B[0m                 intermediate_steps,\n\u001B[0;32m   1045\u001B[0m                 run_manager,\n\u001B[0;32m   1046\u001B[0m             )\n\u001B[0;32m   1047\u001B[0m         ]\n\u001B[0;32m   1048\u001B[0m     )\n",
      "File \u001B[1;32m~\\anaconda3\\envs\\GPT_env2\\Lib\\site-packages\\langchain\\agents\\agent.py:1066\u001B[0m, in \u001B[0;36mAgentExecutor._iter_next_step\u001B[1;34m(self, name_to_tool_map, color_mapping, inputs, intermediate_steps, run_manager)\u001B[0m\n\u001B[0;32m   1063\u001B[0m     intermediate_steps \u001B[38;5;241m=\u001B[39m \u001B[38;5;28mself\u001B[39m\u001B[38;5;241m.\u001B[39m_prepare_intermediate_steps(intermediate_steps)\n\u001B[0;32m   1065\u001B[0m     \u001B[38;5;66;03m# Call the LLM to see what to do.\u001B[39;00m\n\u001B[1;32m-> 1066\u001B[0m     output \u001B[38;5;241m=\u001B[39m \u001B[38;5;28mself\u001B[39m\u001B[38;5;241m.\u001B[39magent\u001B[38;5;241m.\u001B[39mplan(\n\u001B[0;32m   1067\u001B[0m         intermediate_steps,\n\u001B[0;32m   1068\u001B[0m         callbacks\u001B[38;5;241m=\u001B[39mrun_manager\u001B[38;5;241m.\u001B[39mget_child() \u001B[38;5;28;01mif\u001B[39;00m run_manager \u001B[38;5;28;01melse\u001B[39;00m \u001B[38;5;28;01mNone\u001B[39;00m,\n\u001B[0;32m   1069\u001B[0m         \u001B[38;5;241m*\u001B[39m\u001B[38;5;241m*\u001B[39minputs,\n\u001B[0;32m   1070\u001B[0m     )\n\u001B[0;32m   1071\u001B[0m \u001B[38;5;28;01mexcept\u001B[39;00m OutputParserException \u001B[38;5;28;01mas\u001B[39;00m e:\n\u001B[0;32m   1072\u001B[0m     \u001B[38;5;28;01mif\u001B[39;00m \u001B[38;5;28misinstance\u001B[39m(\u001B[38;5;28mself\u001B[39m\u001B[38;5;241m.\u001B[39mhandle_parsing_errors, \u001B[38;5;28mbool\u001B[39m):\n",
      "File \u001B[1;32m~\\anaconda3\\envs\\GPT_env2\\Lib\\site-packages\\langchain\\agents\\agent.py:635\u001B[0m, in \u001B[0;36mAgent.plan\u001B[1;34m(self, intermediate_steps, callbacks, **kwargs)\u001B[0m\n\u001B[0;32m    623\u001B[0m \u001B[38;5;250m\u001B[39m\u001B[38;5;124;03m\"\"\"Given input, decided what to do.\u001B[39;00m\n\u001B[0;32m    624\u001B[0m \n\u001B[0;32m    625\u001B[0m \u001B[38;5;124;03mArgs:\u001B[39;00m\n\u001B[1;32m   (...)\u001B[0m\n\u001B[0;32m    632\u001B[0m \u001B[38;5;124;03m    Action specifying what tool to use.\u001B[39;00m\n\u001B[0;32m    633\u001B[0m \u001B[38;5;124;03m\"\"\"\u001B[39;00m\n\u001B[0;32m    634\u001B[0m full_inputs \u001B[38;5;241m=\u001B[39m \u001B[38;5;28mself\u001B[39m\u001B[38;5;241m.\u001B[39mget_full_inputs(intermediate_steps, \u001B[38;5;241m*\u001B[39m\u001B[38;5;241m*\u001B[39mkwargs)\n\u001B[1;32m--> 635\u001B[0m full_output \u001B[38;5;241m=\u001B[39m \u001B[38;5;28mself\u001B[39m\u001B[38;5;241m.\u001B[39mllm_chain\u001B[38;5;241m.\u001B[39mpredict(callbacks\u001B[38;5;241m=\u001B[39mcallbacks, \u001B[38;5;241m*\u001B[39m\u001B[38;5;241m*\u001B[39mfull_inputs)\n\u001B[0;32m    636\u001B[0m \u001B[38;5;28;01mreturn\u001B[39;00m \u001B[38;5;28mself\u001B[39m\u001B[38;5;241m.\u001B[39moutput_parser\u001B[38;5;241m.\u001B[39mparse(full_output)\n",
      "File \u001B[1;32m~\\anaconda3\\envs\\GPT_env2\\Lib\\site-packages\\langchain\\chains\\llm.py:293\u001B[0m, in \u001B[0;36mLLMChain.predict\u001B[1;34m(self, callbacks, **kwargs)\u001B[0m\n\u001B[0;32m    278\u001B[0m \u001B[38;5;28;01mdef\u001B[39;00m \u001B[38;5;21mpredict\u001B[39m(\u001B[38;5;28mself\u001B[39m, callbacks: Callbacks \u001B[38;5;241m=\u001B[39m \u001B[38;5;28;01mNone\u001B[39;00m, \u001B[38;5;241m*\u001B[39m\u001B[38;5;241m*\u001B[39mkwargs: Any) \u001B[38;5;241m-\u001B[39m\u001B[38;5;241m>\u001B[39m \u001B[38;5;28mstr\u001B[39m:\n\u001B[0;32m    279\u001B[0m \u001B[38;5;250m    \u001B[39m\u001B[38;5;124;03m\"\"\"Format prompt with kwargs and pass to LLM.\u001B[39;00m\n\u001B[0;32m    280\u001B[0m \n\u001B[0;32m    281\u001B[0m \u001B[38;5;124;03m    Args:\u001B[39;00m\n\u001B[1;32m   (...)\u001B[0m\n\u001B[0;32m    291\u001B[0m \u001B[38;5;124;03m            completion = llm.predict(adjective=\"funny\")\u001B[39;00m\n\u001B[0;32m    292\u001B[0m \u001B[38;5;124;03m    \"\"\"\u001B[39;00m\n\u001B[1;32m--> 293\u001B[0m     \u001B[38;5;28;01mreturn\u001B[39;00m \u001B[38;5;28mself\u001B[39m(kwargs, callbacks\u001B[38;5;241m=\u001B[39mcallbacks)[\u001B[38;5;28mself\u001B[39m\u001B[38;5;241m.\u001B[39moutput_key]\n",
      "File \u001B[1;32m~\\anaconda3\\envs\\GPT_env2\\Lib\\site-packages\\langchain\\chains\\base.py:312\u001B[0m, in \u001B[0;36mChain.__call__\u001B[1;34m(self, inputs, return_only_outputs, callbacks, tags, metadata, run_name, include_run_info)\u001B[0m\n\u001B[0;32m    310\u001B[0m \u001B[38;5;28;01mexcept\u001B[39;00m \u001B[38;5;167;01mBaseException\u001B[39;00m \u001B[38;5;28;01mas\u001B[39;00m e:\n\u001B[0;32m    311\u001B[0m     run_manager\u001B[38;5;241m.\u001B[39mon_chain_error(e)\n\u001B[1;32m--> 312\u001B[0m     \u001B[38;5;28;01mraise\u001B[39;00m e\n\u001B[0;32m    313\u001B[0m run_manager\u001B[38;5;241m.\u001B[39mon_chain_end(outputs)\n\u001B[0;32m    314\u001B[0m final_outputs: Dict[\u001B[38;5;28mstr\u001B[39m, Any] \u001B[38;5;241m=\u001B[39m \u001B[38;5;28mself\u001B[39m\u001B[38;5;241m.\u001B[39mprep_outputs(\n\u001B[0;32m    315\u001B[0m     inputs, outputs, return_only_outputs\n\u001B[0;32m    316\u001B[0m )\n",
      "File \u001B[1;32m~\\anaconda3\\envs\\GPT_env2\\Lib\\site-packages\\langchain\\chains\\base.py:306\u001B[0m, in \u001B[0;36mChain.__call__\u001B[1;34m(self, inputs, return_only_outputs, callbacks, tags, metadata, run_name, include_run_info)\u001B[0m\n\u001B[0;32m    299\u001B[0m run_manager \u001B[38;5;241m=\u001B[39m callback_manager\u001B[38;5;241m.\u001B[39mon_chain_start(\n\u001B[0;32m    300\u001B[0m     dumpd(\u001B[38;5;28mself\u001B[39m),\n\u001B[0;32m    301\u001B[0m     inputs,\n\u001B[0;32m    302\u001B[0m     name\u001B[38;5;241m=\u001B[39mrun_name,\n\u001B[0;32m    303\u001B[0m )\n\u001B[0;32m    304\u001B[0m \u001B[38;5;28;01mtry\u001B[39;00m:\n\u001B[0;32m    305\u001B[0m     outputs \u001B[38;5;241m=\u001B[39m (\n\u001B[1;32m--> 306\u001B[0m         \u001B[38;5;28mself\u001B[39m\u001B[38;5;241m.\u001B[39m_call(inputs, run_manager\u001B[38;5;241m=\u001B[39mrun_manager)\n\u001B[0;32m    307\u001B[0m         \u001B[38;5;28;01mif\u001B[39;00m new_arg_supported\n\u001B[0;32m    308\u001B[0m         \u001B[38;5;28;01melse\u001B[39;00m \u001B[38;5;28mself\u001B[39m\u001B[38;5;241m.\u001B[39m_call(inputs)\n\u001B[0;32m    309\u001B[0m     )\n\u001B[0;32m    310\u001B[0m \u001B[38;5;28;01mexcept\u001B[39;00m \u001B[38;5;167;01mBaseException\u001B[39;00m \u001B[38;5;28;01mas\u001B[39;00m e:\n\u001B[0;32m    311\u001B[0m     run_manager\u001B[38;5;241m.\u001B[39mon_chain_error(e)\n",
      "File \u001B[1;32m~\\anaconda3\\envs\\GPT_env2\\Lib\\site-packages\\langchain\\chains\\llm.py:103\u001B[0m, in \u001B[0;36mLLMChain._call\u001B[1;34m(self, inputs, run_manager)\u001B[0m\n\u001B[0;32m     98\u001B[0m \u001B[38;5;28;01mdef\u001B[39;00m \u001B[38;5;21m_call\u001B[39m(\n\u001B[0;32m     99\u001B[0m     \u001B[38;5;28mself\u001B[39m,\n\u001B[0;32m    100\u001B[0m     inputs: Dict[\u001B[38;5;28mstr\u001B[39m, Any],\n\u001B[0;32m    101\u001B[0m     run_manager: Optional[CallbackManagerForChainRun] \u001B[38;5;241m=\u001B[39m \u001B[38;5;28;01mNone\u001B[39;00m,\n\u001B[0;32m    102\u001B[0m ) \u001B[38;5;241m-\u001B[39m\u001B[38;5;241m>\u001B[39m Dict[\u001B[38;5;28mstr\u001B[39m, \u001B[38;5;28mstr\u001B[39m]:\n\u001B[1;32m--> 103\u001B[0m     response \u001B[38;5;241m=\u001B[39m \u001B[38;5;28mself\u001B[39m\u001B[38;5;241m.\u001B[39mgenerate([inputs], run_manager\u001B[38;5;241m=\u001B[39mrun_manager)\n\u001B[0;32m    104\u001B[0m     \u001B[38;5;28;01mreturn\u001B[39;00m \u001B[38;5;28mself\u001B[39m\u001B[38;5;241m.\u001B[39mcreate_outputs(response)[\u001B[38;5;241m0\u001B[39m]\n",
      "File \u001B[1;32m~\\anaconda3\\envs\\GPT_env2\\Lib\\site-packages\\langchain\\chains\\llm.py:115\u001B[0m, in \u001B[0;36mLLMChain.generate\u001B[1;34m(self, input_list, run_manager)\u001B[0m\n\u001B[0;32m    113\u001B[0m callbacks \u001B[38;5;241m=\u001B[39m run_manager\u001B[38;5;241m.\u001B[39mget_child() \u001B[38;5;28;01mif\u001B[39;00m run_manager \u001B[38;5;28;01melse\u001B[39;00m \u001B[38;5;28;01mNone\u001B[39;00m\n\u001B[0;32m    114\u001B[0m \u001B[38;5;28;01mif\u001B[39;00m \u001B[38;5;28misinstance\u001B[39m(\u001B[38;5;28mself\u001B[39m\u001B[38;5;241m.\u001B[39mllm, BaseLanguageModel):\n\u001B[1;32m--> 115\u001B[0m     \u001B[38;5;28;01mreturn\u001B[39;00m \u001B[38;5;28mself\u001B[39m\u001B[38;5;241m.\u001B[39mllm\u001B[38;5;241m.\u001B[39mgenerate_prompt(\n\u001B[0;32m    116\u001B[0m         prompts,\n\u001B[0;32m    117\u001B[0m         stop,\n\u001B[0;32m    118\u001B[0m         callbacks\u001B[38;5;241m=\u001B[39mcallbacks,\n\u001B[0;32m    119\u001B[0m         \u001B[38;5;241m*\u001B[39m\u001B[38;5;241m*\u001B[39m\u001B[38;5;28mself\u001B[39m\u001B[38;5;241m.\u001B[39mllm_kwargs,\n\u001B[0;32m    120\u001B[0m     )\n\u001B[0;32m    121\u001B[0m \u001B[38;5;28;01melse\u001B[39;00m:\n\u001B[0;32m    122\u001B[0m     results \u001B[38;5;241m=\u001B[39m \u001B[38;5;28mself\u001B[39m\u001B[38;5;241m.\u001B[39mllm\u001B[38;5;241m.\u001B[39mbind(stop\u001B[38;5;241m=\u001B[39mstop, \u001B[38;5;241m*\u001B[39m\u001B[38;5;241m*\u001B[39m\u001B[38;5;28mself\u001B[39m\u001B[38;5;241m.\u001B[39mllm_kwargs)\u001B[38;5;241m.\u001B[39mbatch(\n\u001B[0;32m    123\u001B[0m         cast(List, prompts), {\u001B[38;5;124m\"\u001B[39m\u001B[38;5;124mcallbacks\u001B[39m\u001B[38;5;124m\"\u001B[39m: callbacks}\n\u001B[0;32m    124\u001B[0m     )\n",
      "File \u001B[1;32m~\\anaconda3\\envs\\GPT_env2\\Lib\\site-packages\\langchain_core\\language_models\\llms.py:516\u001B[0m, in \u001B[0;36mBaseLLM.generate_prompt\u001B[1;34m(self, prompts, stop, callbacks, **kwargs)\u001B[0m\n\u001B[0;32m    508\u001B[0m \u001B[38;5;28;01mdef\u001B[39;00m \u001B[38;5;21mgenerate_prompt\u001B[39m(\n\u001B[0;32m    509\u001B[0m     \u001B[38;5;28mself\u001B[39m,\n\u001B[0;32m    510\u001B[0m     prompts: List[PromptValue],\n\u001B[1;32m   (...)\u001B[0m\n\u001B[0;32m    513\u001B[0m     \u001B[38;5;241m*\u001B[39m\u001B[38;5;241m*\u001B[39mkwargs: Any,\n\u001B[0;32m    514\u001B[0m ) \u001B[38;5;241m-\u001B[39m\u001B[38;5;241m>\u001B[39m LLMResult:\n\u001B[0;32m    515\u001B[0m     prompt_strings \u001B[38;5;241m=\u001B[39m [p\u001B[38;5;241m.\u001B[39mto_string() \u001B[38;5;28;01mfor\u001B[39;00m p \u001B[38;5;129;01min\u001B[39;00m prompts]\n\u001B[1;32m--> 516\u001B[0m     \u001B[38;5;28;01mreturn\u001B[39;00m \u001B[38;5;28mself\u001B[39m\u001B[38;5;241m.\u001B[39mgenerate(prompt_strings, stop\u001B[38;5;241m=\u001B[39mstop, callbacks\u001B[38;5;241m=\u001B[39mcallbacks, \u001B[38;5;241m*\u001B[39m\u001B[38;5;241m*\u001B[39mkwargs)\n",
      "File \u001B[1;32m~\\anaconda3\\envs\\GPT_env2\\Lib\\site-packages\\langchain_core\\language_models\\llms.py:666\u001B[0m, in \u001B[0;36mBaseLLM.generate\u001B[1;34m(self, prompts, stop, callbacks, tags, metadata, run_name, **kwargs)\u001B[0m\n\u001B[0;32m    650\u001B[0m         \u001B[38;5;28;01mraise\u001B[39;00m \u001B[38;5;167;01mValueError\u001B[39;00m(\n\u001B[0;32m    651\u001B[0m             \u001B[38;5;124m\"\u001B[39m\u001B[38;5;124mAsked to cache, but no cache found at `langchain.cache`.\u001B[39m\u001B[38;5;124m\"\u001B[39m\n\u001B[0;32m    652\u001B[0m         )\n\u001B[0;32m    653\u001B[0m     run_managers \u001B[38;5;241m=\u001B[39m [\n\u001B[0;32m    654\u001B[0m         callback_manager\u001B[38;5;241m.\u001B[39mon_llm_start(\n\u001B[0;32m    655\u001B[0m             dumpd(\u001B[38;5;28mself\u001B[39m),\n\u001B[1;32m   (...)\u001B[0m\n\u001B[0;32m    664\u001B[0m         )\n\u001B[0;32m    665\u001B[0m     ]\n\u001B[1;32m--> 666\u001B[0m     output \u001B[38;5;241m=\u001B[39m \u001B[38;5;28mself\u001B[39m\u001B[38;5;241m.\u001B[39m_generate_helper(\n\u001B[0;32m    667\u001B[0m         prompts, stop, run_managers, \u001B[38;5;28mbool\u001B[39m(new_arg_supported), \u001B[38;5;241m*\u001B[39m\u001B[38;5;241m*\u001B[39mkwargs\n\u001B[0;32m    668\u001B[0m     )\n\u001B[0;32m    669\u001B[0m     \u001B[38;5;28;01mreturn\u001B[39;00m output\n\u001B[0;32m    670\u001B[0m \u001B[38;5;28;01mif\u001B[39;00m \u001B[38;5;28mlen\u001B[39m(missing_prompts) \u001B[38;5;241m>\u001B[39m \u001B[38;5;241m0\u001B[39m:\n",
      "File \u001B[1;32m~\\anaconda3\\envs\\GPT_env2\\Lib\\site-packages\\langchain_core\\language_models\\llms.py:553\u001B[0m, in \u001B[0;36mBaseLLM._generate_helper\u001B[1;34m(self, prompts, stop, run_managers, new_arg_supported, **kwargs)\u001B[0m\n\u001B[0;32m    551\u001B[0m     \u001B[38;5;28;01mfor\u001B[39;00m run_manager \u001B[38;5;129;01min\u001B[39;00m run_managers:\n\u001B[0;32m    552\u001B[0m         run_manager\u001B[38;5;241m.\u001B[39mon_llm_error(e, response\u001B[38;5;241m=\u001B[39mLLMResult(generations\u001B[38;5;241m=\u001B[39m[]))\n\u001B[1;32m--> 553\u001B[0m     \u001B[38;5;28;01mraise\u001B[39;00m e\n\u001B[0;32m    554\u001B[0m flattened_outputs \u001B[38;5;241m=\u001B[39m output\u001B[38;5;241m.\u001B[39mflatten()\n\u001B[0;32m    555\u001B[0m \u001B[38;5;28;01mfor\u001B[39;00m manager, flattened_output \u001B[38;5;129;01min\u001B[39;00m \u001B[38;5;28mzip\u001B[39m(run_managers, flattened_outputs):\n",
      "File \u001B[1;32m~\\anaconda3\\envs\\GPT_env2\\Lib\\site-packages\\langchain_core\\language_models\\llms.py:540\u001B[0m, in \u001B[0;36mBaseLLM._generate_helper\u001B[1;34m(self, prompts, stop, run_managers, new_arg_supported, **kwargs)\u001B[0m\n\u001B[0;32m    530\u001B[0m \u001B[38;5;28;01mdef\u001B[39;00m \u001B[38;5;21m_generate_helper\u001B[39m(\n\u001B[0;32m    531\u001B[0m     \u001B[38;5;28mself\u001B[39m,\n\u001B[0;32m    532\u001B[0m     prompts: List[\u001B[38;5;28mstr\u001B[39m],\n\u001B[1;32m   (...)\u001B[0m\n\u001B[0;32m    536\u001B[0m     \u001B[38;5;241m*\u001B[39m\u001B[38;5;241m*\u001B[39mkwargs: Any,\n\u001B[0;32m    537\u001B[0m ) \u001B[38;5;241m-\u001B[39m\u001B[38;5;241m>\u001B[39m LLMResult:\n\u001B[0;32m    538\u001B[0m     \u001B[38;5;28;01mtry\u001B[39;00m:\n\u001B[0;32m    539\u001B[0m         output \u001B[38;5;241m=\u001B[39m (\n\u001B[1;32m--> 540\u001B[0m             \u001B[38;5;28mself\u001B[39m\u001B[38;5;241m.\u001B[39m_generate(\n\u001B[0;32m    541\u001B[0m                 prompts,\n\u001B[0;32m    542\u001B[0m                 stop\u001B[38;5;241m=\u001B[39mstop,\n\u001B[0;32m    543\u001B[0m                 \u001B[38;5;66;03m# TODO: support multiple run managers\u001B[39;00m\n\u001B[0;32m    544\u001B[0m                 run_manager\u001B[38;5;241m=\u001B[39mrun_managers[\u001B[38;5;241m0\u001B[39m] \u001B[38;5;28;01mif\u001B[39;00m run_managers \u001B[38;5;28;01melse\u001B[39;00m \u001B[38;5;28;01mNone\u001B[39;00m,\n\u001B[0;32m    545\u001B[0m                 \u001B[38;5;241m*\u001B[39m\u001B[38;5;241m*\u001B[39mkwargs,\n\u001B[0;32m    546\u001B[0m             )\n\u001B[0;32m    547\u001B[0m             \u001B[38;5;28;01mif\u001B[39;00m new_arg_supported\n\u001B[0;32m    548\u001B[0m             \u001B[38;5;28;01melse\u001B[39;00m \u001B[38;5;28mself\u001B[39m\u001B[38;5;241m.\u001B[39m_generate(prompts, stop\u001B[38;5;241m=\u001B[39mstop)\n\u001B[0;32m    549\u001B[0m         )\n\u001B[0;32m    550\u001B[0m     \u001B[38;5;28;01mexcept\u001B[39;00m \u001B[38;5;167;01mBaseException\u001B[39;00m \u001B[38;5;28;01mas\u001B[39;00m e:\n\u001B[0;32m    551\u001B[0m         \u001B[38;5;28;01mfor\u001B[39;00m run_manager \u001B[38;5;129;01min\u001B[39;00m run_managers:\n",
      "File \u001B[1;32m~\\anaconda3\\envs\\GPT_env2\\Lib\\site-packages\\langchain_community\\llms\\openai.py:459\u001B[0m, in \u001B[0;36mBaseOpenAI._generate\u001B[1;34m(self, prompts, stop, run_manager, **kwargs)\u001B[0m\n\u001B[0;32m    447\u001B[0m     choices\u001B[38;5;241m.\u001B[39mappend(\n\u001B[0;32m    448\u001B[0m         {\n\u001B[0;32m    449\u001B[0m             \u001B[38;5;124m\"\u001B[39m\u001B[38;5;124mtext\u001B[39m\u001B[38;5;124m\"\u001B[39m: generation\u001B[38;5;241m.\u001B[39mtext,\n\u001B[1;32m   (...)\u001B[0m\n\u001B[0;32m    456\u001B[0m         }\n\u001B[0;32m    457\u001B[0m     )\n\u001B[0;32m    458\u001B[0m \u001B[38;5;28;01melse\u001B[39;00m:\n\u001B[1;32m--> 459\u001B[0m     response \u001B[38;5;241m=\u001B[39m completion_with_retry(\n\u001B[0;32m    460\u001B[0m         \u001B[38;5;28mself\u001B[39m, prompt\u001B[38;5;241m=\u001B[39m_prompts, run_manager\u001B[38;5;241m=\u001B[39mrun_manager, \u001B[38;5;241m*\u001B[39m\u001B[38;5;241m*\u001B[39mparams\n\u001B[0;32m    461\u001B[0m     )\n\u001B[0;32m    462\u001B[0m     \u001B[38;5;28;01mif\u001B[39;00m \u001B[38;5;129;01mnot\u001B[39;00m \u001B[38;5;28misinstance\u001B[39m(response, \u001B[38;5;28mdict\u001B[39m):\n\u001B[0;32m    463\u001B[0m         \u001B[38;5;66;03m# V1 client returns the response in an PyDantic object instead of\u001B[39;00m\n\u001B[0;32m    464\u001B[0m         \u001B[38;5;66;03m# dict. For the transition period, we deep convert it to dict.\u001B[39;00m\n\u001B[0;32m    465\u001B[0m         response \u001B[38;5;241m=\u001B[39m response\u001B[38;5;241m.\u001B[39mdict()\n",
      "File \u001B[1;32m~\\anaconda3\\envs\\GPT_env2\\Lib\\site-packages\\langchain_community\\llms\\openai.py:114\u001B[0m, in \u001B[0;36mcompletion_with_retry\u001B[1;34m(llm, run_manager, **kwargs)\u001B[0m\n\u001B[0;32m    112\u001B[0m \u001B[38;5;250m\u001B[39m\u001B[38;5;124;03m\"\"\"Use tenacity to retry the completion call.\"\"\"\u001B[39;00m\n\u001B[0;32m    113\u001B[0m \u001B[38;5;28;01mif\u001B[39;00m is_openai_v1():\n\u001B[1;32m--> 114\u001B[0m     \u001B[38;5;28;01mreturn\u001B[39;00m llm\u001B[38;5;241m.\u001B[39mclient\u001B[38;5;241m.\u001B[39mcreate(\u001B[38;5;241m*\u001B[39m\u001B[38;5;241m*\u001B[39mkwargs)\n\u001B[0;32m    116\u001B[0m retry_decorator \u001B[38;5;241m=\u001B[39m _create_retry_decorator(llm, run_manager\u001B[38;5;241m=\u001B[39mrun_manager)\n\u001B[0;32m    118\u001B[0m \u001B[38;5;129m@retry_decorator\u001B[39m\n\u001B[0;32m    119\u001B[0m \u001B[38;5;28;01mdef\u001B[39;00m \u001B[38;5;21m_completion_with_retry\u001B[39m(\u001B[38;5;241m*\u001B[39m\u001B[38;5;241m*\u001B[39mkwargs: Any) \u001B[38;5;241m-\u001B[39m\u001B[38;5;241m>\u001B[39m Any:\n",
      "File \u001B[1;32m~\\anaconda3\\envs\\GPT_env2\\Lib\\site-packages\\openai\\_utils\\_utils.py:272\u001B[0m, in \u001B[0;36mrequired_args.<locals>.inner.<locals>.wrapper\u001B[1;34m(*args, **kwargs)\u001B[0m\n\u001B[0;32m    270\u001B[0m             msg \u001B[38;5;241m=\u001B[39m \u001B[38;5;124mf\u001B[39m\u001B[38;5;124m\"\u001B[39m\u001B[38;5;124mMissing required argument: \u001B[39m\u001B[38;5;132;01m{\u001B[39;00mquote(missing[\u001B[38;5;241m0\u001B[39m])\u001B[38;5;132;01m}\u001B[39;00m\u001B[38;5;124m\"\u001B[39m\n\u001B[0;32m    271\u001B[0m     \u001B[38;5;28;01mraise\u001B[39;00m \u001B[38;5;167;01mTypeError\u001B[39;00m(msg)\n\u001B[1;32m--> 272\u001B[0m \u001B[38;5;28;01mreturn\u001B[39;00m func(\u001B[38;5;241m*\u001B[39margs, \u001B[38;5;241m*\u001B[39m\u001B[38;5;241m*\u001B[39mkwargs)\n",
      "File \u001B[1;32m~\\anaconda3\\envs\\GPT_env2\\Lib\\site-packages\\openai\\resources\\completions.py:562\u001B[0m, in \u001B[0;36mCompletions.create\u001B[1;34m(self, model, prompt, best_of, echo, frequency_penalty, logit_bias, logprobs, max_tokens, n, presence_penalty, seed, stop, stream, suffix, temperature, top_p, user, extra_headers, extra_query, extra_body, timeout)\u001B[0m\n\u001B[0;32m    520\u001B[0m \u001B[38;5;129m@required_args\u001B[39m([\u001B[38;5;124m\"\u001B[39m\u001B[38;5;124mmodel\u001B[39m\u001B[38;5;124m\"\u001B[39m, \u001B[38;5;124m\"\u001B[39m\u001B[38;5;124mprompt\u001B[39m\u001B[38;5;124m\"\u001B[39m], [\u001B[38;5;124m\"\u001B[39m\u001B[38;5;124mmodel\u001B[39m\u001B[38;5;124m\"\u001B[39m, \u001B[38;5;124m\"\u001B[39m\u001B[38;5;124mprompt\u001B[39m\u001B[38;5;124m\"\u001B[39m, \u001B[38;5;124m\"\u001B[39m\u001B[38;5;124mstream\u001B[39m\u001B[38;5;124m\"\u001B[39m])\n\u001B[0;32m    521\u001B[0m \u001B[38;5;28;01mdef\u001B[39;00m \u001B[38;5;21mcreate\u001B[39m(\n\u001B[0;32m    522\u001B[0m     \u001B[38;5;28mself\u001B[39m,\n\u001B[1;32m   (...)\u001B[0m\n\u001B[0;32m    560\u001B[0m     timeout: \u001B[38;5;28mfloat\u001B[39m \u001B[38;5;241m|\u001B[39m httpx\u001B[38;5;241m.\u001B[39mTimeout \u001B[38;5;241m|\u001B[39m \u001B[38;5;28;01mNone\u001B[39;00m \u001B[38;5;241m|\u001B[39m NotGiven \u001B[38;5;241m=\u001B[39m NOT_GIVEN,\n\u001B[0;32m    561\u001B[0m ) \u001B[38;5;241m-\u001B[39m\u001B[38;5;241m>\u001B[39m Completion \u001B[38;5;241m|\u001B[39m Stream[Completion]:\n\u001B[1;32m--> 562\u001B[0m     \u001B[38;5;28;01mreturn\u001B[39;00m \u001B[38;5;28mself\u001B[39m\u001B[38;5;241m.\u001B[39m_post(\n\u001B[0;32m    563\u001B[0m         \u001B[38;5;124m\"\u001B[39m\u001B[38;5;124m/completions\u001B[39m\u001B[38;5;124m\"\u001B[39m,\n\u001B[0;32m    564\u001B[0m         body\u001B[38;5;241m=\u001B[39mmaybe_transform(\n\u001B[0;32m    565\u001B[0m             {\n\u001B[0;32m    566\u001B[0m                 \u001B[38;5;124m\"\u001B[39m\u001B[38;5;124mmodel\u001B[39m\u001B[38;5;124m\"\u001B[39m: model,\n\u001B[0;32m    567\u001B[0m                 \u001B[38;5;124m\"\u001B[39m\u001B[38;5;124mprompt\u001B[39m\u001B[38;5;124m\"\u001B[39m: prompt,\n\u001B[0;32m    568\u001B[0m                 \u001B[38;5;124m\"\u001B[39m\u001B[38;5;124mbest_of\u001B[39m\u001B[38;5;124m\"\u001B[39m: best_of,\n\u001B[0;32m    569\u001B[0m                 \u001B[38;5;124m\"\u001B[39m\u001B[38;5;124mecho\u001B[39m\u001B[38;5;124m\"\u001B[39m: echo,\n\u001B[0;32m    570\u001B[0m                 \u001B[38;5;124m\"\u001B[39m\u001B[38;5;124mfrequency_penalty\u001B[39m\u001B[38;5;124m\"\u001B[39m: frequency_penalty,\n\u001B[0;32m    571\u001B[0m                 \u001B[38;5;124m\"\u001B[39m\u001B[38;5;124mlogit_bias\u001B[39m\u001B[38;5;124m\"\u001B[39m: logit_bias,\n\u001B[0;32m    572\u001B[0m                 \u001B[38;5;124m\"\u001B[39m\u001B[38;5;124mlogprobs\u001B[39m\u001B[38;5;124m\"\u001B[39m: logprobs,\n\u001B[0;32m    573\u001B[0m                 \u001B[38;5;124m\"\u001B[39m\u001B[38;5;124mmax_tokens\u001B[39m\u001B[38;5;124m\"\u001B[39m: max_tokens,\n\u001B[0;32m    574\u001B[0m                 \u001B[38;5;124m\"\u001B[39m\u001B[38;5;124mn\u001B[39m\u001B[38;5;124m\"\u001B[39m: n,\n\u001B[0;32m    575\u001B[0m                 \u001B[38;5;124m\"\u001B[39m\u001B[38;5;124mpresence_penalty\u001B[39m\u001B[38;5;124m\"\u001B[39m: presence_penalty,\n\u001B[0;32m    576\u001B[0m                 \u001B[38;5;124m\"\u001B[39m\u001B[38;5;124mseed\u001B[39m\u001B[38;5;124m\"\u001B[39m: seed,\n\u001B[0;32m    577\u001B[0m                 \u001B[38;5;124m\"\u001B[39m\u001B[38;5;124mstop\u001B[39m\u001B[38;5;124m\"\u001B[39m: stop,\n\u001B[0;32m    578\u001B[0m                 \u001B[38;5;124m\"\u001B[39m\u001B[38;5;124mstream\u001B[39m\u001B[38;5;124m\"\u001B[39m: stream,\n\u001B[0;32m    579\u001B[0m                 \u001B[38;5;124m\"\u001B[39m\u001B[38;5;124msuffix\u001B[39m\u001B[38;5;124m\"\u001B[39m: suffix,\n\u001B[0;32m    580\u001B[0m                 \u001B[38;5;124m\"\u001B[39m\u001B[38;5;124mtemperature\u001B[39m\u001B[38;5;124m\"\u001B[39m: temperature,\n\u001B[0;32m    581\u001B[0m                 \u001B[38;5;124m\"\u001B[39m\u001B[38;5;124mtop_p\u001B[39m\u001B[38;5;124m\"\u001B[39m: top_p,\n\u001B[0;32m    582\u001B[0m                 \u001B[38;5;124m\"\u001B[39m\u001B[38;5;124muser\u001B[39m\u001B[38;5;124m\"\u001B[39m: user,\n\u001B[0;32m    583\u001B[0m             },\n\u001B[0;32m    584\u001B[0m             completion_create_params\u001B[38;5;241m.\u001B[39mCompletionCreateParams,\n\u001B[0;32m    585\u001B[0m         ),\n\u001B[0;32m    586\u001B[0m         options\u001B[38;5;241m=\u001B[39mmake_request_options(\n\u001B[0;32m    587\u001B[0m             extra_headers\u001B[38;5;241m=\u001B[39mextra_headers, extra_query\u001B[38;5;241m=\u001B[39mextra_query, extra_body\u001B[38;5;241m=\u001B[39mextra_body, timeout\u001B[38;5;241m=\u001B[39mtimeout\n\u001B[0;32m    588\u001B[0m         ),\n\u001B[0;32m    589\u001B[0m         cast_to\u001B[38;5;241m=\u001B[39mCompletion,\n\u001B[0;32m    590\u001B[0m         stream\u001B[38;5;241m=\u001B[39mstream \u001B[38;5;129;01mor\u001B[39;00m \u001B[38;5;28;01mFalse\u001B[39;00m,\n\u001B[0;32m    591\u001B[0m         stream_cls\u001B[38;5;241m=\u001B[39mStream[Completion],\n\u001B[0;32m    592\u001B[0m     )\n",
      "File \u001B[1;32m~\\anaconda3\\envs\\GPT_env2\\Lib\\site-packages\\openai\\_base_client.py:1088\u001B[0m, in \u001B[0;36mSyncAPIClient.post\u001B[1;34m(self, path, cast_to, body, options, files, stream, stream_cls)\u001B[0m\n\u001B[0;32m   1074\u001B[0m \u001B[38;5;28;01mdef\u001B[39;00m \u001B[38;5;21mpost\u001B[39m(\n\u001B[0;32m   1075\u001B[0m     \u001B[38;5;28mself\u001B[39m,\n\u001B[0;32m   1076\u001B[0m     path: \u001B[38;5;28mstr\u001B[39m,\n\u001B[1;32m   (...)\u001B[0m\n\u001B[0;32m   1083\u001B[0m     stream_cls: \u001B[38;5;28mtype\u001B[39m[_StreamT] \u001B[38;5;241m|\u001B[39m \u001B[38;5;28;01mNone\u001B[39;00m \u001B[38;5;241m=\u001B[39m \u001B[38;5;28;01mNone\u001B[39;00m,\n\u001B[0;32m   1084\u001B[0m ) \u001B[38;5;241m-\u001B[39m\u001B[38;5;241m>\u001B[39m ResponseT \u001B[38;5;241m|\u001B[39m _StreamT:\n\u001B[0;32m   1085\u001B[0m     opts \u001B[38;5;241m=\u001B[39m FinalRequestOptions\u001B[38;5;241m.\u001B[39mconstruct(\n\u001B[0;32m   1086\u001B[0m         method\u001B[38;5;241m=\u001B[39m\u001B[38;5;124m\"\u001B[39m\u001B[38;5;124mpost\u001B[39m\u001B[38;5;124m\"\u001B[39m, url\u001B[38;5;241m=\u001B[39mpath, json_data\u001B[38;5;241m=\u001B[39mbody, files\u001B[38;5;241m=\u001B[39mto_httpx_files(files), \u001B[38;5;241m*\u001B[39m\u001B[38;5;241m*\u001B[39moptions\n\u001B[0;32m   1087\u001B[0m     )\n\u001B[1;32m-> 1088\u001B[0m     \u001B[38;5;28;01mreturn\u001B[39;00m cast(ResponseT, \u001B[38;5;28mself\u001B[39m\u001B[38;5;241m.\u001B[39mrequest(cast_to, opts, stream\u001B[38;5;241m=\u001B[39mstream, stream_cls\u001B[38;5;241m=\u001B[39mstream_cls))\n",
      "File \u001B[1;32m~\\anaconda3\\envs\\GPT_env2\\Lib\\site-packages\\openai\\_base_client.py:853\u001B[0m, in \u001B[0;36mSyncAPIClient.request\u001B[1;34m(self, cast_to, options, remaining_retries, stream, stream_cls)\u001B[0m\n\u001B[0;32m    844\u001B[0m \u001B[38;5;28;01mdef\u001B[39;00m \u001B[38;5;21mrequest\u001B[39m(\n\u001B[0;32m    845\u001B[0m     \u001B[38;5;28mself\u001B[39m,\n\u001B[0;32m    846\u001B[0m     cast_to: Type[ResponseT],\n\u001B[1;32m   (...)\u001B[0m\n\u001B[0;32m    851\u001B[0m     stream_cls: \u001B[38;5;28mtype\u001B[39m[_StreamT] \u001B[38;5;241m|\u001B[39m \u001B[38;5;28;01mNone\u001B[39;00m \u001B[38;5;241m=\u001B[39m \u001B[38;5;28;01mNone\u001B[39;00m,\n\u001B[0;32m    852\u001B[0m ) \u001B[38;5;241m-\u001B[39m\u001B[38;5;241m>\u001B[39m ResponseT \u001B[38;5;241m|\u001B[39m _StreamT:\n\u001B[1;32m--> 853\u001B[0m     \u001B[38;5;28;01mreturn\u001B[39;00m \u001B[38;5;28mself\u001B[39m\u001B[38;5;241m.\u001B[39m_request(\n\u001B[0;32m    854\u001B[0m         cast_to\u001B[38;5;241m=\u001B[39mcast_to,\n\u001B[0;32m    855\u001B[0m         options\u001B[38;5;241m=\u001B[39moptions,\n\u001B[0;32m    856\u001B[0m         stream\u001B[38;5;241m=\u001B[39mstream,\n\u001B[0;32m    857\u001B[0m         stream_cls\u001B[38;5;241m=\u001B[39mstream_cls,\n\u001B[0;32m    858\u001B[0m         remaining_retries\u001B[38;5;241m=\u001B[39mremaining_retries,\n\u001B[0;32m    859\u001B[0m     )\n",
      "File \u001B[1;32m~\\anaconda3\\envs\\GPT_env2\\Lib\\site-packages\\openai\\_base_client.py:930\u001B[0m, in \u001B[0;36mSyncAPIClient._request\u001B[1;34m(self, cast_to, options, remaining_retries, stream, stream_cls)\u001B[0m\n\u001B[0;32m    927\u001B[0m     \u001B[38;5;28;01mif\u001B[39;00m \u001B[38;5;129;01mnot\u001B[39;00m err\u001B[38;5;241m.\u001B[39mresponse\u001B[38;5;241m.\u001B[39mis_closed:\n\u001B[0;32m    928\u001B[0m         err\u001B[38;5;241m.\u001B[39mresponse\u001B[38;5;241m.\u001B[39mread()\n\u001B[1;32m--> 930\u001B[0m     \u001B[38;5;28;01mraise\u001B[39;00m \u001B[38;5;28mself\u001B[39m\u001B[38;5;241m.\u001B[39m_make_status_error_from_response(err\u001B[38;5;241m.\u001B[39mresponse) \u001B[38;5;28;01mfrom\u001B[39;00m \u001B[38;5;28;01mNone\u001B[39;00m\n\u001B[0;32m    932\u001B[0m \u001B[38;5;28;01mreturn\u001B[39;00m \u001B[38;5;28mself\u001B[39m\u001B[38;5;241m.\u001B[39m_process_response(\n\u001B[0;32m    933\u001B[0m     cast_to\u001B[38;5;241m=\u001B[39mcast_to,\n\u001B[0;32m    934\u001B[0m     options\u001B[38;5;241m=\u001B[39moptions,\n\u001B[1;32m   (...)\u001B[0m\n\u001B[0;32m    937\u001B[0m     stream_cls\u001B[38;5;241m=\u001B[39mstream_cls,\n\u001B[0;32m    938\u001B[0m )\n",
      "\u001B[1;31mBadRequestError\u001B[0m: Error code: 400 - {'error': {'message': \"This model's maximum context length is 4097 tokens, however you requested 10414 tokens (10158 in your prompt; 256 for the completion). Please reduce your prompt; or completion length.\", 'type': 'invalid_request_error', 'param': None, 'code': None}}"
     ]
    }
   ],
   "source": [
    "agent.run(\"How many wins did Verstappen (surname) get in 2023 only?\")\n"
   ],
   "metadata": {
    "collapsed": false,
    "ExecuteTime": {
     "end_time": "2024-01-07T00:18:39.147196Z",
     "start_time": "2024-01-07T00:18:37.252488300Z"
    }
   },
   "id": "94b5fc6d409a71a4"
  }
 ],
 "metadata": {
  "kernelspec": {
   "display_name": "Python 3",
   "language": "python",
   "name": "python3"
  },
  "language_info": {
   "codemirror_mode": {
    "name": "ipython",
    "version": 2
   },
   "file_extension": ".py",
   "mimetype": "text/x-python",
   "name": "python",
   "nbconvert_exporter": "python",
   "pygments_lexer": "ipython2",
   "version": "2.7.6"
  }
 },
 "nbformat": 4,
 "nbformat_minor": 5
}
